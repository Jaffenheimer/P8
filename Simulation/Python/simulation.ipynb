{
 "cells": [
  {
   "cell_type": "code",
   "execution_count": 4,
   "id": "637f945d-6ab3-4d54-b166-1f3af97c4a3c",
   "metadata": {},
   "outputs": [
    {
     "name": "stdout",
     "output_type": "stream",
     "text": [
      " Retrying in 1 seconds\n"
     ]
    },
    {
     "name": "stderr",
     "output_type": "stream",
     "text": [
      "/tmp/ipykernel_11761/259109834.py:157: FutureWarning: Setting an item of incompatible dtype is deprecated and will raise an error in a future version of pandas. Value '' has dtype incompatible with float64, please explicitly cast to a compatible dtype first.\n",
      "  df.loc[df3StartLength + i, \"DistanceToNextBus\"] = str(getNextBusInRoute(vehicleId, busDistances))\n",
      "/tmp/ipykernel_11761/259109834.py:159: FutureWarning: Setting an item of incompatible dtype is deprecated and will raise an error in a future version of pandas. Value '{'bs_road_-overlap_L': 0, 'bs_road_-overlap_R': 0, 'bs_road_-R2': 0, 'bs_road_-R1': 0, 'bs_road_-R0': 0, 'bs_road_-L3': 0, 'bs_road_-L2': 0, 'bs_road_-L1': 0, 'bs_road_-L0': 0}' has dtype incompatible with float64, please explicitly cast to a compatible dtype first.\n",
      "  df.loc[df3StartLength + i, \"peopleAtBusStops\"] = str(peopleAtBusStops)\n"
     ]
    },
    {
     "name": "stdout",
     "output_type": "stream",
     "text": [
      "Step #400.00 (3ms ~= 333.33*RT, ~3333.33UPS, TraCI: 149ms, vehicles TOT 10 ACT 10 BUF 0)  \r"
     ]
    },
    {
     "name": "stderr",
     "output_type": "stream",
     "text": [
      "Warning: Person 'person_from_-L1_to_-L3.8' is jammed on edge '-L1', time=414.00.\n",
      "Warning: Person 'person_from_-L0_to_-L3.9' is jammed on edge '-L0', time=417.00.\n",
      "Warning: Person 'person_from_-L2_to_-L0.9' is jammed on edge '-L2', time=419.00.\n",
      "Warning: Person 'person_from_-L0_to_-L2.8' is jammed on edge '-L0', time=420.00.\n",
      "Warning: Person 'person_from_-L0_to_-L3.10' is jammed on edge '-L0', time=420.00.\n",
      "Warning: Person 'person_from_-L2_to_-L3.9' is jammed on edge '-L2', time=420.00.\n",
      "Warning: Person 'person_from_-L2_to_-L3.10' is jammed on edge '-L2', time=421.00.\n",
      "Warning: Person 'person_from_-L0_to_-overlap.10' is jammed on edge '-L0', time=422.00.\n",
      "Warning: Person 'person_from_-L2_to_-L3.11' is jammed on edge '-L2', time=423.00.\n",
      "Warning: Person 'person_from_-R1_to_-overlap.13' is jammed on edge '-R1', time=423.00.\n",
      "Warning: Person 'person_from_-L0_to_-overlap.11' is jammed on edge '-L0', time=424.00.\n",
      "Warning: Person 'person_from_-L1_to_-overlap.6' is jammed on edge '-L1', time=424.00.\n",
      "Warning: Person 'person_from_-L2_to_-L3.12' is jammed on edge '-L2', time=424.00.\n",
      "Warning: Person 'person_from_-L0_to_-overlap.12' is jammed on edge '-L0', time=426.00.\n",
      "Warning: Person 'person_from_-R0_to_-R2.7' is jammed on edge '-R0', time=428.00.\n",
      "Warning: Person 'person_from_-R0_to_-overlap.20' is jammed on edge '-R0', time=429.00.\n",
      "Warning: Person 'person_from_-R0_to_-R2.8' is jammed on edge '-R0', time=430.00.\n",
      "Warning: Person 'person_from_-R1_to_-overlap.14' is jammed on edge '-R1', time=432.00.\n",
      "Warning: Person 'person_from_-L0_to_-L3.11' is jammed on edge '-L0', time=433.00.\n",
      "Warning: Person 'person_from_-L2_to_-overlap.12' is jammed on edge '-L2', time=433.00.\n",
      "Warning: Person 'person_from_-L2_to_-L1.11' is jammed on edge '-L2', time=434.00.\n",
      "Warning: Person 'person_from_-L2_to_-L3.13' is jammed on edge '-L2', time=436.00.\n",
      "Warning: Person 'person_from_-R1_to_-overlap.15' is jammed on edge '-R1', time=436.00.\n",
      "Warning: Person 'person_from_-R0_to_-R2.9' is jammed on edge '-R0', time=441.00.\n",
      "Warning: Person 'person_from_-L0_to_-overlap.13' is jammed on edge '-L0', time=442.00.\n",
      "Warning: Person 'person_from_-L2_to_-L1.12' is jammed on edge '-L2', time=452.00.\n",
      "Warning: Person 'person_from_-L2_to_-L3.14' is jammed on edge '-L2', time=452.00.\n",
      "Warning: Person 'person_from_-L0_to_-L3.12' is jammed on edge '-L0', time=453.00.\n",
      "Warning: Person 'person_from_-L0_to_-L2.9' is jammed on edge '-L0', time=455.00.\n",
      "Warning: Person 'person_from_-L1_to_-L2.17' is jammed on edge '-L1', time=455.00.\n",
      "Warning: Person 'person_from_-L2_to_-L1.13' is jammed on edge '-L2', time=455.00.\n",
      "Warning: Person 'person_from_-L0_to_-L2.10' is jammed on edge '-L0', time=456.00.\n",
      "Warning: Person 'person_from_-L1_to_-L3.9' is jammed on edge '-L1', time=456.00.\n",
      "Warning: Person 'person_from_-L0_to_-L3.13' is jammed on edge '-L0', time=457.00.\n",
      "Warning: Person 'person_from_-L1_to_-L2.18' is jammed on edge '-L1', time=458.00.\n",
      "Warning: Person 'person_from_-L1_to_-overlap.7' is jammed on edge '-L1', time=458.00.\n",
      "Warning: Person 'person_from_-L3_to_-L2.19' is jammed on edge '-L3', time=458.00.\n",
      "Warning: Person 'person_from_-L0_to_-L3.14' is jammed on edge '-L0', time=460.00.\n",
      "Warning: Person 'person_from_-L2_to_-L3.15' is jammed on edge '-L2', time=460.00.\n",
      "Warning: Person 'person_from_-L0_to_-L3.15' is jammed on edge '-L0', time=461.00.\n",
      "Warning: Person 'person_from_-L0_to_-overlap.14' is jammed on edge '-L0', time=462.00.\n",
      "Warning: Person 'person_from_-L1_to_-L3.10' is jammed on edge '-L1', time=462.00.\n",
      "Warning: Person 'person_from_-R0_to_-overlap.21' is jammed on edge '-R0', time=462.00.\n",
      "Warning: Person 'person_from_-L2_to_-L1.14' is jammed on edge '-L2', time=463.00.\n",
      "Warning: Person 'person_from_-L0_to_-overlap.15' is jammed on edge '-L0', time=464.00.\n",
      "Warning: Person 'person_from_-L1_to_-overlap.8' is jammed on edge '-L1', time=465.00.\n",
      "Warning: Person 'person_from_-R0_to_-overlap.22' is jammed on edge '-R0', time=465.00.\n",
      "Warning: Person 'person_from_-R0_to_-overlap.23' is jammed on edge '-R0', time=466.00.\n",
      "Warning: Person 'person_from_-L0_to_-L3.16' is jammed on edge '-L0', time=467.00.\n",
      "Warning: Person 'person_from_-L2_to_-L3.16' is jammed on edge '-L2', time=467.00.\n",
      "Warning: Person 'person_from_-L0_to_-L3.17' is jammed on edge '-L0', time=468.00.\n",
      "Warning: Person 'person_from_-L1_to_-overlap.9' is jammed on edge '-L1', time=468.00.\n",
      "Warning: Person 'person_from_-L1_to_-overlap.10' is jammed on edge '-L1', time=469.00.\n",
      "Warning: Person 'person_from_-L1_to_-overlap.11' is jammed on edge '-L1', time=470.00.\n",
      "Warning: Person 'person_from_-L0_to_-overlap.16' is jammed on edge '-L0', time=472.00.\n",
      "Warning: Person 'person_from_-L3_to_-L2.21' is jammed on edge '-L3', time=472.00.\n",
      "Warning: Person 'person_from_-L2_to_-L1.15' is jammed on edge '-L2', time=473.00.\n",
      "Warning: Person 'person_from_-L0_to_-L3.18' is jammed on edge '-L0', time=475.00.\n",
      "Warning: Person 'person_from_-L2_to_-overlap.13' is jammed on edge '-L2', time=475.00.\n",
      "Warning: Person 'person_from_-L2_to_-L1.16' is jammed on edge '-L2', time=478.00.\n",
      "Warning: Person 'person_from_-L0_to_-L2.11' is jammed on edge '-L0', time=479.00.\n",
      "Warning: Person 'person_from_-L1_to_-L2.20' is jammed on edge '-L1', time=480.00.\n",
      "Warning: Person 'person_from_-L0_to_-L3.19' is jammed on edge '-L0', time=481.00.\n",
      "Warning: Person 'person_from_-L0_to_-overlap.17' is jammed on edge '-L0', time=481.00.\n",
      "Warning: Person 'person_from_-L1_to_-L2.21' is jammed on edge '-L1', time=486.00.\n",
      "Warning: Person 'person_from_-L0_to_-overlap.18' is jammed on edge '-L0', time=487.00.\n",
      "Warning: Person 'person_from_-L3_to_-L2.22' is jammed on edge '-L3', time=490.00.\n",
      "Warning: Person 'person_from_-L2_to_-overlap.14' is jammed on edge '-L2', time=491.00.\n",
      "Warning: Person 'person_from_-R0_to_-overlap.24' is jammed on edge '-R0', time=491.00.\n",
      "Warning: Person 'person_from_-L2_to_-overlap.15' is jammed on edge '-L2', time=492.00.\n",
      "Warning: Person 'person_from_-L3_to_-L2.23' is jammed on edge '-L3', time=493.00.\n",
      "Warning: Person 'person_from_-L1_to_-L3.12' is jammed on edge '-L1', time=494.00.\n",
      "Warning: Person 'person_from_-L1_to_-overlap.12' is jammed on edge '-L1', time=494.00.\n",
      "Warning: Person 'person_from_-L2_to_-L1.17' is jammed on edge '-L2', time=497.00.\n",
      "Warning: Person 'person_from_-L2_to_-L3.17' is jammed on edge '-L2', time=497.00.\n"
     ]
    },
    {
     "name": "stdout",
     "output_type": "stream",
     "text": [
      "Step #500.00 (2ms ~= 500.00*RT, ~5000.00UPS, TraCI: 198ms, vehicles TOT 10 ACT 10 BUF 0)  \n"
     ]
    }
   ],
   "source": [
    "#MAIN SUMO IMPLEMENTATION FOR OUR PROJECT\n",
    "import traci\n",
    "import pandas as pd\n",
    "from os import path, mkdir\n",
    "\n",
    "\n",
    "try:\n",
    "    # Connect to SUMO simulation\n",
    "    traci.start([\"sumo\", \"-c\", path.abspath(\"../SUMO/test.sumocfg\")])\n",
    "\n",
    "    # Function definitions\n",
    "    def intersection(lst1, lst2):\n",
    "        lst3 = [value for value in lst1 if value in lst2]\n",
    "        return lst3\n",
    "\n",
    "    def getNextBusInRoute(vehicleId, distances):\n",
    "        if (len(distances) == 0 or len(distances) == 1):  return \"\"\n",
    "        sortedDists = sorted(list(distances.values()))\n",
    "        nextDistanceValueInRoute = sortedDists[(sortedDists.index(distances[vehicleId]) + 1) % len(sortedDists)]\n",
    "        return [{key: values} for key, values in distances.items() if values == nextDistanceValueInRoute]\n",
    "\n",
    "    def calculateDistanceBusStopAndOtherBusStop():\n",
    "        # finds bus stop on route\n",
    "        position = traci.vehicle.getLanePosition(vehicleId)\n",
    "        edgeId = traci.vehicle.getRoadID(vehicleId)\n",
    "\n",
    "        busLocation = 0.0\n",
    "\n",
    "        # handles case if the edge is a junction\n",
    "        # otherwise, we simply assign the other route\n",
    "        if edgeId not in busLocationDict:\n",
    "            parsedJunction = edgeId.split(\"_\")[0].replace(\":\", \"\")\n",
    "            adjacentEdges = intersection(junctionDict[parsedJunction], route_names[route_index])\n",
    "\n",
    "            # creates a list of tuples, each containing an edge and its index\n",
    "            indexed_edges = [(edge, route_names[route_index].index(edge)) for edge in adjacentEdges]\n",
    "\n",
    "            # sorts the list by index\n",
    "            indexed_edges.sort(key=lambda x: x[1])\n",
    "\n",
    "            # gets the edges with the smallest and largest index\n",
    "            edgeId, _ = indexed_edges[0]\n",
    "            otherEdgeId, _ = indexed_edges[-1]\n",
    "\n",
    "            # when the route repeats at the last road, the last road should be the previous lane, and the first road should be the next lane\n",
    "            # thus not following the pattern of smallest and largest index\n",
    "            if(edgeId == \"-overlap\" and otherEdgeId == \"-L0\" or \n",
    "                edgeId == \"-overlap\" and otherEdgeId == \"-R0\"):\n",
    "                other = -1\n",
    "                position = traci.lane.getLength(otherEdgeId + \"_0\")\n",
    "            else:\n",
    "                # otherwise, the direction is as expected, and we set it to 1.\n",
    "                other = 1\n",
    "                position = traci.lane.getLength(edgeId + \"_0\")\n",
    "            busLocation = float(busLocationDict[edgeId])\n",
    "        else:\n",
    "            busLocation = float(busLocationDict[edgeId])\n",
    "            other = 1 if position > busLocation else -1     # 1 for other as the next lane, -1 for other as the previous lane\n",
    "            otherEdgeId = route_names[route_index][(route_names[route_index].index(edgeId) + other) % len(route_names[route_index])]\n",
    "            \n",
    "        routeLength = traci.lane.getLength(edgeId + \"_0\")\n",
    "\n",
    "        ## finds other bus stop on either previous or next route\n",
    "        otherBusLocation = float(busLocationDict[otherEdgeId])\n",
    "        otherRouteLength = traci.lane.getLength(otherEdgeId + \"_0\")\n",
    "\n",
    "        distanceBusLocation = round(abs(position - busLocation), 3)\n",
    "        distanceOtherBusLocation = round(position + otherRouteLength - otherBusLocation if other == -1 else routeLength - position + otherBusLocation, 3)\n",
    "\n",
    "        return distanceBusLocation, distanceOtherBusLocation, other\n",
    "\n",
    "\n",
    "    # initializations\n",
    "    df = pd.DataFrame(\n",
    "        {\n",
    "        \"Step\": [],\n",
    "        \"Id\": [],\n",
    "        \"Route\": [],\n",
    "        \"NextBusStop\": [],\n",
    "        \"DistanceToNextBus\": [],\n",
    "        \"PedestrianCount\": [],\n",
    "        \"AverageWaitTime\": [],\n",
    "        \"peopleAtBusStops\": [],\n",
    "        }\n",
    "    )\n",
    "\n",
    "    repeats = 100\n",
    "    route0_edges = traci.route.getEdges(\"r_0\")\n",
    "    route1_edges = traci.route.getEdges(\"r_1\")\n",
    "\n",
    "    route_lengths = [sum(traci.lane.getLength(edge + \"_0\") for edge in route0_edges) / repeats, sum(traci.lane.getLength(edge + \"_0\") for edge in route1_edges) / repeats]\n",
    "    route_busstops = [[\"bs_road_-overlap\", \"bs_road_-R2\", \"bs_road_-R1\", \"bs_road_-R0\"], [\"bs_road_-overlap\", \"bs_road_-L3\", \"bs_road_-L2\", \"bs_road_-L1\", \"bs_road_-L0\"]]\n",
    "\n",
    "    busLocationDict={\"-overlap\": \"123\", \"-R2\": \"259\", \"-R1\": \"125\", \"-R0\": \"267\", \"-L3\": \"117\", \"-L2\": \"110\", \"-L1\": \"123\", \"-L0\": \"120\"}\n",
    "    junctionDict={\"J1\": [\"-L0\", \"-R0\", \"-overlap\"], \"J2\": [\"-R0\", \"-R1\"], \"J3\": [\"-R1\", \"-R2\"], \"J4\": [\"-L3\", \"-R2\", \"-overlap\"], \"J5\": [\"-L0\", \"-L1\"], \"J7\": [\"-L1\", \"-L2\"], \"J8\": [\"-L2\", \"-L3\"]}\n",
    "    route_names = [[\"-overlap\", \"-R2\", \"-R1\", \"-R0\"], [\"-overlap\", \"-L3\", \"-L2\", \"-L1\", \"-L0\"]]\n",
    "    busStops = [\"bs_road_-R2\", \"bs_road_-R1\", \"bs_road_-R0\", \"bs_road_-L3\", \"bs_road_-L2\", \"bs_road_-L1\", \"bs_road_-L0\"] # excluding overlap for special case handling\n",
    "\n",
    "    # simulation loop\n",
    "    step = 0\n",
    "    while step < 500:\n",
    "        traci.simulationStep()\n",
    "\n",
    "        vehicles = traci.vehicle.getIDList()\n",
    "        persons = traci.person.getIDList()\n",
    "    \n",
    "        step += 1\n",
    "\n",
    "        distanceDrivenInRoutesList = [{}, {}] # contains both routes in different lists with the busses positions on the routes\n",
    "        personsWaitingTimeList = []\n",
    "\n",
    "        df3StartLength = len(df)\n",
    "        peopleAtBusStops = {'bs_road_-overlap_L':0, 'bs_road_-overlap_R':0} \n",
    "\n",
    "        ### finds the number of people at each bus stop\n",
    "        for busStop in busStops:\n",
    "            peopleAtBusStops[busStop] = traci.busstop.getPersonCount(busStop)\n",
    "        \n",
    "        # handles special case with overlap, where persons can choose both routes\n",
    "        for person in traci.busstop.getPersonIDs(\"bs_road_-overlap\"):\n",
    "            if \"person_from_-overlap_to_-L\" in person:\n",
    "                peopleAtBusStops[\"bs_road_-overlap_L\"] += 1\n",
    "            else:\n",
    "                peopleAtBusStops[\"bs_road_-overlap_R\"] += 1\n",
    "\n",
    "        # finds the step, id, route, and pedestrian count of the vehicle and adds it to the dataframe\n",
    "            # also calculates the vehicle's distance driven on the route, and the distance to the previous and next bus stop\n",
    "            # this info is added to the dataframe later in the third for-loop\n",
    "        for i in range(0, len(vehicles)):\n",
    "            vehicleId = vehicles[i]\n",
    "            vehicleRoute = traci.vehicle.getRouteID(vehicleId)\n",
    "            route_index = 0 if vehicleRoute == \"r_0\" else 1  # r_0 = route_index=0, r_1 = route_index=1\n",
    "\n",
    "            # inserts the step and route of the vehicle into the dataframe\n",
    "            df.loc[len(df)] = {\"Step\": step, \"Id\": vehicleId, \"Route\": vehicleRoute, \"PedestrianCount\": len(persons)}\n",
    "\n",
    "            ### calculate distance driven on the route and insert it into the dfRoutes list\n",
    "            vehicleDistanceDriven = round(traci.vehicle.getDistance(vehicleId) % (route_lengths[0] if (vehicleRoute == \"r_0\") else route_lengths[1]), 3)\n",
    "            distanceDrivenInRoutesList[route_index][vehicleId] = vehicleDistanceDriven\n",
    "\n",
    "            ### now calculate the distance to the previous and next bus stop\n",
    "            distanceBusLocation, distanceOtherBusLocation, other = calculateDistanceBusStopAndOtherBusStop()\n",
    "            df.loc[df3StartLength + i, \"NextBusStop\"] = distanceBusLocation if other == -1 else distanceOtherBusLocation\n",
    "        \n",
    "        # finds person waiting time\n",
    "        for j in range(0,len(persons)):\n",
    "            personWaitingTime = traci.person.getWaitingTime(persons[j])\n",
    "            personsWaitingTimeList.append(personWaitingTime)\n",
    "\n",
    "        # inserts the distance to the next bus stop and the average waiting time into the dataframe\n",
    "        for i in range(0, len(vehicles)):\n",
    "            busDistances = distanceDrivenInRoutesList[0] if traci.vehicle.getRouteID(vehicles[i]) == \"r_0\" else distanceDrivenInRoutesList[1]\n",
    "            vehicleId = vehicles[i]\n",
    "            length = len(personsWaitingTimeList)\n",
    "            averageWaitTime = sum(personsWaitingTimeList)/length if length > 0 else 0\n",
    "\n",
    "            df.loc[df3StartLength + i, \"DistanceToNextBus\"] = str(getNextBusInRoute(vehicleId, busDistances))\n",
    "            df.loc[df3StartLength + i, \"AverageWaitTime\"] = averageWaitTime\n",
    "            df.loc[df3StartLength + i, \"peopleAtBusStops\"] = str(peopleAtBusStops)\n",
    "\n",
    "            if (path.isdir(\"../Output\") == False):\n",
    "                mkdir(\"../Output\")\n",
    "    # print(df)\n",
    "    df.to_csv(\"../Output/output.csv\", index=False)\n",
    "finally:\n",
    "    traci.close() "
   ]
  },
  {
   "cell_type": "code",
   "execution_count": 5,
   "id": "9839ea96",
   "metadata": {},
   "outputs": [
    {
     "name": "stdout",
     "output_type": "stream",
     "text": [
      " Retrying in 1 seconds\n"
     ]
    },
    {
     "name": "stderr",
     "output_type": "stream",
     "text": [
      "Error: Could not access configuration '/home/krogh/src/P8-Mobility/Simulation/Python/test.sumocfg'.\n",
      "Quitting (on error).\n",
      "/home/krogh/.local/lib/python3.10/site-packages/traci/main.py:154: UserWarning: Could not connect to TraCI server using port 40233 (TraCI server already finished). Retrying with different port.\n",
      "  warnings.warn((\"Could not connect to TraCI server using port %s (%s).\" +\n",
      "Error: Could not access configuration '/home/krogh/src/P8-Mobility/Simulation/Python/test.sumocfg'.\n",
      "Quitting (on error).\n"
     ]
    },
    {
     "name": "stdout",
     "output_type": "stream",
     "text": [
      " Retrying in 1 seconds\n"
     ]
    },
    {
     "name": "stderr",
     "output_type": "stream",
     "text": [
      "/home/krogh/.local/lib/python3.10/site-packages/traci/main.py:154: UserWarning: Could not connect to TraCI server using port 49191 (TraCI server already finished). Retrying with different port.\n",
      "  warnings.warn((\"Could not connect to TraCI server using port %s (%s).\" +\n",
      "Error: Could not access configuration '/home/krogh/src/P8-Mobility/Simulation/Python/test.sumocfg'.\n",
      "Quitting (on error).\n"
     ]
    },
    {
     "name": "stdout",
     "output_type": "stream",
     "text": [
      " Retrying in 1 seconds\n"
     ]
    },
    {
     "name": "stderr",
     "output_type": "stream",
     "text": [
      "/home/krogh/.local/lib/python3.10/site-packages/traci/main.py:154: UserWarning: Could not connect to TraCI server using port 39029 (TraCI server already finished). Retrying with different port.\n",
      "  warnings.warn((\"Could not connect to TraCI server using port %s (%s).\" +\n",
      "Error: Could not access configuration '/home/krogh/src/P8-Mobility/Simulation/Python/test.sumocfg'.\n",
      "Quitting (on error).\n"
     ]
    },
    {
     "name": "stdout",
     "output_type": "stream",
     "text": [
      " Retrying in 1 seconds\n"
     ]
    },
    {
     "name": "stderr",
     "output_type": "stream",
     "text": [
      "/home/krogh/.local/lib/python3.10/site-packages/traci/main.py:154: UserWarning: Could not connect to TraCI server using port 48113 (TraCI server already finished). Retrying with different port.\n",
      "  warnings.warn((\"Could not connect to TraCI server using port %s (%s).\" +\n",
      "Error: Could not access configuration '/home/krogh/src/P8-Mobility/Simulation/Python/test.sumocfg'.\n",
      "Quitting (on error).\n"
     ]
    },
    {
     "name": "stdout",
     "output_type": "stream",
     "text": [
      " Retrying in 1 seconds\n"
     ]
    },
    {
     "name": "stderr",
     "output_type": "stream",
     "text": [
      "/home/krogh/.local/lib/python3.10/site-packages/traci/main.py:154: UserWarning: Could not connect to TraCI server using port 42801 (TraCI server already finished). Retrying with different port.\n",
      "  warnings.warn((\"Could not connect to TraCI server using port %s (%s).\" +\n",
      "Error: Could not access configuration '/home/krogh/src/P8-Mobility/Simulation/Python/test.sumocfg'.\n",
      "Quitting (on error).\n"
     ]
    },
    {
     "name": "stdout",
     "output_type": "stream",
     "text": [
      " Retrying in 1 seconds\n"
     ]
    },
    {
     "name": "stderr",
     "output_type": "stream",
     "text": [
      "/home/krogh/.local/lib/python3.10/site-packages/traci/main.py:154: UserWarning: Could not connect to TraCI server using port 50205 (TraCI server already finished). Retrying with different port.\n",
      "  warnings.warn((\"Could not connect to TraCI server using port %s (%s).\" +\n",
      "Error: Could not access configuration '/home/krogh/src/P8-Mobility/Simulation/Python/test.sumocfg'.\n",
      "Quitting (on error).\n"
     ]
    },
    {
     "name": "stdout",
     "output_type": "stream",
     "text": [
      " Retrying in 1 seconds\n"
     ]
    },
    {
     "name": "stderr",
     "output_type": "stream",
     "text": [
      "/home/krogh/.local/lib/python3.10/site-packages/traci/main.py:154: UserWarning: Could not connect to TraCI server using port 44751 (TraCI server already finished). Retrying with different port.\n",
      "  warnings.warn((\"Could not connect to TraCI server using port %s (%s).\" +\n",
      "Error: Could not access configuration '/home/krogh/src/P8-Mobility/Simulation/Python/test.sumocfg'.\n",
      "Quitting (on error).\n"
     ]
    },
    {
     "name": "stdout",
     "output_type": "stream",
     "text": [
      " Retrying in 1 seconds\n"
     ]
    },
    {
     "name": "stderr",
     "output_type": "stream",
     "text": [
      "/home/krogh/.local/lib/python3.10/site-packages/traci/main.py:154: UserWarning: Could not connect to TraCI server using port 34753 (TraCI server already finished). Retrying with different port.\n",
      "  warnings.warn((\"Could not connect to TraCI server using port %s (%s).\" +\n",
      "Error: Could not access configuration '/home/krogh/src/P8-Mobility/Simulation/Python/test.sumocfg'.\n",
      "Quitting (on error).\n"
     ]
    },
    {
     "name": "stdout",
     "output_type": "stream",
     "text": [
      " Retrying in 1 seconds\n"
     ]
    },
    {
     "name": "stderr",
     "output_type": "stream",
     "text": [
      "/home/krogh/.local/lib/python3.10/site-packages/traci/main.py:154: UserWarning: Could not connect to TraCI server using port 60211 (TraCI server already finished). Retrying with different port.\n",
      "  warnings.warn((\"Could not connect to TraCI server using port %s (%s).\" +\n",
      "Error: Could not access configuration '/home/krogh/src/P8-Mobility/Simulation/Python/test.sumocfg'.\n",
      "Quitting (on error).\n"
     ]
    },
    {
     "name": "stdout",
     "output_type": "stream",
     "text": [
      " Retrying in 1 seconds\n"
     ]
    },
    {
     "name": "stderr",
     "output_type": "stream",
     "text": [
      "/home/krogh/.local/lib/python3.10/site-packages/traci/main.py:154: UserWarning: Could not connect to TraCI server using port 55315 (TraCI server already finished). Retrying with different port.\n",
      "  warnings.warn((\"Could not connect to TraCI server using port %s (%s).\" +\n",
      "Error: Could not access configuration '/home/krogh/src/P8-Mobility/Simulation/Python/test.sumocfg'.\n",
      "Quitting (on error).\n"
     ]
    },
    {
     "name": "stdout",
     "output_type": "stream",
     "text": [
      " Retrying in 1 seconds\n"
     ]
    },
    {
     "name": "stderr",
     "output_type": "stream",
     "text": [
      "/home/krogh/.local/lib/python3.10/site-packages/traci/main.py:154: UserWarning: Could not connect to TraCI server using port 38363 (TraCI server already finished). Retrying with different port.\n",
      "  warnings.warn((\"Could not connect to TraCI server using port %s (%s).\" +\n",
      "Error: Could not access configuration '/home/krogh/src/P8-Mobility/Simulation/Python/test.sumocfg'.\n",
      "Quitting (on error).\n"
     ]
    },
    {
     "name": "stdout",
     "output_type": "stream",
     "text": [
      " Retrying in 1 seconds\n"
     ]
    },
    {
     "name": "stderr",
     "output_type": "stream",
     "text": [
      "/home/krogh/.local/lib/python3.10/site-packages/traci/main.py:154: UserWarning: Could not connect to TraCI server using port 49385 (TraCI server already finished). Retrying with different port.\n",
      "  warnings.warn((\"Could not connect to TraCI server using port %s (%s).\" +\n",
      "Error: Could not access configuration '/home/krogh/src/P8-Mobility/Simulation/Python/test.sumocfg'.\n",
      "Quitting (on error).\n"
     ]
    },
    {
     "name": "stdout",
     "output_type": "stream",
     "text": [
      " Retrying in 1 seconds\n"
     ]
    },
    {
     "name": "stderr",
     "output_type": "stream",
     "text": [
      "/home/krogh/.local/lib/python3.10/site-packages/traci/main.py:154: UserWarning: Could not connect to TraCI server using port 57187 (TraCI server already finished). Retrying with different port.\n",
      "  warnings.warn((\"Could not connect to TraCI server using port %s (%s).\" +\n",
      "Error: Could not access configuration '/home/krogh/src/P8-Mobility/Simulation/Python/test.sumocfg'.\n",
      "Quitting (on error).\n"
     ]
    },
    {
     "name": "stdout",
     "output_type": "stream",
     "text": [
      " Retrying in 1 seconds\n"
     ]
    },
    {
     "name": "stderr",
     "output_type": "stream",
     "text": [
      "/home/krogh/.local/lib/python3.10/site-packages/traci/main.py:154: UserWarning: Could not connect to TraCI server using port 48301 (TraCI server already finished). Retrying with different port.\n",
      "  warnings.warn((\"Could not connect to TraCI server using port %s (%s).\" +\n",
      "Error: Could not access configuration '/home/krogh/src/P8-Mobility/Simulation/Python/test.sumocfg'.\n",
      "Quitting (on error).\n"
     ]
    },
    {
     "name": "stdout",
     "output_type": "stream",
     "text": [
      " Retrying in 1 seconds\n"
     ]
    },
    {
     "name": "stderr",
     "output_type": "stream",
     "text": [
      "/home/krogh/.local/lib/python3.10/site-packages/traci/main.py:154: UserWarning: Could not connect to TraCI server using port 38823 (TraCI server already finished). Retrying with different port.\n",
      "  warnings.warn((\"Could not connect to TraCI server using port %s (%s).\" +\n",
      "Error: Could not access configuration '/home/krogh/src/P8-Mobility/Simulation/Python/test.sumocfg'.\n",
      "Quitting (on error).\n"
     ]
    },
    {
     "name": "stdout",
     "output_type": "stream",
     "text": [
      " Retrying in 1 seconds\n"
     ]
    },
    {
     "name": "stderr",
     "output_type": "stream",
     "text": [
      "/home/krogh/.local/lib/python3.10/site-packages/traci/main.py:154: UserWarning: Could not connect to TraCI server using port 46095 (TraCI server already finished). Retrying with different port.\n",
      "  warnings.warn((\"Could not connect to TraCI server using port %s (%s).\" +\n",
      "Error: Could not access configuration '/home/krogh/src/P8-Mobility/Simulation/Python/test.sumocfg'.\n",
      "Quitting (on error).\n"
     ]
    },
    {
     "name": "stdout",
     "output_type": "stream",
     "text": [
      " Retrying in 1 seconds\n"
     ]
    },
    {
     "name": "stderr",
     "output_type": "stream",
     "text": [
      "/home/krogh/.local/lib/python3.10/site-packages/traci/main.py:154: UserWarning: Could not connect to TraCI server using port 44455 (TraCI server already finished). Retrying with different port.\n",
      "  warnings.warn((\"Could not connect to TraCI server using port %s (%s).\" +\n",
      "Error: Could not access configuration '/home/krogh/src/P8-Mobility/Simulation/Python/test.sumocfg'.\n",
      "Quitting (on error).\n"
     ]
    },
    {
     "name": "stdout",
     "output_type": "stream",
     "text": [
      " Retrying in 1 seconds\n"
     ]
    },
    {
     "name": "stderr",
     "output_type": "stream",
     "text": [
      "/home/krogh/.local/lib/python3.10/site-packages/traci/main.py:154: UserWarning: Could not connect to TraCI server using port 58795 (TraCI server already finished). Retrying with different port.\n",
      "  warnings.warn((\"Could not connect to TraCI server using port %s (%s).\" +\n",
      "Error: Could not access configuration '/home/krogh/src/P8-Mobility/Simulation/Python/test.sumocfg'.\n",
      "Quitting (on error).\n"
     ]
    },
    {
     "name": "stdout",
     "output_type": "stream",
     "text": [
      " Retrying in 1 seconds\n"
     ]
    },
    {
     "name": "stderr",
     "output_type": "stream",
     "text": [
      "/home/krogh/.local/lib/python3.10/site-packages/traci/main.py:154: UserWarning: Could not connect to TraCI server using port 47505 (TraCI server already finished). Retrying with different port.\n",
      "  warnings.warn((\"Could not connect to TraCI server using port %s (%s).\" +\n",
      "Error: Could not access configuration '/home/krogh/src/P8-Mobility/Simulation/Python/test.sumocfg'.\n",
      "Quitting (on error).\n"
     ]
    },
    {
     "name": "stdout",
     "output_type": "stream",
     "text": [
      " Retrying in 1 seconds\n"
     ]
    },
    {
     "name": "stderr",
     "output_type": "stream",
     "text": [
      "/home/krogh/.local/lib/python3.10/site-packages/traci/main.py:154: UserWarning: Could not connect to TraCI server using port 54515 (TraCI server already finished). Retrying with different port.\n",
      "  warnings.warn((\"Could not connect to TraCI server using port %s (%s).\" +\n",
      "Error: Could not access configuration '/home/krogh/src/P8-Mobility/Simulation/Python/test.sumocfg'.\n",
      "Quitting (on error).\n"
     ]
    },
    {
     "name": "stdout",
     "output_type": "stream",
     "text": [
      " Retrying in 1 seconds\n"
     ]
    },
    {
     "name": "stderr",
     "output_type": "stream",
     "text": [
      "/home/krogh/.local/lib/python3.10/site-packages/traci/main.py:154: UserWarning: Could not connect to TraCI server using port 34241 (TraCI server already finished). Retrying with different port.\n",
      "  warnings.warn((\"Could not connect to TraCI server using port %s (%s).\" +\n",
      "Error: Could not access configuration '/home/krogh/src/P8-Mobility/Simulation/Python/test.sumocfg'.\n",
      "Quitting (on error).\n"
     ]
    },
    {
     "name": "stdout",
     "output_type": "stream",
     "text": [
      " Retrying in 1 seconds\n"
     ]
    },
    {
     "name": "stderr",
     "output_type": "stream",
     "text": [
      "/home/krogh/.local/lib/python3.10/site-packages/traci/main.py:154: UserWarning: Could not connect to TraCI server using port 38359 (TraCI server already finished). Retrying with different port.\n",
      "  warnings.warn((\"Could not connect to TraCI server using port %s (%s).\" +\n",
      "Error: Could not access configuration '/home/krogh/src/P8-Mobility/Simulation/Python/test.sumocfg'.\n",
      "Quitting (on error).\n"
     ]
    },
    {
     "name": "stdout",
     "output_type": "stream",
     "text": [
      " Retrying in 1 seconds\n"
     ]
    },
    {
     "name": "stderr",
     "output_type": "stream",
     "text": [
      "/home/krogh/.local/lib/python3.10/site-packages/traci/main.py:154: UserWarning: Could not connect to TraCI server using port 43391 (TraCI server already finished). Retrying with different port.\n",
      "  warnings.warn((\"Could not connect to TraCI server using port %s (%s).\" +\n",
      "Error: Could not access configuration '/home/krogh/src/P8-Mobility/Simulation/Python/test.sumocfg'.\n",
      "Quitting (on error).\n"
     ]
    },
    {
     "name": "stdout",
     "output_type": "stream",
     "text": [
      " Retrying in 1 seconds\n"
     ]
    },
    {
     "name": "stderr",
     "output_type": "stream",
     "text": [
      "/home/krogh/.local/lib/python3.10/site-packages/traci/main.py:154: UserWarning: Could not connect to TraCI server using port 41029 (TraCI server already finished). Retrying with different port.\n",
      "  warnings.warn((\"Could not connect to TraCI server using port %s (%s).\" +\n",
      "Error: Could not access configuration '/home/krogh/src/P8-Mobility/Simulation/Python/test.sumocfg'.\n",
      "Quitting (on error).\n"
     ]
    },
    {
     "name": "stdout",
     "output_type": "stream",
     "text": [
      " Retrying in 1 seconds\n"
     ]
    },
    {
     "name": "stderr",
     "output_type": "stream",
     "text": [
      "/home/krogh/.local/lib/python3.10/site-packages/traci/main.py:154: UserWarning: Could not connect to TraCI server using port 33665 (TraCI server already finished). Retrying with different port.\n",
      "  warnings.warn((\"Could not connect to TraCI server using port %s (%s).\" +\n",
      "Error: Could not access configuration '/home/krogh/src/P8-Mobility/Simulation/Python/test.sumocfg'.\n",
      "Quitting (on error).\n"
     ]
    },
    {
     "name": "stdout",
     "output_type": "stream",
     "text": [
      " Retrying in 1 seconds\n"
     ]
    },
    {
     "name": "stderr",
     "output_type": "stream",
     "text": [
      "/home/krogh/.local/lib/python3.10/site-packages/traci/main.py:154: UserWarning: Could not connect to TraCI server using port 43509 (TraCI server already finished). Retrying with different port.\n",
      "  warnings.warn((\"Could not connect to TraCI server using port %s (%s).\" +\n",
      "Error: Could not access configuration '/home/krogh/src/P8-Mobility/Simulation/Python/test.sumocfg'.\n",
      "Quitting (on error).\n"
     ]
    },
    {
     "name": "stdout",
     "output_type": "stream",
     "text": [
      " Retrying in 1 seconds\n"
     ]
    },
    {
     "name": "stderr",
     "output_type": "stream",
     "text": [
      "/home/krogh/.local/lib/python3.10/site-packages/traci/main.py:154: UserWarning: Could not connect to TraCI server using port 54345 (TraCI server already finished). Retrying with different port.\n",
      "  warnings.warn((\"Could not connect to TraCI server using port %s (%s).\" +\n",
      "Error: Could not access configuration '/home/krogh/src/P8-Mobility/Simulation/Python/test.sumocfg'.\n",
      "Quitting (on error).\n"
     ]
    },
    {
     "name": "stdout",
     "output_type": "stream",
     "text": [
      " Retrying in 1 seconds\n"
     ]
    },
    {
     "name": "stderr",
     "output_type": "stream",
     "text": [
      "/home/krogh/.local/lib/python3.10/site-packages/traci/main.py:154: UserWarning: Could not connect to TraCI server using port 52871 (TraCI server already finished). Retrying with different port.\n",
      "  warnings.warn((\"Could not connect to TraCI server using port %s (%s).\" +\n",
      "Error: Could not access configuration '/home/krogh/src/P8-Mobility/Simulation/Python/test.sumocfg'.\n",
      "Quitting (on error).\n"
     ]
    },
    {
     "name": "stdout",
     "output_type": "stream",
     "text": [
      " Retrying in 1 seconds\n"
     ]
    },
    {
     "name": "stderr",
     "output_type": "stream",
     "text": [
      "/home/krogh/.local/lib/python3.10/site-packages/traci/main.py:154: UserWarning: Could not connect to TraCI server using port 49995 (TraCI server already finished). Retrying with different port.\n",
      "  warnings.warn((\"Could not connect to TraCI server using port %s (%s).\" +\n",
      "Error: Could not access configuration '/home/krogh/src/P8-Mobility/Simulation/Python/test.sumocfg'.\n",
      "Quitting (on error).\n"
     ]
    },
    {
     "name": "stdout",
     "output_type": "stream",
     "text": [
      " Retrying in 1 seconds\n"
     ]
    },
    {
     "name": "stderr",
     "output_type": "stream",
     "text": [
      "/home/krogh/.local/lib/python3.10/site-packages/traci/main.py:154: UserWarning: Could not connect to TraCI server using port 58143 (TraCI server already finished). Retrying with different port.\n",
      "  warnings.warn((\"Could not connect to TraCI server using port %s (%s).\" +\n",
      "Error: Could not access configuration '/home/krogh/src/P8-Mobility/Simulation/Python/test.sumocfg'.\n",
      "Quitting (on error).\n"
     ]
    },
    {
     "name": "stdout",
     "output_type": "stream",
     "text": [
      " Retrying in 1 seconds\n"
     ]
    },
    {
     "name": "stderr",
     "output_type": "stream",
     "text": [
      "/home/krogh/.local/lib/python3.10/site-packages/traci/main.py:154: UserWarning: Could not connect to TraCI server using port 43855 (TraCI server already finished). Retrying with different port.\n",
      "  warnings.warn((\"Could not connect to TraCI server using port %s (%s).\" +\n",
      "Error: Could not access configuration '/home/krogh/src/P8-Mobility/Simulation/Python/test.sumocfg'.\n",
      "Quitting (on error).\n"
     ]
    },
    {
     "name": "stdout",
     "output_type": "stream",
     "text": [
      " Retrying in 1 seconds\n"
     ]
    },
    {
     "name": "stderr",
     "output_type": "stream",
     "text": [
      "/home/krogh/.local/lib/python3.10/site-packages/traci/main.py:154: UserWarning: Could not connect to TraCI server using port 38249 (TraCI server already finished). Retrying with different port.\n",
      "  warnings.warn((\"Could not connect to TraCI server using port %s (%s).\" +\n",
      "Error: Could not access configuration '/home/krogh/src/P8-Mobility/Simulation/Python/test.sumocfg'.\n",
      "Quitting (on error).\n"
     ]
    },
    {
     "name": "stdout",
     "output_type": "stream",
     "text": [
      " Retrying in 1 seconds\n"
     ]
    },
    {
     "name": "stderr",
     "output_type": "stream",
     "text": [
      "/home/krogh/.local/lib/python3.10/site-packages/traci/main.py:154: UserWarning: Could not connect to TraCI server using port 47339 (TraCI server already finished). Retrying with different port.\n",
      "  warnings.warn((\"Could not connect to TraCI server using port %s (%s).\" +\n",
      "Error: Could not access configuration '/home/krogh/src/P8-Mobility/Simulation/Python/test.sumocfg'.\n",
      "Quitting (on error).\n"
     ]
    },
    {
     "name": "stdout",
     "output_type": "stream",
     "text": [
      " Retrying in 1 seconds\n"
     ]
    },
    {
     "name": "stderr",
     "output_type": "stream",
     "text": [
      "/home/krogh/.local/lib/python3.10/site-packages/traci/main.py:154: UserWarning: Could not connect to TraCI server using port 34131 (TraCI server already finished). Retrying with different port.\n",
      "  warnings.warn((\"Could not connect to TraCI server using port %s (%s).\" +\n",
      "Error: Could not access configuration '/home/krogh/src/P8-Mobility/Simulation/Python/test.sumocfg'.\n",
      "Quitting (on error).\n"
     ]
    },
    {
     "name": "stdout",
     "output_type": "stream",
     "text": [
      " Retrying in 1 seconds\n"
     ]
    },
    {
     "name": "stderr",
     "output_type": "stream",
     "text": [
      "/home/krogh/.local/lib/python3.10/site-packages/traci/main.py:154: UserWarning: Could not connect to TraCI server using port 58875 (TraCI server already finished). Retrying with different port.\n",
      "  warnings.warn((\"Could not connect to TraCI server using port %s (%s).\" +\n",
      "Error: Could not access configuration '/home/krogh/src/P8-Mobility/Simulation/Python/test.sumocfg'.\n",
      "Quitting (on error).\n"
     ]
    },
    {
     "name": "stdout",
     "output_type": "stream",
     "text": [
      " Retrying in 1 seconds\n"
     ]
    },
    {
     "name": "stderr",
     "output_type": "stream",
     "text": [
      "/home/krogh/.local/lib/python3.10/site-packages/traci/main.py:154: UserWarning: Could not connect to TraCI server using port 56067 (TraCI server already finished). Retrying with different port.\n",
      "  warnings.warn((\"Could not connect to TraCI server using port %s (%s).\" +\n",
      "Error: Could not access configuration '/home/krogh/src/P8-Mobility/Simulation/Python/test.sumocfg'.\n",
      "Quitting (on error).\n"
     ]
    },
    {
     "name": "stdout",
     "output_type": "stream",
     "text": [
      " Retrying in 1 seconds\n"
     ]
    },
    {
     "name": "stderr",
     "output_type": "stream",
     "text": [
      "/home/krogh/.local/lib/python3.10/site-packages/traci/main.py:154: UserWarning: Could not connect to TraCI server using port 57625 (TraCI server already finished). Retrying with different port.\n",
      "  warnings.warn((\"Could not connect to TraCI server using port %s (%s).\" +\n",
      "Error: Could not access configuration '/home/krogh/src/P8-Mobility/Simulation/Python/test.sumocfg'.\n",
      "Quitting (on error).\n"
     ]
    },
    {
     "name": "stdout",
     "output_type": "stream",
     "text": [
      " Retrying in 1 seconds\n"
     ]
    },
    {
     "name": "stderr",
     "output_type": "stream",
     "text": [
      "/home/krogh/.local/lib/python3.10/site-packages/traci/main.py:154: UserWarning: Could not connect to TraCI server using port 52487 (TraCI server already finished). Retrying with different port.\n",
      "  warnings.warn((\"Could not connect to TraCI server using port %s (%s).\" +\n",
      "Error: Could not access configuration '/home/krogh/src/P8-Mobility/Simulation/Python/test.sumocfg'.\n",
      "Quitting (on error).\n"
     ]
    },
    {
     "name": "stdout",
     "output_type": "stream",
     "text": [
      " Retrying in 1 seconds\n"
     ]
    },
    {
     "name": "stderr",
     "output_type": "stream",
     "text": [
      "/home/krogh/.local/lib/python3.10/site-packages/traci/main.py:154: UserWarning: Could not connect to TraCI server using port 49701 (TraCI server already finished). Retrying with different port.\n",
      "  warnings.warn((\"Could not connect to TraCI server using port %s (%s).\" +\n",
      "Error: Could not access configuration '/home/krogh/src/P8-Mobility/Simulation/Python/test.sumocfg'.\n",
      "Quitting (on error).\n"
     ]
    },
    {
     "name": "stdout",
     "output_type": "stream",
     "text": [
      " Retrying in 1 seconds\n"
     ]
    },
    {
     "name": "stderr",
     "output_type": "stream",
     "text": [
      "/home/krogh/.local/lib/python3.10/site-packages/traci/main.py:154: UserWarning: Could not connect to TraCI server using port 51841 (TraCI server already finished). Retrying with different port.\n",
      "  warnings.warn((\"Could not connect to TraCI server using port %s (%s).\" +\n",
      "Error: Could not access configuration '/home/krogh/src/P8-Mobility/Simulation/Python/test.sumocfg'.\n",
      "Quitting (on error).\n"
     ]
    },
    {
     "name": "stdout",
     "output_type": "stream",
     "text": [
      " Retrying in 1 seconds\n"
     ]
    },
    {
     "name": "stderr",
     "output_type": "stream",
     "text": [
      "/home/krogh/.local/lib/python3.10/site-packages/traci/main.py:154: UserWarning: Could not connect to TraCI server using port 40213 (TraCI server already finished). Retrying with different port.\n",
      "  warnings.warn((\"Could not connect to TraCI server using port %s (%s).\" +\n",
      "Error: Could not access configuration '/home/krogh/src/P8-Mobility/Simulation/Python/test.sumocfg'.\n",
      "Quitting (on error).\n"
     ]
    },
    {
     "name": "stdout",
     "output_type": "stream",
     "text": [
      " Retrying in 1 seconds\n"
     ]
    },
    {
     "name": "stderr",
     "output_type": "stream",
     "text": [
      "/home/krogh/.local/lib/python3.10/site-packages/traci/main.py:154: UserWarning: Could not connect to TraCI server using port 36473 (TraCI server already finished). Retrying with different port.\n",
      "  warnings.warn((\"Could not connect to TraCI server using port %s (%s).\" +\n",
      "Error: Could not access configuration '/home/krogh/src/P8-Mobility/Simulation/Python/test.sumocfg'.\n",
      "Quitting (on error).\n"
     ]
    },
    {
     "name": "stdout",
     "output_type": "stream",
     "text": [
      " Retrying in 1 seconds\n"
     ]
    },
    {
     "name": "stderr",
     "output_type": "stream",
     "text": [
      "/home/krogh/.local/lib/python3.10/site-packages/traci/main.py:154: UserWarning: Could not connect to TraCI server using port 40787 (TraCI server already finished). Retrying with different port.\n",
      "  warnings.warn((\"Could not connect to TraCI server using port %s (%s).\" +\n",
      "Error: Could not access configuration '/home/krogh/src/P8-Mobility/Simulation/Python/test.sumocfg'.\n",
      "Quitting (on error).\n"
     ]
    },
    {
     "name": "stdout",
     "output_type": "stream",
     "text": [
      " Retrying in 1 seconds\n"
     ]
    },
    {
     "name": "stderr",
     "output_type": "stream",
     "text": [
      "/home/krogh/.local/lib/python3.10/site-packages/traci/main.py:154: UserWarning: Could not connect to TraCI server using port 60887 (TraCI server already finished). Retrying with different port.\n",
      "  warnings.warn((\"Could not connect to TraCI server using port %s (%s).\" +\n",
      "Error: Could not access configuration '/home/krogh/src/P8-Mobility/Simulation/Python/test.sumocfg'.\n",
      "Quitting (on error).\n"
     ]
    },
    {
     "name": "stdout",
     "output_type": "stream",
     "text": [
      " Retrying in 1 seconds\n"
     ]
    },
    {
     "name": "stderr",
     "output_type": "stream",
     "text": [
      "/home/krogh/.local/lib/python3.10/site-packages/traci/main.py:154: UserWarning: Could not connect to TraCI server using port 36317 (TraCI server already finished). Retrying with different port.\n",
      "  warnings.warn((\"Could not connect to TraCI server using port %s (%s).\" +\n",
      "Error: Could not access configuration '/home/krogh/src/P8-Mobility/Simulation/Python/test.sumocfg'.\n",
      "Quitting (on error).\n"
     ]
    },
    {
     "name": "stdout",
     "output_type": "stream",
     "text": [
      " Retrying in 1 seconds\n"
     ]
    },
    {
     "name": "stderr",
     "output_type": "stream",
     "text": [
      "/home/krogh/.local/lib/python3.10/site-packages/traci/main.py:154: UserWarning: Could not connect to TraCI server using port 44341 (TraCI server already finished). Retrying with different port.\n",
      "  warnings.warn((\"Could not connect to TraCI server using port %s (%s).\" +\n",
      "Error: Could not access configuration '/home/krogh/src/P8-Mobility/Simulation/Python/test.sumocfg'.\n",
      "Quitting (on error).\n"
     ]
    },
    {
     "name": "stdout",
     "output_type": "stream",
     "text": [
      " Retrying in 1 seconds\n"
     ]
    },
    {
     "name": "stderr",
     "output_type": "stream",
     "text": [
      "/home/krogh/.local/lib/python3.10/site-packages/traci/main.py:154: UserWarning: Could not connect to TraCI server using port 40315 (TraCI server already finished). Retrying with different port.\n",
      "  warnings.warn((\"Could not connect to TraCI server using port %s (%s).\" +\n",
      "Error: Could not access configuration '/home/krogh/src/P8-Mobility/Simulation/Python/test.sumocfg'.\n",
      "Quitting (on error).\n"
     ]
    },
    {
     "name": "stdout",
     "output_type": "stream",
     "text": [
      " Retrying in 1 seconds\n"
     ]
    },
    {
     "name": "stderr",
     "output_type": "stream",
     "text": [
      "/home/krogh/.local/lib/python3.10/site-packages/traci/main.py:154: UserWarning: Could not connect to TraCI server using port 46655 (TraCI server already finished). Retrying with different port.\n",
      "  warnings.warn((\"Could not connect to TraCI server using port %s (%s).\" +\n",
      "Error: Could not access configuration '/home/krogh/src/P8-Mobility/Simulation/Python/test.sumocfg'.\n",
      "Quitting (on error).\n"
     ]
    },
    {
     "name": "stdout",
     "output_type": "stream",
     "text": [
      " Retrying in 1 seconds\n"
     ]
    },
    {
     "name": "stderr",
     "output_type": "stream",
     "text": [
      "/home/krogh/.local/lib/python3.10/site-packages/traci/main.py:154: UserWarning: Could not connect to TraCI server using port 50571 (TraCI server already finished). Retrying with different port.\n",
      "  warnings.warn((\"Could not connect to TraCI server using port %s (%s).\" +\n",
      "Error: Could not access configuration '/home/krogh/src/P8-Mobility/Simulation/Python/test.sumocfg'.\n",
      "Quitting (on error).\n"
     ]
    },
    {
     "name": "stdout",
     "output_type": "stream",
     "text": [
      " Retrying in 1 seconds\n"
     ]
    },
    {
     "name": "stderr",
     "output_type": "stream",
     "text": [
      "/home/krogh/.local/lib/python3.10/site-packages/traci/main.py:154: UserWarning: Could not connect to TraCI server using port 59097 (TraCI server already finished). Retrying with different port.\n",
      "  warnings.warn((\"Could not connect to TraCI server using port %s (%s).\" +\n",
      "Error: Could not access configuration '/home/krogh/src/P8-Mobility/Simulation/Python/test.sumocfg'.\n",
      "Quitting (on error).\n"
     ]
    },
    {
     "name": "stdout",
     "output_type": "stream",
     "text": [
      " Retrying in 1 seconds\n"
     ]
    },
    {
     "name": "stderr",
     "output_type": "stream",
     "text": [
      "/home/krogh/.local/lib/python3.10/site-packages/traci/main.py:154: UserWarning: Could not connect to TraCI server using port 34227 (TraCI server already finished). Retrying with different port.\n",
      "  warnings.warn((\"Could not connect to TraCI server using port %s (%s).\" +\n",
      "Error: Could not access configuration '/home/krogh/src/P8-Mobility/Simulation/Python/test.sumocfg'.\n",
      "Quitting (on error).\n"
     ]
    },
    {
     "name": "stdout",
     "output_type": "stream",
     "text": [
      " Retrying in 1 seconds\n"
     ]
    },
    {
     "name": "stderr",
     "output_type": "stream",
     "text": [
      "/home/krogh/.local/lib/python3.10/site-packages/traci/main.py:154: UserWarning: Could not connect to TraCI server using port 51609 (TraCI server already finished). Retrying with different port.\n",
      "  warnings.warn((\"Could not connect to TraCI server using port %s (%s).\" +\n",
      "Error: Could not access configuration '/home/krogh/src/P8-Mobility/Simulation/Python/test.sumocfg'.\n",
      "Quitting (on error).\n"
     ]
    },
    {
     "name": "stdout",
     "output_type": "stream",
     "text": [
      " Retrying in 1 seconds\n"
     ]
    },
    {
     "name": "stderr",
     "output_type": "stream",
     "text": [
      "/home/krogh/.local/lib/python3.10/site-packages/traci/main.py:154: UserWarning: Could not connect to TraCI server using port 32949 (TraCI server already finished). Retrying with different port.\n",
      "  warnings.warn((\"Could not connect to TraCI server using port %s (%s).\" +\n",
      "Error: Could not access configuration '/home/krogh/src/P8-Mobility/Simulation/Python/test.sumocfg'.\n",
      "Quitting (on error).\n"
     ]
    },
    {
     "name": "stdout",
     "output_type": "stream",
     "text": [
      " Retrying in 1 seconds\n"
     ]
    },
    {
     "name": "stderr",
     "output_type": "stream",
     "text": [
      "/home/krogh/.local/lib/python3.10/site-packages/traci/main.py:154: UserWarning: Could not connect to TraCI server using port 60853 (TraCI server already finished). Retrying with different port.\n",
      "  warnings.warn((\"Could not connect to TraCI server using port %s (%s).\" +\n",
      "Error: Could not access configuration '/home/krogh/src/P8-Mobility/Simulation/Python/test.sumocfg'.\n",
      "Quitting (on error).\n"
     ]
    },
    {
     "name": "stdout",
     "output_type": "stream",
     "text": [
      " Retrying in 1 seconds\n"
     ]
    },
    {
     "name": "stderr",
     "output_type": "stream",
     "text": [
      "/home/krogh/.local/lib/python3.10/site-packages/traci/main.py:154: UserWarning: Could not connect to TraCI server using port 40535 (TraCI server already finished). Retrying with different port.\n",
      "  warnings.warn((\"Could not connect to TraCI server using port %s (%s).\" +\n",
      "Error: Could not access configuration '/home/krogh/src/P8-Mobility/Simulation/Python/test.sumocfg'.\n",
      "Quitting (on error).\n"
     ]
    },
    {
     "name": "stdout",
     "output_type": "stream",
     "text": [
      " Retrying in 1 seconds\n"
     ]
    },
    {
     "name": "stderr",
     "output_type": "stream",
     "text": [
      "/home/krogh/.local/lib/python3.10/site-packages/traci/main.py:154: UserWarning: Could not connect to TraCI server using port 32905 (TraCI server already finished). Retrying with different port.\n",
      "  warnings.warn((\"Could not connect to TraCI server using port %s (%s).\" +\n",
      "Error: Could not access configuration '/home/krogh/src/P8-Mobility/Simulation/Python/test.sumocfg'.\n",
      "Quitting (on error).\n"
     ]
    },
    {
     "name": "stdout",
     "output_type": "stream",
     "text": [
      " Retrying in 1 seconds\n"
     ]
    },
    {
     "name": "stderr",
     "output_type": "stream",
     "text": [
      "/home/krogh/.local/lib/python3.10/site-packages/traci/main.py:154: UserWarning: Could not connect to TraCI server using port 54153 (TraCI server already finished). Retrying with different port.\n",
      "  warnings.warn((\"Could not connect to TraCI server using port %s (%s).\" +\n",
      "Error: Could not access configuration '/home/krogh/src/P8-Mobility/Simulation/Python/test.sumocfg'.\n",
      "Quitting (on error).\n"
     ]
    },
    {
     "name": "stdout",
     "output_type": "stream",
     "text": [
      " Retrying in 1 seconds\n"
     ]
    },
    {
     "name": "stderr",
     "output_type": "stream",
     "text": [
      "/home/krogh/.local/lib/python3.10/site-packages/traci/main.py:154: UserWarning: Could not connect to TraCI server using port 48515 (TraCI server already finished). Retrying with different port.\n",
      "  warnings.warn((\"Could not connect to TraCI server using port %s (%s).\" +\n",
      "Error: Could not access configuration '/home/krogh/src/P8-Mobility/Simulation/Python/test.sumocfg'.\n",
      "Quitting (on error).\n"
     ]
    },
    {
     "name": "stdout",
     "output_type": "stream",
     "text": [
      " Retrying in 1 seconds\n"
     ]
    },
    {
     "name": "stderr",
     "output_type": "stream",
     "text": [
      "/home/krogh/.local/lib/python3.10/site-packages/traci/main.py:154: UserWarning: Could not connect to TraCI server using port 45063 (TraCI server already finished). Retrying with different port.\n",
      "  warnings.warn((\"Could not connect to TraCI server using port %s (%s).\" +\n",
      "Error: Could not access configuration '/home/krogh/src/P8-Mobility/Simulation/Python/test.sumocfg'.\n",
      "Quitting (on error).\n"
     ]
    },
    {
     "name": "stdout",
     "output_type": "stream",
     "text": [
      " Retrying in 1 seconds\n"
     ]
    },
    {
     "name": "stderr",
     "output_type": "stream",
     "text": [
      "/home/krogh/.local/lib/python3.10/site-packages/traci/main.py:154: UserWarning: Could not connect to TraCI server using port 47115 (TraCI server already finished). Retrying with different port.\n",
      "  warnings.warn((\"Could not connect to TraCI server using port %s (%s).\" +\n",
      "Error: Could not access configuration '/home/krogh/src/P8-Mobility/Simulation/Python/test.sumocfg'.\n",
      "Quitting (on error).\n"
     ]
    },
    {
     "ename": "FatalTraCIError",
     "evalue": "Could not connect in 1 tries",
     "output_type": "error",
     "traceback": [
      "\u001b[0;31m---------------------------------------------------------------------------\u001b[0m",
      "\u001b[0;31mFatalTraCIError\u001b[0m                           Traceback (most recent call last)",
      "Cell \u001b[0;32mIn[5], line 8\u001b[0m\n\u001b[1;32m      4\u001b[0m \u001b[38;5;28;01mfrom\u001b[39;00m \u001b[38;5;21;01mos\u001b[39;00m \u001b[38;5;28;01mimport\u001b[39;00m path\n\u001b[1;32m      7\u001b[0m \u001b[38;5;66;03m# Connect to SUMO simulation\u001b[39;00m\n\u001b[0;32m----> 8\u001b[0m \u001b[43mtraci\u001b[49m\u001b[38;5;241;43m.\u001b[39;49m\u001b[43mstart\u001b[49m\u001b[43m(\u001b[49m\u001b[43m[\u001b[49m\u001b[38;5;124;43m\"\u001b[39;49m\u001b[38;5;124;43msumo\u001b[39;49m\u001b[38;5;124;43m\"\u001b[39;49m\u001b[43m,\u001b[49m\u001b[43m \u001b[49m\u001b[38;5;124;43m\"\u001b[39;49m\u001b[38;5;124;43m-c\u001b[39;49m\u001b[38;5;124;43m\"\u001b[39;49m\u001b[43m,\u001b[49m\u001b[43m \u001b[49m\u001b[43mpath\u001b[49m\u001b[38;5;241;43m.\u001b[39;49m\u001b[43mabspath\u001b[49m\u001b[43m(\u001b[49m\u001b[38;5;124;43m\"\u001b[39;49m\u001b[38;5;124;43mtest.sumocfg\u001b[39;49m\u001b[38;5;124;43m\"\u001b[39;49m\u001b[43m)\u001b[49m\u001b[43m]\u001b[49m\u001b[43m)\u001b[49m\n\u001b[1;32m     10\u001b[0m df \u001b[38;5;241m=\u001b[39m pd\u001b[38;5;241m.\u001b[39mDataFrame(\n\u001b[1;32m     11\u001b[0m     {\n\u001b[1;32m     12\u001b[0m     \u001b[38;5;124m\"\u001b[39m\u001b[38;5;124mStep\u001b[39m\u001b[38;5;124m\"\u001b[39m: [],\n\u001b[0;32m   (...)\u001b[0m\n\u001b[1;32m     17\u001b[0m     \u001b[38;5;124m\"\u001b[39m\u001b[38;5;124mDistanceDriven\u001b[39m\u001b[38;5;124m\"\u001b[39m: []\n\u001b[1;32m     18\u001b[0m     })\n\u001b[1;32m     20\u001b[0m df2 \u001b[38;5;241m=\u001b[39m pd\u001b[38;5;241m.\u001b[39mDataFrame(\n\u001b[1;32m     21\u001b[0m     {\n\u001b[1;32m     22\u001b[0m     \u001b[38;5;124m\"\u001b[39m\u001b[38;5;124mStep\u001b[39m\u001b[38;5;124m\"\u001b[39m: [],\n\u001b[1;32m     23\u001b[0m     \u001b[38;5;124m\"\u001b[39m\u001b[38;5;124mId\u001b[39m\u001b[38;5;124m\"\u001b[39m: [],\n\u001b[1;32m     24\u001b[0m     \u001b[38;5;124m\"\u001b[39m\u001b[38;5;124mWaitingTime\u001b[39m\u001b[38;5;124m\"\u001b[39m: []\n\u001b[1;32m     25\u001b[0m     })\n",
      "File \u001b[0;32m~/.local/lib/python3.10/site-packages/traci/main.py:147\u001b[0m, in \u001b[0;36mstart\u001b[0;34m(cmd, port, numRetries, label, verbose, traceFile, traceGetters, stdout, doSwitch)\u001b[0m\n\u001b[1;32m    145\u001b[0m sumoProcess \u001b[38;5;241m=\u001b[39m subprocess\u001b[38;5;241m.\u001b[39mPopen(cmd2, stdout\u001b[38;5;241m=\u001b[39mstdout)\n\u001b[1;32m    146\u001b[0m \u001b[38;5;28;01mtry\u001b[39;00m:\n\u001b[0;32m--> 147\u001b[0m     result \u001b[38;5;241m=\u001b[39m \u001b[43minit\u001b[49m\u001b[43m(\u001b[49m\u001b[43msumoPort\u001b[49m\u001b[43m,\u001b[49m\u001b[43m \u001b[49m\u001b[43mnumRetries\u001b[49m\u001b[43m,\u001b[49m\u001b[43m \u001b[49m\u001b[38;5;124;43m\"\u001b[39;49m\u001b[38;5;124;43mlocalhost\u001b[39;49m\u001b[38;5;124;43m\"\u001b[39;49m\u001b[43m,\u001b[49m\u001b[43m \u001b[49m\u001b[43mlabel\u001b[49m\u001b[43m,\u001b[49m\u001b[43m \u001b[49m\u001b[43msumoProcess\u001b[49m\u001b[43m,\u001b[49m\u001b[43m \u001b[49m\u001b[43mdoSwitch\u001b[49m\u001b[43m,\u001b[49m\u001b[43m \u001b[49m\u001b[43mtraceFile\u001b[49m\u001b[43m,\u001b[49m\u001b[43m \u001b[49m\u001b[43mtraceGetters\u001b[49m\u001b[43m)\u001b[49m\n\u001b[1;32m    148\u001b[0m     \u001b[38;5;28;01mif\u001b[39;00m traceFile \u001b[38;5;129;01mis\u001b[39;00m \u001b[38;5;129;01mnot\u001b[39;00m \u001b[38;5;28;01mNone\u001b[39;00m:\n\u001b[1;32m    149\u001b[0m         connection\u001b[38;5;241m.\u001b[39mget(label)\u001b[38;5;241m.\u001b[39mwrite(\u001b[38;5;124m\"\u001b[39m\u001b[38;5;124mstart\u001b[39m\u001b[38;5;124m\"\u001b[39m, \u001b[38;5;124m\"\u001b[39m\u001b[38;5;132;01m%s\u001b[39;00m\u001b[38;5;124m, port=\u001b[39m\u001b[38;5;132;01m%s\u001b[39;00m\u001b[38;5;124m, label=\u001b[39m\u001b[38;5;132;01m%s\u001b[39;00m\u001b[38;5;124m\"\u001b[39m \u001b[38;5;241m%\u001b[39m (\u001b[38;5;28mrepr\u001b[39m(cmd), \u001b[38;5;28mrepr\u001b[39m(port), \u001b[38;5;28mrepr\u001b[39m(label)))\n",
      "File \u001b[0;32m~/.local/lib/python3.10/site-packages/traci/main.py:116\u001b[0m, in \u001b[0;36minit\u001b[0;34m(port, numRetries, host, label, proc, doSwitch, traceFile, traceGetters)\u001b[0m\n\u001b[1;32m    109\u001b[0m \u001b[38;5;28;01mdef\u001b[39;00m \u001b[38;5;21minit\u001b[39m(port\u001b[38;5;241m=\u001b[39m\u001b[38;5;241m8813\u001b[39m, numRetries\u001b[38;5;241m=\u001b[39mtc\u001b[38;5;241m.\u001b[39mDEFAULT_NUM_RETRIES, host\u001b[38;5;241m=\u001b[39m\u001b[38;5;124m\"\u001b[39m\u001b[38;5;124mlocalhost\u001b[39m\u001b[38;5;124m\"\u001b[39m, label\u001b[38;5;241m=\u001b[39m\u001b[38;5;124m\"\u001b[39m\u001b[38;5;124mdefault\u001b[39m\u001b[38;5;124m\"\u001b[39m, proc\u001b[38;5;241m=\u001b[39m\u001b[38;5;28;01mNone\u001b[39;00m, doSwitch\u001b[38;5;241m=\u001b[39m\u001b[38;5;28;01mTrue\u001b[39;00m,\n\u001b[1;32m    110\u001b[0m          traceFile\u001b[38;5;241m=\u001b[39m\u001b[38;5;28;01mNone\u001b[39;00m, traceGetters\u001b[38;5;241m=\u001b[39m\u001b[38;5;28;01mTrue\u001b[39;00m):\n\u001b[1;32m    111\u001b[0m \u001b[38;5;250m    \u001b[39m\u001b[38;5;124;03m\"\"\"\u001b[39;00m\n\u001b[1;32m    112\u001b[0m \u001b[38;5;124;03m    Establish a connection to a TraCI-Server and store it under the given\u001b[39;00m\n\u001b[1;32m    113\u001b[0m \u001b[38;5;124;03m    label. This method is not thread-safe. It accesses the connection\u001b[39;00m\n\u001b[1;32m    114\u001b[0m \u001b[38;5;124;03m    pool concurrently.\u001b[39;00m\n\u001b[1;32m    115\u001b[0m \u001b[38;5;124;03m    \"\"\"\u001b[39;00m\n\u001b[0;32m--> 116\u001b[0m     con \u001b[38;5;241m=\u001b[39m \u001b[43mconnect\u001b[49m\u001b[43m(\u001b[49m\u001b[43mport\u001b[49m\u001b[43m,\u001b[49m\u001b[43m \u001b[49m\u001b[43mnumRetries\u001b[49m\u001b[43m,\u001b[49m\u001b[43m \u001b[49m\u001b[43mhost\u001b[49m\u001b[43m,\u001b[49m\u001b[43m \u001b[49m\u001b[43mproc\u001b[49m\u001b[43m,\u001b[49m\u001b[43m \u001b[49m\u001b[38;5;241;43m1\u001b[39;49m\u001b[43m,\u001b[49m\u001b[43m \u001b[49m\u001b[43mtraceFile\u001b[49m\u001b[43m,\u001b[49m\u001b[43m \u001b[49m\u001b[43mtraceGetters\u001b[49m\u001b[43m,\u001b[49m\u001b[43m \u001b[49m\u001b[43mlabel\u001b[49m\u001b[43m)\u001b[49m\n\u001b[1;32m    117\u001b[0m     \u001b[38;5;28;01mif\u001b[39;00m doSwitch:\n\u001b[1;32m    118\u001b[0m         switch(label)\n",
      "File \u001b[0;32m~/.local/lib/python3.10/site-packages/traci/main.py:106\u001b[0m, in \u001b[0;36mconnect\u001b[0;34m(port, numRetries, host, proc, waitBetweenRetries, traceFile, traceGetters, label)\u001b[0m\n\u001b[1;32m    104\u001b[0m             \u001b[38;5;28mprint\u001b[39m(\u001b[38;5;124m\"\u001b[39m\u001b[38;5;124m Retrying in \u001b[39m\u001b[38;5;132;01m%s\u001b[39;00m\u001b[38;5;124m seconds\u001b[39m\u001b[38;5;124m\"\u001b[39m \u001b[38;5;241m%\u001b[39m waitBetweenRetries)\n\u001b[1;32m    105\u001b[0m             time\u001b[38;5;241m.\u001b[39msleep(waitBetweenRetries)\n\u001b[0;32m--> 106\u001b[0m \u001b[38;5;28;01mraise\u001b[39;00m FatalTraCIError(\u001b[38;5;124m\"\u001b[39m\u001b[38;5;124mCould not connect in \u001b[39m\u001b[38;5;132;01m%s\u001b[39;00m\u001b[38;5;124m tries\u001b[39m\u001b[38;5;124m\"\u001b[39m \u001b[38;5;241m%\u001b[39m (numRetries \u001b[38;5;241m+\u001b[39m \u001b[38;5;241m1\u001b[39m))\n",
      "\u001b[0;31mFatalTraCIError\u001b[0m: Could not connect in 1 tries"
     ]
    }
   ],
   "source": [
    "## OTHER IMPLEMENTATION WITH ADDITIONAL INFORMATION, JUST LET IT BE HERE FOR NOW\n",
    "import traci\n",
    "import pandas as pd\n",
    "from os import path\n",
    "\n",
    "\n",
    "# Connect to SUMO simulation\n",
    "traci.start([\"sumo\", \"-c\", path.abspath(\"test.sumocfg\")])\n",
    "\n",
    "df = pd.DataFrame(\n",
    "    {\n",
    "    \"Step\": [],\n",
    "    \"Id\": [],\n",
    "    \"Speed\": [],\n",
    "    \"Capacity\": [],\n",
    "    \"Route\": \"\",\n",
    "    \"DistanceDriven\": []\n",
    "    })\n",
    "\n",
    "df2 = pd.DataFrame(\n",
    "    {\n",
    "    \"Step\": [],\n",
    "    \"Id\": [],\n",
    "    \"WaitingTime\": []\n",
    "    })\n",
    "\n",
    "repeats = 100\n",
    "route0_edges = traci.route.getEdges(\"r_0\")\n",
    "route1_edges = traci.route.getEdges(\"r_1\")\n",
    "\n",
    "route_lengths = [sum(traci.lane.getLength(edge + \"_0\") for edge in route0_edges) / repeats, sum(traci.lane.getLength(edge + \"_0\") for edge in route1_edges) / repeats]\n",
    "route_busstops = [[\"bs_road_-overlap\", \"bs_road_-R2\", \"bs_road_-R1\", \"bs_road_-R0\"], [\"bs_road_-overlap\", \"bs_road_-L3\", \"bs_road_-L2\", \"bs_road_-L1\", \"bs_road_-L0\"]]\n",
    "\n",
    "step = 0\n",
    "while step < 500:\n",
    "    traci.simulationStep()\n",
    "\n",
    "    vehicles = traci.vehicle.getIDList()\n",
    "    persons = traci.person.getIDList()\n",
    "\n",
    "    step += 1\n",
    "    \n",
    "    #https://sumo.dlr.de/docs/TraCI/Vehicle_Value_Retrieval.html\n",
    "    #https://sumo.dlr.de/pydoc/traci._vehicle.html#VehicleDomain-getSpeed\n",
    "    distanceDrivenInRoutesList = [[], []]\n",
    "\n",
    "    dfStartLength = len(df)\n",
    "    for i in range(0,len(vehicles)):\n",
    "        vehicleId = vehicles[i]\n",
    "        vehicleSpeed = round(traci.vehicle.getSpeed(vehicleId)*3.6, 2) # m/s to km/h\n",
    "        vehicleCapacity = traci.vehicle.getPersonCapacity(vehicleId)\n",
    "        vehicleWaitingTime = traci.vehicle.getWaitingTime(vehicleId)\n",
    "        vehicleRoute = traci.vehicle.getRouteID(vehicleId)\n",
    "        vehicleDistanceDriven = round(traci.vehicle.getDistance(vehicleId) % (route_lengths[0] if (vehicleRoute == \"r_0\") else route_lengths[1]), 3)\n",
    "        if(vehicleRoute == \"r_0\"):\n",
    "            distanceDrivenInRoutesList[0].append((vehicleId,vehicleDistanceDriven))\n",
    "        else:\n",
    "            distanceDrivenInRoutesList[1].append((vehicleId,vehicleDistanceDriven))\n",
    "        df.loc[len(df)] = {\"Step\": step, \"Id\": vehicleId, \"Speed\": vehicleSpeed, \"Capacity\": vehicleCapacity, \"Route\": vehicleRoute, \"DistanceDriven\": vehicleDistanceDriven}\n",
    "\n",
    "    for i in range(0, len(vehicles)):\n",
    "        df.loc[dfStartLength + i, \"DistanceDriven\"] = str(distanceDrivenInRoutesList[0] if traci.vehicle.getRouteID(vehicles[i]) == \"r_0\" else distanceDrivenInRoutesList[1])\n",
    "    \n",
    "    # https://sumo.dlr.de/pydoc/traci._person.html\n",
    "    for j in range(0,len(persons)):\n",
    "        personId = persons[j]\n",
    "        personWaitingTime = traci.person.getWaitingTime(personId)\n",
    "        df2.loc[len(df2)] = {\"Step\": step, \"Id\": personId, \"WaitingTime\": personWaitingTime}\n",
    "\n",
    "    # ML code/funcs here\n",
    "    # control vehicles \n",
    "\n",
    "print()\n",
    "print(\"---- VEHICLES ----\")\n",
    "print(df)\n",
    "\n",
    "print(\"---- PERSONS ----\")\n",
    "print(df2)\n",
    "        \n",
    "traci.close() \n"
   ]
  }
 ],
 "metadata": {
  "kernelspec": {
   "display_name": "Python 3 (ipykernel)",
   "language": "python",
   "name": "python3"
  },
  "language_info": {
   "codemirror_mode": {
    "name": "ipython",
    "version": 3
   },
   "file_extension": ".py",
   "mimetype": "text/x-python",
   "name": "python",
   "nbconvert_exporter": "python",
   "pygments_lexer": "ipython3",
   "version": "3.10.12"
  }
 },
 "nbformat": 4,
 "nbformat_minor": 5
}
