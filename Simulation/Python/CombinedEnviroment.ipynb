{
 "cells": [
  {
   "cell_type": "markdown",
   "metadata": {},
   "source": [
    "# Sumo Enviroment"
   ]
  },
  {
   "cell_type": "code",
   "execution_count": 21,
   "metadata": {},
   "outputs": [],
   "source": [
    "# Custom Environment\n",
    "import gymnasium as gym\n",
    "import numpy as np\n",
    "import traci\n",
    "import math\n",
    "from os import path\n",
    "\n",
    "\n",
    "class SumoEnv(gym.Env):\n",
    "  def __init__(self):\n",
    "    self.close()  # tries to close, if not possible, pass\n",
    "    traci.start([\"sumo\", \"-c\", path.abspath(\"../SUMO/test.sumocfg\")])\n",
    "\n",
    "    ## VARIABLES ##\n",
    "    self.bus_num = 5\n",
    "    self.max_steps = 500\n",
    "    self.current_step = 0\n",
    "    bus_stops_num = 4\n",
    "    bus_speed_max = 50\n",
    "\n",
    "    ## SUMO VARIABLES ##\n",
    "    self.bus_stop_positions = [\n",
    "        [123, 974, 1872, 2764], [123, 827, 1742, 2702, 3592]]\n",
    "    self.bus_locations = {\"-overlap\": \"123\", \"-R2\": \"259\", \"-R1\": \"125\",\n",
    "                          \"-R0\": \"267\", \"-L3\": \"117\", \"-L2\": \"110\", \"-L1\": \"123\", \"-L0\": \"120\"}\n",
    "    self.bus_ids = [\"bus_r_0_0\", \"bus_r_0_1\",\n",
    "                    \"bus_r_0_2\", \"bus_r_0_3\", \"bus_r_0_4\"]\n",
    "\n",
    "    # self.route_names = [[\"-overlap\", \"-R2\", \"-R1\", \"-R0\"], [\"-overlap\", \"-L3\", \"-L2\", \"-L1\", \"-L0\"]]\n",
    "    self.route_lengths = [3591, 4697]\n",
    "    # self.route_junctions={\"J1\": [\"-L0\", \"-R0\", \"-overlap\"], \"J2\": [\"-R0\", \"-R1\"], \"J3\": [\"-R1\", \"-R2\"], \"J4\": [\"-L3\", \"-R2\", \"-overlap\"], \"J5\": [\"-L0\", \"-L1\"], \"J7\": [\"-L1\", \"-L2\"], \"J8\": [\"-L2\", \"-L3\"]}\n",
    "\n",
    "    self.wait_time = 0\n",
    "    self.previous_speeds_m_s = [0]*self.bus_num\n",
    "    self.delta_speed = 0.4\n",
    "    self.min_speed_before_change = 30\n",
    "    self.action_delta_speed = {\n",
    "        0: (1-self.delta_speed), 2: (1+self.delta_speed)}\n",
    "\n",
    "    ## GYM INITIALIZATIONS ##\n",
    "\n",
    "    # actions: [b1, b2 (...)] # each action is either 0 = slow down, 1 = keep speed, 2 = speed up\n",
    "    self.action_space = gym.spaces.Box(low=np.array(\n",
    "        [np.float32(0)]*self.bus_num), high=np.array([np.float32(2)]*self.bus_num), shape=(self.bus_num,), dtype=np.float32)\n",
    "\n",
    "    # states: [avg_wait_time, b1_speed, b1_pos, b2_speed, b2_pos, (...),  bs1_pos, bs2_pos, bs3_pos, bs4_pos]\n",
    "    wait_max = 100000\n",
    "    low_obs = np.zeros([1 + 2*self.bus_num + bus_stops_num])\n",
    "    high_obs = np.array([wait_max] + [bus_speed_max, self.route_lengths[0]]\n",
    "                        * self.bus_num + [self.route_lengths[0]]*bus_stops_num)\n",
    "    self.observation_space = gym.spaces.Box(low=low_obs, high=high_obs, shape=(\n",
    "        1 + 2*self.bus_num + bus_stops_num,), dtype=np.float32)\n",
    "\n",
    "  # GYM FUNCTIONS\n",
    "  def reset(self, seed=None):\n",
    "    traci.close()\n",
    "    self.wait_time = 0\n",
    "    self.current_step = 0\n",
    "    traci.start([\"sumo\", \"-c\", path.abspath(\"../SUMO/test.sumocfg\")])\n",
    "\n",
    "    #return self.wait_time, {}\n",
    "    return np.concatenate(([self.wait_time], np.zeros(2 * self.bus_num), self.bus_stop_positions[0])).astype(np.float32)[:15], {}\n",
    "\n",
    "\n",
    "\n",
    "  def step(self, action):\n",
    "    try:\n",
    "      next_state = self.sumo_step()\n",
    "\n",
    "      # set action for each bus: 0 = slow down, 1 = keep speed, 2 = speed up\n",
    "      vehicles_length = len(traci.vehicle.getIDList())\n",
    "\n",
    "      for i, bus_action in enumerate(action):\n",
    "        if i >= vehicles_length:\n",
    "          break\n",
    "        bus_id = self.bus_ids[i]\n",
    "        bus_distance_driven = traci.vehicle.getDistance(bus_id)\n",
    "\n",
    "        if np.sign(bus_distance_driven) == -1:\n",
    "          break  # if bus hasnt driven yet, skip\n",
    "\n",
    "        bus_route = traci.vehicle.getRouteID(bus_id)\n",
    "        bus_position = round(bus_distance_driven % (\n",
    "            self.route_lengths[0] if (bus_route == \"r_0\") else self.route_lengths[1]), 3)\n",
    "        nearest_bus_stop_position = self._find_nearest(\n",
    "            self.bus_stop_positions[0 if bus_route == \"r_0\" else 1], bus_position)\n",
    "        bus_speed_m_s = traci.vehicle.getSpeed(bus_id)\n",
    "        bus_speed_km_t = bus_speed_m_s * 3.6\n",
    "\n",
    "        interval = [-22, 3]\n",
    "\n",
    "        new_speed_m_s = 0\n",
    "\n",
    "        # if bus should keep speed, set speed to previous speed and if previous speed is 0, set to current speed\n",
    "        if bus_action == 1:\n",
    "          new_speed_m_s = bus_speed_m_s if (self.previous_speeds_m_s[i] == 0.0) \\\n",
    "              else self.previous_speeds_m_s[i]\n",
    "          traci.vehicle.setSpeed(bus_id, new_speed_m_s)\n",
    "\n",
    "        # change speed if speed > min_speed_before_change and bus is not at a bus stop\n",
    "        elif (bus_speed_km_t > self.min_speed_before_change and not\n",
    "              (bus_position > nearest_bus_stop_position + interval[0] and bus_position < nearest_bus_stop_position + interval[1])):\n",
    "          new_speed_m_s = self.action_delta_speed[bus_action] * \\\n",
    "              traci.vehicle.getSpeed(bus_id)\n",
    "          # smoothly changes to new speed over 1 second\n",
    "          traci.vehicle.slowDown(bus_id, new_speed_m_s, 1)\n",
    "\n",
    "        self.previous_speeds_m_s[i] = new_speed_m_s\n",
    "\n",
    "      # reward are given if the new waiting time is strictly lower, otherwise punished\n",
    "      reward = 1 if next_state[0] <= self.wait_time else -1\n",
    "\n",
    "      # set the wait time to the current wait time\n",
    "      self.wait_time = next_state[0]\n",
    "\n",
    "      # check if done\n",
    "      self.current_step += 1\n",
    "      done = False\n",
    "      if (self.current_step >= self.max_steps):\n",
    "        done = True\n",
    "\n",
    "      #return next_state, reward, done, {}\n",
    "      truncated = False\n",
    "      return np.array(next_state, dtype=np.float32), reward, truncated, done, {}\n",
    "\n",
    "\n",
    "    except Exception as e:  # if there is an error, close the simulation\n",
    "      print(\"An error occurred. Closing simulation.\")\n",
    "      print(\"Error: \", e)\n",
    "      traci.close()\n",
    "\n",
    "  def render(self):\n",
    "    pass\n",
    "\n",
    "  def close(self):\n",
    "    try:\n",
    "      traci.close()\n",
    "    except:\n",
    "      pass\n",
    "\n",
    "  def seed(self, seed=None):\n",
    "    pass\n",
    "\n",
    "  # SUMO FUNCTIONS\n",
    "  def sumo_step(self):\n",
    "    # state [avg_wait_time, b1_speed, b1_pos, b2_speed, b2_pos, (...),  bs1_pos, bs2_pos, bs3_pos, bs4_pos]\n",
    "    new_state = [0] * (1 + 2 * self.bus_num) + self.bus_stop_positions[0]\n",
    "    personsWaitingTimeList = []\n",
    "    traci.simulationStep()\n",
    "\n",
    "    vehicles = traci.vehicle.getIDList()\n",
    "    persons = traci.person.getIDList()\n",
    "\n",
    "    # finds the average waiting time\n",
    "    for i in range(0, len(persons)):\n",
    "      personWaitingTime = traci.person.getWaitingTime(persons[i])\n",
    "      personsWaitingTimeList.append(personWaitingTime)\n",
    "\n",
    "    persons_waiting_num = len(personsWaitingTimeList)\n",
    "    new_state[0] = round(sum(personsWaitingTimeList) / persons_waiting_num, 3) if persons_waiting_num > 0 or not np.isnan(\n",
    "        persons_waiting_num) or not np.isnan(personsWaitingTimeList) else 0.0\n",
    "\n",
    "    # finds bus speed and position\n",
    "    for j in range(0, len(vehicles)):\n",
    "      vehicleId = vehicles[j]\n",
    "      if traci.vehicle.getRouteID(vehicleId) != \"r_0\":\n",
    "        continue\n",
    "\n",
    "      vehicleSpeed = traci.vehicle.getSpeed(vehicleId)*3.6  # m/s to km/h\n",
    "      vehiclePosition = traci.vehicle.getDistance(vehicleId) % (self.route_lengths[0]\n",
    "                                                                if (traci.vehicle.getRouteID(vehicleId) == \"r_0\") else self.route_lengths[1])\n",
    "      new_state[1 + 2*j] = round(vehicleSpeed, 2)\n",
    "      new_state[2 + 2*j] = round(vehiclePosition, 2)\n",
    "    return new_state\n",
    "\n",
    "  def _find_nearest(self, array, value):\n",
    "    idx = np.searchsorted(array, value, side=\"left\")\n",
    "    if (idx == len(array) and math.fabs(value - (array[0] + array[idx-1])) < math.fabs(value - array[idx-1])):\n",
    "      return array[0]\n",
    "    elif idx > 0 and idx == len(array) or math.fabs(value - array[idx-1]) < math.fabs(value - array[idx]):\n",
    "      return array[idx-1]\n",
    "    else:\n",
    "      return array[idx]"
   ]
  },
  {
   "cell_type": "markdown",
   "metadata": {},
   "source": [
    "#### Manual Testing"
   ]
  },
  {
   "cell_type": "code",
   "execution_count": 25,
   "metadata": {},
   "outputs": [
    {
     "name": "stdout",
     "output_type": "stream",
     "text": [
      " Retrying in 1 seconds\n"
     ]
    },
    {
     "name": "stderr",
     "output_type": "stream",
     "text": [
      "Warning: Environment variable SUMO_HOME is not set properly, disabling XML validation. Set 'auto' or 'always' for web lookups.\n"
     ]
    },
    {
     "name": "stdout",
     "output_type": "stream",
     "text": [
      "Step #0.00 (0ms ?*RT. ?UPS, TraCI: 7ms, vehicles TOT 0 ACT 0 BUF 0)                      \n",
      " Retrying in 1 seconds\n"
     ]
    },
    {
     "name": "stderr",
     "output_type": "stream",
     "text": [
      "Warning: Environment variable SUMO_HOME is not set properly, disabling XML validation. Set 'auto' or 'always' for web lookups.\n"
     ]
    },
    {
     "name": "stdout",
     "output_type": "stream",
     "text": [
      "Step: 0, Wait Time: 0.0, Reward: 1, Next State: [   0.    0.    0.    0.    0.    0.    0.    0.    0.    0.    0.  123.\n",
      "  974. 1872. 2764.], Done: False, Info: False \n",
      "\n",
      "Step: 1, Wait Time: 1.0, Reward: -1, Next State: [   1.      3.14    0.87    0.      0.      0.      0.      0.      0.\n",
      "    0.      0.    123.    974.   1872.   2764.  ], Done: False, Info: False \n",
      "\n",
      "Step: 2, Wait Time: 0.6669999957084656, Reward: 1, Next State: [   0.667    7.03     2.83     0.       0.       0.       0.       0.\n",
      "    0.       0.       0.     123.     974.    1872.    2764.   ], Done: False, Info: False \n",
      "\n",
      "Step: 3, Wait Time: 1.0, Reward: -1, Next State: [   1.      7.03    4.78    0.      0.      0.      0.      0.      0.\n",
      "    0.      0.    123.    974.   1872.   2764.  ], Done: False, Info: False \n",
      "\n",
      "Step: 4, Wait Time: 1.6670000553131104, Reward: -1, Next State: [   1.667    7.03     6.73     0.       0.       0.       0.       0.\n",
      "    0.       0.       0.     123.     974.    1872.    2764.   ], Done: False, Info: False \n",
      "\n",
      "Step: 5, Wait Time: 2.132999897003174, Reward: -1, Next State: [   2.133    7.03     8.69     0.       0.       0.       0.       0.\n",
      "    0.       0.       0.     123.     974.    1872.    2764.   ], Done: False, Info: False \n",
      "\n",
      "Step: 6, Wait Time: 2.4739999771118164, Reward: -1, Next State: [   2.474    7.03    10.64     0.       0.       0.       0.       0.\n",
      "    0.       0.       0.     123.     974.    1872.    2764.   ], Done: False, Info: False \n",
      "\n",
      "Step: 7, Wait Time: 2.869999885559082, Reward: -1, Next State: [   2.87    7.03   12.59    0.      0.      0.      0.      0.      0.\n",
      "    0.      0.    123.    974.   1872.   2764.  ], Done: False, Info: False \n",
      "\n",
      "Step: 8, Wait Time: 3.178999900817871, Reward: -1, Next State: [   3.179    7.03    14.55     0.       0.       0.       0.       0.\n",
      "    0.       0.       0.     123.     974.    1872.    2764.   ], Done: False, Info: False \n",
      "\n",
      "Step: 9, Wait Time: 3.9000000953674316, Reward: -1, Next State: [   3.9     7.03   16.5     0.      0.      0.      0.      0.      0.\n",
      "    0.      0.    123.    974.   1872.   2764.  ], Done: False, Info: False \n",
      "\n",
      "Step: 10, Wait Time: 4.323999881744385, Reward: -1, Next State: [   4.324    7.03    18.45     0.       0.       0.       0.       0.\n",
      "    0.       0.       0.     123.     974.    1872.    2764.   ], Done: False, Info: False \n",
      "\n",
      "Step: 11, Wait Time: 5.0279998779296875, Reward: -1, Next State: [   5.028    7.03    20.4      0.       0.       0.       0.       0.\n",
      "    0.       0.       0.     123.     974.    1872.    2764.   ], Done: False, Info: False \n",
      "\n",
      "Step: 12, Wait Time: 5.425000190734863, Reward: -1, Next State: [   5.425    7.03    22.36     0.       0.       0.       0.       0.\n",
      "    0.       0.       0.     123.     974.    1872.    2764.   ], Done: False, Info: False \n",
      "\n",
      "Step: 13, Wait Time: 5.4679999351501465, Reward: -1, Next State: [   5.468    7.03    24.31     0.       0.       0.       0.       0.\n",
      "    0.       0.       0.     123.     974.    1872.    2764.   ], Done: False, Info: False \n",
      "\n",
      "Step: 14, Wait Time: 6.203999996185303, Reward: -1, Next State: [   6.204    7.03    26.26     0.       0.       0.       0.       0.\n",
      "    0.       0.       0.     123.     974.    1872.    2764.   ], Done: False, Info: False \n",
      "\n",
      "Step: 15, Wait Time: 6.788000106811523, Reward: -1, Next State: [   6.788    7.03    28.22     0.       0.       0.       0.       0.\n",
      "    0.       0.       0.     123.     974.    1872.    2764.   ], Done: False, Info: False \n",
      "\n",
      "Step: 16, Wait Time: 7.363999843597412, Reward: -1, Next State: [   7.364    7.03    30.17     0.       0.       0.       0.       0.\n",
      "    0.       0.       0.     123.     974.    1872.    2764.   ], Done: False, Info: False \n",
      "\n",
      "Step: 17, Wait Time: 8.069999694824219, Reward: -1, Next State: [   8.07    7.03   32.12    0.      0.      0.      0.      0.      0.\n",
      "    0.      0.    123.    974.   1872.   2764.  ], Done: False, Info: False \n",
      "\n",
      "Step: 18, Wait Time: 8.762999534606934, Reward: -1, Next State: [   8.763    7.03    34.08     0.       0.       0.       0.       0.\n",
      "    0.       0.       0.     123.     974.    1872.    2764.   ], Done: False, Info: False \n",
      "\n",
      "Step: 19, Wait Time: 9.289999961853027, Reward: -1, Next State: [   9.29    7.03   36.03    0.      0.      0.      0.      0.      0.\n",
      "    0.      0.    123.    974.   1872.   2764.  ], Done: False, Info: False \n",
      "\n",
      "Step: 20, Wait Time: 9.666999816894531, Reward: -1, Next State: [   9.667    7.03    37.98     0.       0.       0.       0.       0.\n",
      "    0.       0.       0.     123.     974.    1872.    2764.   ], Done: False, Info: False \n",
      "\n",
      "Step: 21, Wait Time: 10.187999725341797, Reward: -1, Next State: [  10.188    7.03    39.94     0.       0.       0.       0.       0.\n",
      "    0.       0.       0.     123.     974.    1872.    2764.   ], Done: False, Info: False \n",
      "\n",
      "Step: 22, Wait Time: 10.873000144958496, Reward: -1, Next State: [  10.873    7.03    41.89     0.       0.       0.       0.       0.\n",
      "    0.       0.       0.     123.     974.    1872.    2764.   ], Done: False, Info: False \n",
      "\n",
      "Step: 23, Wait Time: 11.239999771118164, Reward: -1, Next State: [  11.24    7.03   43.84    0.      0.      0.      0.      0.      0.\n",
      "    0.      0.    123.    974.   1872.   2764.  ], Done: False, Info: False \n",
      "\n",
      "Step: 24, Wait Time: 11.92199993133545, Reward: -1, Next State: [  11.922    7.03    45.8      0.       0.       0.       0.       0.\n",
      "    0.       0.       0.     123.     974.    1872.    2764.   ], Done: False, Info: False \n",
      "\n",
      "Step: 25, Wait Time: 12.284000396728516, Reward: -1, Next State: [  12.284    7.03    47.75     0.       0.       0.       0.       0.\n",
      "    0.       0.       0.     123.     974.    1872.    2764.   ], Done: False, Info: False \n",
      "\n",
      "Step: 26, Wait Time: 13.284000396728516, Reward: -1, Next State: [  13.284    7.03    49.7      0.       0.       0.       0.       0.\n",
      "    0.       0.       0.     123.     974.    1872.    2764.   ], Done: False, Info: False \n",
      "\n",
      "Step: 27, Wait Time: 14.284000396728516, Reward: -1, Next State: [  14.284    7.03    51.65     0.       0.       0.       0.       0.\n",
      "    0.       0.       0.     123.     974.    1872.    2764.   ], Done: False, Info: False \n",
      "\n",
      "Step: 28, Wait Time: 15.097999572753906, Reward: -1, Next State: [  15.098    7.03    53.61     0.       0.       0.       0.       0.\n",
      "    0.       0.       0.     123.     974.    1872.    2764.   ], Done: False, Info: False \n",
      "\n",
      "Step: 29, Wait Time: 15.17199993133545, Reward: -1, Next State: [  15.172    7.03    55.56     0.       0.       0.       0.       0.\n",
      "    0.       0.       0.     123.     974.    1872.    2764.   ], Done: False, Info: False \n",
      "\n",
      "Step: 30, Wait Time: 16.172000885009766, Reward: -1, Next State: [  16.172    7.03    57.51     0.       0.       0.       0.       0.\n",
      "    0.       0.       0.     123.     974.    1872.    2764.   ], Done: False, Info: False \n",
      "\n",
      "Step: 31, Wait Time: 16.600000381469727, Reward: -1, Next State: [  16.6     7.03   59.47    0.      0.      0.      0.      0.      0.\n",
      "    0.      0.    123.    974.   1872.   2764.  ], Done: False, Info: False \n",
      "\n",
      "Step: 32, Wait Time: 16.85099983215332, Reward: -1, Next State: [  16.851    7.03    61.42     0.       0.       0.       0.       0.\n",
      "    0.       0.       0.     123.     974.    1872.    2764.   ], Done: False, Info: False \n",
      "\n",
      "Step: 33, Wait Time: 17.479000091552734, Reward: -1, Next State: [  17.479    7.03    63.37     0.       0.       0.       0.       0.\n",
      "    0.       0.       0.     123.     974.    1872.    2764.   ], Done: False, Info: False \n",
      "\n",
      "Step: 34, Wait Time: 17.91900062561035, Reward: -1, Next State: [  17.919    7.03    65.33     0.       0.       0.       0.       0.\n",
      "    0.       0.       0.     123.     974.    1872.    2764.   ], Done: False, Info: False \n",
      "\n",
      "Step: 35, Wait Time: 18.18400001525879, Reward: -1, Next State: [  18.184    7.03    67.28     0.       0.       0.       0.       0.\n",
      "    0.       0.       0.     123.     974.    1872.    2764.   ], Done: False, Info: False \n",
      "\n",
      "Step: 36, Wait Time: 18.466999053955078, Reward: -1, Next State: [  18.467    7.03    69.23     0.       0.       0.       0.       0.\n",
      "    0.       0.       0.     123.     974.    1872.    2764.   ], Done: False, Info: False \n",
      "\n",
      "Step: 37, Wait Time: 18.104000091552734, Reward: 1, Next State: [  18.104    7.03    71.19     0.       0.       0.       0.       0.\n",
      "    0.       0.       0.     123.     974.    1872.    2764.   ], Done: False, Info: False \n",
      "\n",
      "Step: 38, Wait Time: 18.461999893188477, Reward: -1, Next State: [  18.462    7.03    73.14     0.       0.       0.       0.       0.\n",
      "    0.       0.       0.     123.     974.    1872.    2764.   ], Done: False, Info: False \n",
      "\n",
      "Step: 39, Wait Time: 19.139999389648438, Reward: -1, Next State: [  19.14    7.03   75.09    0.      0.      0.      0.      0.      0.\n",
      "    0.      0.    123.    974.   1872.   2764.  ], Done: False, Info: False \n",
      "\n",
      "Step: 40, Wait Time: 19.797000885009766, Reward: -1, Next State: [  19.797    7.03    77.05     0.       0.       0.       0.       0.\n",
      "    0.       0.       0.     123.     974.    1872.    2764.   ], Done: False, Info: False \n",
      "\n",
      "Step: 41, Wait Time: 20.780000686645508, Reward: -1, Next State: [  20.78    7.03   79.      0.      0.      0.      0.      0.      0.\n",
      "    0.      0.    123.    974.   1872.   2764.  ], Done: False, Info: False \n",
      "\n",
      "Step: 42, Wait Time: 20.9060001373291, Reward: -1, Next State: [  20.906    7.03    80.95     0.       0.       0.       0.       0.\n",
      "    0.       0.       0.     123.     974.    1872.    2764.   ], Done: False, Info: False \n",
      "\n",
      "Step: 43, Wait Time: 20.924999237060547, Reward: -1, Next State: [  20.925    7.03    82.9      0.       0.       0.       0.       0.\n",
      "    0.       0.       0.     123.     974.    1872.    2764.   ], Done: False, Info: False \n",
      "\n",
      "Step: 44, Wait Time: 21.290000915527344, Reward: -1, Next State: [  21.29    7.03   84.86    0.      0.      0.      0.      0.      0.\n",
      "    0.      0.    123.    974.   1872.   2764.  ], Done: False, Info: False \n",
      "\n",
      "Step: 45, Wait Time: 21.66200065612793, Reward: -1, Next State: [  21.662    7.03    86.81     0.       0.       0.       0.       0.\n",
      "    0.       0.       0.     123.     974.    1872.    2764.   ], Done: False, Info: False \n",
      "\n",
      "Step: 46, Wait Time: 21.878000259399414, Reward: -1, Next State: [  21.878    7.03    88.76     0.       0.       0.       0.       0.\n",
      "    0.       0.       0.     123.     974.    1872.    2764.   ], Done: False, Info: False \n",
      "\n",
      "Step: 47, Wait Time: 22.264999389648438, Reward: -1, Next State: [  22.265    7.03    90.72     0.       0.       0.       0.       0.\n",
      "    0.       0.       0.     123.     974.    1872.    2764.   ], Done: False, Info: False \n",
      "\n",
      "Step: 48, Wait Time: 22.658000946044922, Reward: -1, Next State: [  22.658    7.03    92.67     0.       0.       0.       0.       0.\n",
      "    0.       0.       0.     123.     974.    1872.    2764.   ], Done: False, Info: False \n",
      "\n",
      "Step: 49, Wait Time: 23.062999725341797, Reward: -1, Next State: [  23.063    7.03    94.62     0.       0.       0.       0.       0.\n",
      "    0.       0.       0.     123.     974.    1872.    2764.   ], Done: False, Info: False \n",
      "\n",
      "Step #50.00 (0ms ?*RT. ?UPS, TraCI: 34ms, vehicles TOT 2 ACT 2 BUF 0)                     \n"
     ]
    }
   ],
   "source": [
    "import random \n",
    "# Test the environment\n",
    "env = SumoEnv()\n",
    "\n",
    "# Reset the environment to get the initial state\n",
    "state, info = env.reset()\n",
    "\n",
    "# Loop for multiple simulation steps\n",
    "for _ in range(50):\n",
    "  # Take an action (array of integers representing speed changes for each bus)\n",
    "  # Example action (keep speed, slow down, speed up, ...)\n",
    "  #action = [1, 0, 2, 1, 0]\n",
    "  action = [random.randint(0, 2) for i in range(5)]\n",
    "\n",
    "  # Perform a step in the environment\n",
    "  next_state, reward, done, info, truncated = env.step(action)\n",
    "\n",
    "\n",
    "  # Process the reward and next state\n",
    "  np.set_printoptions(suppress=True)\n",
    "  print(f\"Step: {_}, Wait Time: {next_state[0]}, Reward: {reward}, Next State: {next_state}, Done: {done}, Info: {info} \\n\")\n",
    "\n",
    "  # Check if the simulation is done\n",
    "  if done:\n",
    "    break\n",
    "\n",
    "# Close the environment\n",
    "env.close()"
   ]
  },
  {
   "cell_type": "markdown",
   "metadata": {},
   "source": [
    "## Stable baseline 3"
   ]
  },
  {
   "cell_type": "markdown",
   "metadata": {},
   "source": [
    "### Checking Sumo Enviroment\n",
    "Check that an environment follows Gym API. \n",
    "It also optionally check that the environment is compatible with Stable-Baselines."
   ]
  },
  {
   "cell_type": "code",
   "execution_count": 23,
   "metadata": {},
   "outputs": [
    {
     "name": "stdout",
     "output_type": "stream",
     "text": [
      " Retrying in 1 seconds\n"
     ]
    },
    {
     "name": "stderr",
     "output_type": "stream",
     "text": [
      "Warning: Environment variable SUMO_HOME is not set properly, disabling XML validation. Set 'auto' or 'always' for web lookups.\n"
     ]
    },
    {
     "name": "stdout",
     "output_type": "stream",
     "text": [
      "Step #0.00 (0ms ?*RT. ?UPS, TraCI: 1ms, vehicles TOT 0 ACT 0 BUF 0)                      \n",
      " Retrying in 1 seconds\n"
     ]
    },
    {
     "name": "stderr",
     "output_type": "stream",
     "text": [
      "Warning: Environment variable SUMO_HOME is not set properly, disabling XML validation. Set 'auto' or 'always' for web lookups.\n",
      "/Library/Frameworks/Python.framework/Versions/3.11/lib/python3.11/site-packages/stable_baselines3/common/env_checker.py:453: UserWarning: We recommend you to use a symmetric and normalized Box action space (range=[-1, 1]) cf. https://stable-baselines3.readthedocs.io/en/master/guide/rl_tips.html\n",
      "  warnings.warn(\n"
     ]
    },
    {
     "name": "stdout",
     "output_type": "stream",
     "text": [
      "Step #0.00 (0ms ?*RT. ?UPS, TraCI: 1ms, vehicles TOT 0 ACT 0 BUF 0)                      \n",
      " Retrying in 1 seconds\n"
     ]
    },
    {
     "name": "stderr",
     "output_type": "stream",
     "text": [
      "Warning: Environment variable SUMO_HOME is not set properly, disabling XML validation. Set 'auto' or 'always' for web lookups.\n"
     ]
    },
    {
     "name": "stdout",
     "output_type": "stream",
     "text": [
      "Step #1.00 (1ms ~= 1000.00*RT, ~1000.00UPS, TraCI: 31ms, vehicles TOT 1 ACT 1 BUF 1)      \n",
      " Retrying in 1 seconds\n"
     ]
    },
    {
     "name": "stderr",
     "output_type": "stream",
     "text": [
      "Warning: Environment variable SUMO_HOME is not set properly, disabling XML validation. Set 'auto' or 'always' for web lookups.\n"
     ]
    }
   ],
   "source": [
    "# Check that an environment follows Gym API\n",
    "# It also optionally check that the environment is compatible with Stable-Baselines.\n",
    "from stable_baselines3.common.env_checker import check_env\n",
    "\n",
    "env = SumoEnv()\n",
    "check_env(env, warn=True, skip_render_check=True)"
   ]
  },
  {
   "cell_type": "markdown",
   "metadata": {},
   "source": [
    "#### Unit Testing"
   ]
  },
  {
   "cell_type": "code",
   "execution_count": 18,
   "metadata": {},
   "outputs": [
    {
     "name": "stdout",
     "output_type": "stream",
     "text": [
      " Retrying in 1 seconds\n"
     ]
    },
    {
     "name": "stderr",
     "output_type": "stream",
     "text": [
      "Warning: Environment variable SUMO_HOME is not set properly, disabling XML validation. Set 'auto' or 'always' for web lookups.\n",
      "."
     ]
    },
    {
     "name": "stdout",
     "output_type": "stream",
     "text": [
      "Step #202.00 (1ms ~= 1000.00*RT, ~9000.00UPS, TraCI: 41ms, vehicles TOT 9 ACT 9 BUF 1)    \n",
      " Retrying in 1 seconds\n"
     ]
    },
    {
     "name": "stderr",
     "output_type": "stream",
     "text": [
      "Warning: Environment variable SUMO_HOME is not set properly, disabling XML validation. Set 'auto' or 'always' for web lookups.\n",
      "."
     ]
    },
    {
     "name": "stdout",
     "output_type": "stream",
     "text": [
      "Step #15.00 (0ms ?*RT. ?UPS, TraCI: 27ms, vehicles TOT 2 ACT 2 BUF 0)                     \n",
      " Retrying in 1 seconds\n"
     ]
    },
    {
     "name": "stderr",
     "output_type": "stream",
     "text": [
      "Warning: Environment variable SUMO_HOME is not set properly, disabling XML validation. Set 'auto' or 'always' for web lookups.\n",
      "."
     ]
    },
    {
     "name": "stdout",
     "output_type": "stream",
     "text": [
      "Step #15.00 (0ms ?*RT. ?UPS, TraCI: 26ms, vehicles TOT 2 ACT 2 BUF 0)                     \n",
      " Retrying in 1 seconds\n"
     ]
    },
    {
     "name": "stderr",
     "output_type": "stream",
     "text": [
      "Warning: Environment variable SUMO_HOME is not set properly, disabling XML validation. Set 'auto' or 'always' for web lookups.\n",
      "."
     ]
    },
    {
     "name": "stdout",
     "output_type": "stream",
     "text": [
      "Step #15.00 (0ms ?*RT. ?UPS, TraCI: 26ms, vehicles TOT 2 ACT 2 BUF 0)                     \n",
      " Retrying in 1 seconds\n"
     ]
    },
    {
     "name": "stderr",
     "output_type": "stream",
     "text": [
      "Warning: Environment variable SUMO_HOME is not set properly, disabling XML validation. Set 'auto' or 'always' for web lookups.\n",
      "."
     ]
    },
    {
     "name": "stdout",
     "output_type": "stream",
     "text": [
      "Step #0.00 (0ms ?*RT. ?UPS, TraCI: 1ms, vehicles TOT 0 ACT 0 BUF 0)                      \n",
      " Retrying in 1 seconds\n"
     ]
    },
    {
     "name": "stderr",
     "output_type": "stream",
     "text": [
      "Warning: Environment variable SUMO_HOME is not set properly, disabling XML validation. Set 'auto' or 'always' for web lookups.\n",
      "."
     ]
    },
    {
     "name": "stdout",
     "output_type": "stream",
     "text": [
      "Step #1.00 (1ms ~= 1000.00*RT, ~1000.00UPS, TraCI: 34ms, vehicles TOT 1 ACT 1 BUF 1)      \n",
      " Retrying in 1 seconds\n"
     ]
    },
    {
     "name": "stderr",
     "output_type": "stream",
     "text": [
      "Warning: Environment variable SUMO_HOME is not set properly, disabling XML validation. Set 'auto' or 'always' for web lookups.\n",
      ".\n",
      "----------------------------------------------------------------------\n",
      "Ran 7 tests in 29.048s\n",
      "\n",
      "OK\n"
     ]
    },
    {
     "name": "stdout",
     "output_type": "stream",
     "text": [
      "Step #2.00 (0ms ?*RT. ?UPS, TraCI: 22ms, vehicles TOT 1 ACT 1 BUF 1)                      \n"
     ]
    },
    {
     "data": {
      "text/plain": [
       "<unittest.main.TestProgram at 0x2815e0b50>"
      ]
     },
     "execution_count": 18,
     "metadata": {},
     "output_type": "execute_result"
    }
   ],
   "source": [
    "import unittest\n",
    "\n",
    "class TestSumoEnv(unittest.TestCase):\n",
    "  def setUp(self):  # setup the variables here before every test\n",
    "    self.env = SumoEnv()\n",
    "\n",
    "  def tearDown(self):  # after each test\n",
    "    self.env.close()\n",
    "\n",
    "  @classmethod\n",
    "  def tearDownClass(cls):  # after all tests are done\n",
    "    pass\n",
    "\n",
    "  def test_initializations(self):\n",
    "    action = [1, 1, 1, 1, 1]\n",
    "    state, reward, done, info, truncated = self.env.step(action)\n",
    "\n",
    "\n",
    "  \n",
    "    self.assertEqual(len(state), 15)\n",
    "    self.assertTrue((state == (np.array([0.0, 0.0, 0.0, 0, 0, 0, 0,\n",
    "                                        0, 0, 0, 0, 123, 974, 1872, 2764], dtype=np.float32))).all())\n",
    "    \n",
    "    # reward is 1 if new wait time is equal or lower\n",
    "    self.assertEqual(reward, 1)\n",
    "    self.assertFalse(done)\n",
    "\n",
    "  def test_negative_reward(self):\n",
    "    action = [2, 2, 2, 2, 2]\n",
    "    self.env.step(action)\n",
    "    _, reward, *_ = self.env.step(action)\n",
    "    # reward is -1, since pedestrians have now spawned and waiting time has increased\n",
    "    self.assertEqual(reward, -1)\n",
    "\n",
    "  def test_find_nearest_function(self):\n",
    "    self.assertEqual(self.env._find_nearest(\n",
    "        [123, 827, 1742, 2702, 3592], 3800), 123)  # goes into first if statement\n",
    "    self.assertEqual(self.env._find_nearest(\n",
    "        [123, 827, 1742, 2702, 3592], 10000), 123)  # goes into first if statement\n",
    "    # goes into second if statement\n",
    "    self.assertEqual(self.env._find_nearest(\n",
    "        [123, 827, 1742, 2702, 3592], 950), 827)\n",
    "    self.assertEqual(self.env._find_nearest(\n",
    "        [123, 827, 1742, 2702, 3592], 1800), 1742)  # goes into second if statement\n",
    "    self.assertEqual(self.env._find_nearest(\n",
    "        [123, 827, 1742, 2702, 3592], 3592), 3592)  # goes into else if statement\n",
    "    self.assertEqual(self.env._find_nearest(\n",
    "        [123, 827, 1742, 2702, 3592], 123), 123)  # goes into else if statement\n",
    "\n",
    "  def test_do_15_steps_keep_speed(self):\n",
    "    action = [1, 1, 1, 1, 1]  # keep speed\n",
    "\n",
    "    for _ in range(10):\n",
    "      self.env.step([2, 2, 2, 2, 2])\n",
    "\n",
    "    state, *_ = self.env.step(action)\n",
    "    keep_speed_km_t = state[1]\n",
    "    for _ in range(4):\n",
    "      state, *_ = self.env.step(action)\n",
    "      self.assertEqual(state[1], keep_speed_km_t)\n",
    "\n",
    "  def test_do_15_steps_speed_up(self):\n",
    "    action = [2, 2, 2, 2, 2]  # speed up\n",
    "\n",
    "    for _ in range(10):\n",
    "      self.env.step(action)\n",
    "\n",
    "    previous_speed = 0\n",
    "    for _ in range(5):\n",
    "      state, *_ = self.env.step(action)\n",
    "      self.assertGreaterEqual(state[1], previous_speed)\n",
    "      previous_speed = state[1]\n",
    "\n",
    "  def test_do_15_steps_slow_down(self):\n",
    "    action = [0, 0, 0, 0, 0]  # slow down\n",
    "\n",
    "    # assumes min speed before changing speed is 30km/t\n",
    "    self.assertEqual(self.env.min_speed_before_change, 30)\n",
    "    for _ in range(11):  # reaches 30km/t at 11th step\n",
    "      self.env.step(action)\n",
    "\n",
    "    for _ in range(4):  # should keep speed lesser than 30km/t\n",
    "      state, *_ = self.env.step(action)\n",
    "      self.assertLessEqual(state[1], self.env.min_speed_before_change)\n",
    "\n",
    "  def test_all_buses_has_driven_after_202_steps(self):\n",
    "    action = [2, 2, 2, 2, 2]\n",
    "    for _ in range(201):\n",
    "      self.env.step(action)\n",
    "    state, *_ = self.env.step(action)\n",
    "\n",
    "    # check that all buses have driven a distance greater than 0\n",
    "    # edge case: bus position is the route length, and pos % route length is 0 (handled: this busses cannot drive far enough)\n",
    "    indicies_route_position = [2, 4, 6, 8]\n",
    "    for i in indicies_route_position:\n",
    "      self.assertGreater(state[i], 0)\n",
    "\n",
    "\n",
    "unittest.main(argv=[''], exit=False)"
   ]
  },
  {
   "cell_type": "markdown",
   "metadata": {},
   "source": [
    "# Stable baseline 3 PPO Implementation"
   ]
  }
 ],
 "metadata": {
  "kernelspec": {
   "display_name": "Python 3",
   "language": "python",
   "name": "python3"
  },
  "language_info": {
   "codemirror_mode": {
    "name": "ipython",
    "version": 3
   },
   "file_extension": ".py",
   "mimetype": "text/x-python",
   "name": "python",
   "nbconvert_exporter": "python",
   "pygments_lexer": "ipython3",
   "version": "3.11.5"
  }
 },
 "nbformat": 4,
 "nbformat_minor": 2
}
