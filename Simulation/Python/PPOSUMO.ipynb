{
 "cells": [
  {
   "cell_type": "markdown",
   "metadata": {},
   "source": [
    "# Code for Sumo Enviroment"
   ]
  },
  {
   "cell_type": "code",
   "execution_count": 1,
   "metadata": {},
   "outputs": [],
   "source": [
    "# Custom Environment\n",
    "import gymnasium as gym\n",
    "import numpy as np\n",
    "import traci\n",
    "import math\n",
    "from os import path\n",
    "\n",
    "\n",
    "class SumoEnv1(gym.Env):\n",
    "  def __init__(self):\n",
    "\n",
    "    traci.start([\"sumo\", \"-c\", path.abspath(\"../SUMO/test.sumocfg\")])\n",
    "\n",
    "    ## SUMO VARIABLES ##\n",
    "    self.bus_stop_positions = [\n",
    "        [123, 974, 1872, 2764], [123, 827, 1742, 2702, 3592]]\n",
    "    self.bus_locations = {\"-overlap\": \"123\", \"-R2\": \"259\", \"-R1\": \"125\",\n",
    "                          \"-R0\": \"267\", \"-L3\": \"117\", \"-L2\": \"110\", \"-L1\": \"123\", \"-L0\": \"120\"}\n",
    "    self.bus_ids = [\"bus_r_0_0\", \"bus_r_0_1\",\n",
    "                    \"bus_r_0_2\", \"bus_r_0_3\", \"bus_r_0_4\"]\n",
    "\n",
    "    # self.route_names = [[\"-overlap\", \"-R2\", \"-R1\", \"-R0\"], [\"-overlap\", \"-L3\", \"-L2\", \"-L1\", \"-L0\"]]\n",
    "    self.route_lengths = [3591, 4697]\n",
    "    # self.route_junctions={\"J1\": [\"-L0\", \"-R0\", \"-overlap\"], \"J2\": [\"-R0\", \"-R1\"], \"J3\": [\"-R1\", \"-R2\"], \"J4\": [\"-L3\", \"-R2\", \"-overlap\"], \"J5\": [\"-L0\", \"-L1\"], \"J7\": [\"-L1\", \"-L2\"], \"J8\": [\"-L2\", \"-L3\"]}\n",
    "\n",
    "    self.wait_time = 0\n",
    "    self.delta_speed = 0.1\n",
    "    self.min_speed_before_change = 30\n",
    "    self.action_delta_speed = {\n",
    "        0: (1-self.delta_speed), 2: (1+self.delta_speed)}\n",
    "\n",
    "    ## GYM VARIABLES ##\n",
    "    self.bus_num = 5\n",
    "    bus_stops_num = 4\n",
    "    bus_speed_max = 50\n",
    "\n",
    "    # actions: [b1, b2 (...)] # each action is either 0 = slow down, 1 = keep speed, 2 = speed up\n",
    "    self.action_space = gym.spaces.Box(low=np.array(\n",
    "        [0]*self.bus_num), high=np.array([2]*self.bus_num), shape=(self.bus_num,), dtype=np.int32)\n",
    "\n",
    "    # states: [avg_wait_time, b1_speed, b1_pos, b2_speed, b2_pos, (...),  bs1_pos, bs2_pos, bs3_pos, bs4_pos]\n",
    "    wait_max = 100000.00\n",
    "    low_obs = np.zeros([1 + 2*self.bus_num + bus_stops_num])\n",
    "    high_obs = np.array([wait_max] + [bus_speed_max, self.route_lengths[0]]\n",
    "                        * self.bus_num + [self.route_lengths[0]]*bus_stops_num)\n",
    "    self.observation_space = gym.spaces.Box(low=low_obs, high=high_obs, shape=(\n",
    "        1 + 2*self.bus_num + bus_stops_num,), dtype=np.float32)\n",
    "\n",
    "    self.max_steps = 500\n",
    "    self.current_step = 0\n",
    "\n",
    "  def reset(self, seed=None):\n",
    "      traci.close()\n",
    "      self.wait_time = 0\n",
    "      self.current_step = 0\n",
    "      traci.start([\"sumo\", \"-c\", path.abspath(\"../SUMO/test.sumocfg\")])\n",
    "      \n",
    "      # set the buses to the start of the route (MAY FAIL)\n",
    "      return np.concatenate(([self.wait_time], np.zeros(2 * self.bus_num), self.bus_stop_positions[0])).astype(np.float32)[:15], {}\n",
    "\n",
    "\n",
    "  def step(self, action):\n",
    "    try:\n",
    "      next_state = self.sumo_step()\n",
    "\n",
    "      # set action for each bus: 0 = slow down, 1 = keep speed, 2 = speed up\n",
    "      vehicles_length = len(traci.vehicle.getIDList())\n",
    "\n",
    "      for i, bus_action in enumerate(action):\n",
    "        if bus_action == 1 or i >= vehicles_length:\n",
    "          break\n",
    "        bus_id = self.bus_ids[i]\n",
    "        bus_distance_driven = traci.vehicle.getDistance(bus_id)\n",
    "\n",
    "        if np.sign(bus_distance_driven) == -1:\n",
    "          break  # if bus hasnt driven yet, skip\n",
    "\n",
    "        bus_route = traci.vehicle.getRouteID(bus_id)\n",
    "        bus_position = round(bus_distance_driven % (\n",
    "            self.route_lengths[0] if (bus_route == \"r_0\") else self.route_lengths[1]), 3)\n",
    "        nearest_bus_stop_position = self._find_nearest(\n",
    "            self.bus_stop_positions[0 if bus_route == \"r_0\" else 1], bus_position)\n",
    "        bus_speed_km_t = traci.vehicle.getSpeed(bus_id)*3.6  # m/s to km/h\n",
    "\n",
    "        interval = [-22, 3]\n",
    "        # change speed if speed > min_speed_before_change and bus is not at a bus stop\n",
    "        if bus_speed_km_t > self.min_speed_before_change and not (bus_position > nearest_bus_stop_position + interval[0] and bus_position < nearest_bus_stop_position + interval[1]):\n",
    "          # speed is in m/s\n",
    "          new_speed = self.action_delta_speed[bus_action] * \\\n",
    "              traci.vehicle.getSpeed(bus_id)\n",
    "          # smoothly changes to new speed over 1 second\n",
    "          traci.vehicle.slowDown(bus_id, new_speed, 1)\n",
    "\n",
    "      # reward are given if the new waiting time is strictly lower, otherwise punished\n",
    "      reward = 1 if next_state[0] < self.wait_time else -1\n",
    "\n",
    "      # set the wait time to the current wait time\n",
    "      self.wait_time = next_state[0]\n",
    "\n",
    "      # check if done\n",
    "      self.current_step += 1\n",
    "      done = False\n",
    "      if (self.current_step >= self.max_steps):\n",
    "        done = True\n",
    "\n",
    "      truncated = False\n",
    "      return np.array(next_state, dtype=np.float32), reward, truncated, done, {}\n",
    "\n",
    "    except Exception as e:  # if there is an error, close the simulation\n",
    "      print(\"An error occurred. Closing simulation.\")\n",
    "      print(\"Error: \", e)\n",
    "      traci.close()\n",
    "\n",
    "  def render(self):\n",
    "    pass\n",
    "\n",
    "  def close(self):\n",
    "    pass\n",
    "\n",
    "  # SUMO FUNCTIONS\n",
    "  def sumo_step(self):\n",
    "    # state [avg_wait_time, b1_speed, b1_pos, b2_speed, b2_pos, (...),  bs1_pos, bs2_pos, bs3_pos, bs4_pos]\n",
    "    new_state = [0] * (1 + 2 * self.bus_num) + self.bus_stop_positions[0]\n",
    "    personsWaitingTimeList = []\n",
    "    traci.simulationStep()\n",
    "\n",
    "    vehicles = traci.vehicle.getIDList()\n",
    "    persons = traci.person.getIDList()\n",
    "\n",
    "    # finds the average waiting time\n",
    "    for i in range(0, len(persons)):\n",
    "      personWaitingTime = traci.person.getWaitingTime(persons[i])\n",
    "      personsWaitingTimeList.append(personWaitingTime)\n",
    "\n",
    "    persons_waiting_num = len(personsWaitingTimeList)\n",
    "    new_state[0] = round(sum(personsWaitingTimeList) /\n",
    "                         persons_waiting_num, 3) if persons_waiting_num > 0 else 0.0\n",
    "\n",
    "    # finds bus speed and position\n",
    "    for j in range(0, len(vehicles)):\n",
    "      vehicleId = vehicles[j]\n",
    "      if traci.vehicle.getRouteID(vehicleId) != \"r_0\":\n",
    "        continue\n",
    "\n",
    "      vehicleSpeed = traci.vehicle.getSpeed(vehicleId)*3.6  # m/s to km/h\n",
    "      vehiclePosition = traci.vehicle.getDistance(vehicleId) % (self.route_lengths[0]\n",
    "                                                                if (traci.vehicle.getRouteID(vehicleId) == \"r_0\") else self.route_lengths[1])\n",
    "      new_state[1 + 2*j] = round(vehicleSpeed, 2)\n",
    "      new_state[2 + 2*j] = round(vehiclePosition, 2)\n",
    "    return new_state\n",
    "\n",
    "  def _find_nearest(self, array, value):  # BUG FIND NEAREST BUS STOP\n",
    "    idx = np.searchsorted(array, value, side=\"left\")\n",
    "    if (idx == len(array) and math.fabs(value - (array[0] + array[idx-1])) < math.fabs(value - array[idx-1])):\n",
    "      return array[0]\n",
    "    elif idx > 0 and math.fabs(value - array[idx-1]) < math.fabs(value - array[idx]):\n",
    "      return array[idx-1]\n",
    "    else:\n",
    "      return array[idx]"
   ]
  },
  {
   "cell_type": "markdown",
   "metadata": {},
   "source": [
    "#### Manual Testing"
   ]
  },
  {
   "cell_type": "code",
   "execution_count": 90,
   "metadata": {},
   "outputs": [
    {
     "name": "stdout",
     "output_type": "stream",
     "text": [
      "Step #0.00 (0ms ?*RT. ?UPS, TraCI: 214562ms, vehicles TOT 0 ACT 0 BUF 0)                 \n"
     ]
    }
   ],
   "source": [
    "traci.close()"
   ]
  },
  {
   "cell_type": "code",
   "execution_count": 91,
   "metadata": {},
   "outputs": [
    {
     "name": "stdout",
     "output_type": "stream",
     "text": [
      " Retrying in 1 seconds\n"
     ]
    },
    {
     "name": "stderr",
     "output_type": "stream",
     "text": [
      "Warning: Environment variable SUMO_HOME is not set properly, disabling XML validation. Set 'auto' or 'always' for web lookups.\n"
     ]
    },
    {
     "ename": "TypeError",
     "evalue": "can't multiply sequence by non-int of type 'numpy.float32'",
     "output_type": "error",
     "traceback": [
      "\u001b[0;31m---------------------------------------------------------------------------\u001b[0m",
      "\u001b[0;31mTypeError\u001b[0m                                 Traceback (most recent call last)",
      "Cell \u001b[0;32mIn[91], line 2\u001b[0m\n\u001b[1;32m      1\u001b[0m \u001b[38;5;66;03m# Test the environment\u001b[39;00m\n\u001b[0;32m----> 2\u001b[0m env \u001b[38;5;241m=\u001b[39m \u001b[43mSumoEnv\u001b[49m\u001b[43m(\u001b[49m\u001b[43m)\u001b[49m\n\u001b[1;32m      4\u001b[0m \u001b[38;5;66;03m# Reset the environment to get the initial state\u001b[39;00m\n\u001b[1;32m      5\u001b[0m state, info \u001b[38;5;241m=\u001b[39m env\u001b[38;5;241m.\u001b[39mreset()\n",
      "Cell \u001b[0;32mIn[89], line 49\u001b[0m, in \u001b[0;36mSumoEnv.__init__\u001b[0;34m(self)\u001b[0m\n\u001b[1;32m     47\u001b[0m wait_max \u001b[38;5;241m=\u001b[39m \u001b[38;5;241m100000\u001b[39m\n\u001b[1;32m     48\u001b[0m low_obs \u001b[38;5;241m=\u001b[39m np\u001b[38;5;241m.\u001b[39mzeros([\u001b[38;5;241m1\u001b[39m \u001b[38;5;241m+\u001b[39m \u001b[38;5;241m2\u001b[39m\u001b[38;5;241m*\u001b[39m\u001b[38;5;28mself\u001b[39m\u001b[38;5;241m.\u001b[39mbus_num \u001b[38;5;241m+\u001b[39m bus_stops_num])\n\u001b[0;32m---> 49\u001b[0m high_obs \u001b[38;5;241m=\u001b[39m np\u001b[38;5;241m.\u001b[39marray([np\u001b[38;5;241m.\u001b[39mfloat32(wait_max)] \u001b[38;5;241m+\u001b[39m \u001b[43m[\u001b[49m\u001b[43mnp\u001b[49m\u001b[38;5;241;43m.\u001b[39;49m\u001b[43mfloat32\u001b[49m\u001b[43m(\u001b[49m\u001b[43mbus_speed_max\u001b[49m\u001b[43m)\u001b[49m\u001b[43m,\u001b[49m\u001b[43m \u001b[49m\u001b[43mnp\u001b[49m\u001b[38;5;241;43m.\u001b[39;49m\u001b[43mfloat32\u001b[49m\u001b[43m(\u001b[49m\u001b[38;5;28;43mself\u001b[39;49m\u001b[38;5;241;43m.\u001b[39;49m\u001b[43mroute_lengths\u001b[49m\u001b[43m[\u001b[49m\u001b[38;5;241;43m0\u001b[39;49m\u001b[43m]\u001b[49m\u001b[43m)\u001b[49m\u001b[43m]\u001b[49m\n\u001b[1;32m     50\u001b[0m \u001b[43m                    \u001b[49m\u001b[38;5;241;43m*\u001b[39;49m\u001b[43m \u001b[49m\u001b[43mnp\u001b[49m\u001b[38;5;241;43m.\u001b[39;49m\u001b[43mfloat32\u001b[49m\u001b[43m(\u001b[49m\u001b[38;5;28;43mself\u001b[39;49m\u001b[38;5;241;43m.\u001b[39;49m\u001b[43mbus_num\u001b[49m\u001b[43m)\u001b[49m \u001b[38;5;241m+\u001b[39m [np\u001b[38;5;241m.\u001b[39mfloat32(\u001b[38;5;28mself\u001b[39m\u001b[38;5;241m.\u001b[39mroute_lengths[\u001b[38;5;241m0\u001b[39m])]\u001b[38;5;241m*\u001b[39mbus_stops_num)\n\u001b[1;32m     51\u001b[0m \u001b[38;5;28mself\u001b[39m\u001b[38;5;241m.\u001b[39mobservation_space \u001b[38;5;241m=\u001b[39m gym\u001b[38;5;241m.\u001b[39mspaces\u001b[38;5;241m.\u001b[39mBox(low\u001b[38;5;241m=\u001b[39mlow_obs, high\u001b[38;5;241m=\u001b[39mhigh_obs, shape\u001b[38;5;241m=\u001b[39m(\n\u001b[1;32m     52\u001b[0m     \u001b[38;5;241m1\u001b[39m \u001b[38;5;241m+\u001b[39m \u001b[38;5;241m2\u001b[39m\u001b[38;5;241m*\u001b[39m\u001b[38;5;28mself\u001b[39m\u001b[38;5;241m.\u001b[39mbus_num \u001b[38;5;241m+\u001b[39m bus_stops_num,), dtype\u001b[38;5;241m=\u001b[39mnp\u001b[38;5;241m.\u001b[39mfloat32)\n",
      "\u001b[0;31mTypeError\u001b[0m: can't multiply sequence by non-int of type 'numpy.float32'"
     ]
    }
   ],
   "source": [
    "# Test the environment\n",
    "env = SumoEnv()\n",
    "\n",
    "# Reset the environment to get the initial state\n",
    "state, info = env.reset()\n",
    "\n",
    "# Loop for multiple simulation steps\n",
    "for _ in range(5):\n",
    "  # Take an action (array of integers representing speed changes for each bus)\n",
    "  # Example action (keep speed, slow down, speed up, ...)\n",
    "  action = [1, 0, 2, 1, 0]\n",
    "\n",
    "  # Perform a step in the environment\n",
    "  next_state, reward, done, info, truncated = env.step(action)\n",
    "\n",
    "\n",
    "  # Process the reward and next state\n",
    "  np.set_printoptions(suppress=True)\n",
    "  print(f\"Step: {_}, Wait Time: {next_state[0]}, Reward: {reward}, Next State: {next_state}, Done: {done}, Info: {info} \\n\")\n",
    "\n",
    "  # Check if the simulation is done\n",
    "  if done:\n",
    "    break\n",
    "\n",
    "# Close the environment\n",
    "env.close()"
   ]
  },
  {
   "cell_type": "markdown",
   "metadata": {},
   "source": [
    "## Stable baseline 3"
   ]
  },
  {
   "cell_type": "markdown",
   "metadata": {},
   "source": [
    "### Checking Sumo Enviroment\n",
    "Check that an environment follows Gym API. \n",
    "It also optionally check that the environment is compatible with Stable-Baselines."
   ]
  },
  {
   "cell_type": "code",
   "execution_count": 81,
   "metadata": {},
   "outputs": [
    {
     "name": "stdout",
     "output_type": "stream",
     "text": [
      "Step #5.00 (0ms ?*RT. ?UPS, TraCI: 22127ms, vehicles TOT 1 ACT 1 BUF 1)                   \n"
     ]
    }
   ],
   "source": [
    "traci.close()"
   ]
  },
  {
   "cell_type": "code",
   "execution_count": 88,
   "metadata": {},
   "outputs": [
    {
     "name": "stdout",
     "output_type": "stream",
     "text": [
      " Retrying in 1 seconds\n"
     ]
    },
    {
     "name": "stderr",
     "output_type": "stream",
     "text": [
      "Warning: Environment variable SUMO_HOME is not set properly, disabling XML validation. Set 'auto' or 'always' for web lookups.\n"
     ]
    },
    {
     "ename": "TypeError",
     "evalue": "can't multiply sequence by non-int of type 'numpy.float32'",
     "output_type": "error",
     "traceback": [
      "\u001b[0;31m---------------------------------------------------------------------------\u001b[0m",
      "\u001b[0;31mTypeError\u001b[0m                                 Traceback (most recent call last)",
      "Cell \u001b[0;32mIn[88], line 5\u001b[0m\n\u001b[1;32m      1\u001b[0m \u001b[38;5;66;03m# Check that an environment follows Gym API\u001b[39;00m\n\u001b[1;32m      2\u001b[0m \u001b[38;5;66;03m# It also optionally check that the environment is compatible with Stable-Baselines.\u001b[39;00m\n\u001b[1;32m      3\u001b[0m \u001b[38;5;28;01mfrom\u001b[39;00m \u001b[38;5;21;01mstable_baselines3\u001b[39;00m\u001b[38;5;21;01m.\u001b[39;00m\u001b[38;5;21;01mcommon\u001b[39;00m\u001b[38;5;21;01m.\u001b[39;00m\u001b[38;5;21;01menv_checker\u001b[39;00m \u001b[38;5;28;01mimport\u001b[39;00m check_env\n\u001b[0;32m----> 5\u001b[0m env \u001b[38;5;241m=\u001b[39m \u001b[43mSumoEnv\u001b[49m\u001b[43m(\u001b[49m\u001b[43m)\u001b[49m\n\u001b[1;32m      6\u001b[0m check_env(env, warn\u001b[38;5;241m=\u001b[39m\u001b[38;5;28;01mTrue\u001b[39;00m, skip_render_check\u001b[38;5;241m=\u001b[39m\u001b[38;5;28;01mTrue\u001b[39;00m)\n",
      "Cell \u001b[0;32mIn[86], line 49\u001b[0m, in \u001b[0;36mSumoEnv.__init__\u001b[0;34m(self)\u001b[0m\n\u001b[1;32m     47\u001b[0m wait_max \u001b[38;5;241m=\u001b[39m \u001b[38;5;241m100000\u001b[39m\n\u001b[1;32m     48\u001b[0m low_obs \u001b[38;5;241m=\u001b[39m np\u001b[38;5;241m.\u001b[39mzeros([\u001b[38;5;241m1\u001b[39m \u001b[38;5;241m+\u001b[39m \u001b[38;5;241m2\u001b[39m\u001b[38;5;241m*\u001b[39m\u001b[38;5;28mself\u001b[39m\u001b[38;5;241m.\u001b[39mbus_num \u001b[38;5;241m+\u001b[39m bus_stops_num])\n\u001b[0;32m---> 49\u001b[0m high_obs \u001b[38;5;241m=\u001b[39m np\u001b[38;5;241m.\u001b[39marray([np\u001b[38;5;241m.\u001b[39mfloat32(wait_max)] \u001b[38;5;241m+\u001b[39m \u001b[43m[\u001b[49m\u001b[43mnp\u001b[49m\u001b[38;5;241;43m.\u001b[39;49m\u001b[43mfloat32\u001b[49m\u001b[43m(\u001b[49m\u001b[43mbus_speed_max\u001b[49m\u001b[43m)\u001b[49m\u001b[43m,\u001b[49m\u001b[43m \u001b[49m\u001b[43mnp\u001b[49m\u001b[38;5;241;43m.\u001b[39;49m\u001b[43mfloat32\u001b[49m\u001b[43m(\u001b[49m\u001b[38;5;28;43mself\u001b[39;49m\u001b[38;5;241;43m.\u001b[39;49m\u001b[43mroute_lengths\u001b[49m\u001b[43m[\u001b[49m\u001b[38;5;241;43m0\u001b[39;49m\u001b[43m]\u001b[49m\u001b[43m)\u001b[49m\u001b[43m]\u001b[49m\n\u001b[1;32m     50\u001b[0m \u001b[43m                    \u001b[49m\u001b[38;5;241;43m*\u001b[39;49m\u001b[43m \u001b[49m\u001b[43mnp\u001b[49m\u001b[38;5;241;43m.\u001b[39;49m\u001b[43mfloat32\u001b[49m\u001b[43m(\u001b[49m\u001b[38;5;28;43mself\u001b[39;49m\u001b[38;5;241;43m.\u001b[39;49m\u001b[43mbus_num\u001b[49m\u001b[43m)\u001b[49m \u001b[38;5;241m+\u001b[39m [np\u001b[38;5;241m.\u001b[39mfloat32(\u001b[38;5;28mself\u001b[39m\u001b[38;5;241m.\u001b[39mroute_lengths[\u001b[38;5;241m0\u001b[39m])]\u001b[38;5;241m*\u001b[39mbus_stops_num)\n\u001b[1;32m     51\u001b[0m \u001b[38;5;28mself\u001b[39m\u001b[38;5;241m.\u001b[39mobservation_space \u001b[38;5;241m=\u001b[39m gym\u001b[38;5;241m.\u001b[39mspaces\u001b[38;5;241m.\u001b[39mBox(low\u001b[38;5;241m=\u001b[39mlow_obs, high\u001b[38;5;241m=\u001b[39mhigh_obs, shape\u001b[38;5;241m=\u001b[39m(\n\u001b[1;32m     52\u001b[0m     \u001b[38;5;241m1\u001b[39m \u001b[38;5;241m+\u001b[39m \u001b[38;5;241m2\u001b[39m\u001b[38;5;241m*\u001b[39m\u001b[38;5;28mself\u001b[39m\u001b[38;5;241m.\u001b[39mbus_num \u001b[38;5;241m+\u001b[39m bus_stops_num,), dtype\u001b[38;5;241m=\u001b[39mnp\u001b[38;5;241m.\u001b[39mfloat32)\n",
      "\u001b[0;31mTypeError\u001b[0m: can't multiply sequence by non-int of type 'numpy.float32'"
     ]
    }
   ],
   "source": [
    "# Check that an environment follows Gym API\n",
    "# It also optionally check that the environment is compatible with Stable-Baselines.\n",
    "from stable_baselines3.common.env_checker import check_env\n",
    "\n",
    "env = SumoEnv()\n",
    "check_env(env, warn=True, skip_render_check=True)"
   ]
  },
  {
   "cell_type": "markdown",
   "metadata": {},
   "source": [
    "# Stable baseline 3 PPO Implmentation"
   ]
  },
  {
   "cell_type": "code",
   "execution_count": 83,
   "metadata": {},
   "outputs": [
    {
     "name": "stdout",
     "output_type": "stream",
     "text": [
      "Step #10.00 (0ms ?*RT. ?UPS, TraCI: 1138145ms, vehicles TOT 2 ACT 2 BUF 0)                 \n"
     ]
    }
   ],
   "source": [
    "traci.close()"
   ]
  }
 ],
 "metadata": {
  "kernelspec": {
   "display_name": "Python 3",
   "language": "python",
   "name": "python3"
  },
  "language_info": {
   "codemirror_mode": {
    "name": "ipython",
    "version": 3
   },
   "file_extension": ".py",
   "mimetype": "text/x-python",
   "name": "python",
   "nbconvert_exporter": "python",
   "pygments_lexer": "ipython3",
   "version": "3.11.5"
  }
 },
 "nbformat": 4,
 "nbformat_minor": 2
}
