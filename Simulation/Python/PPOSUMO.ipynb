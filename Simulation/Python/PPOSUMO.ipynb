{
 "cells": [
  {
   "cell_type": "markdown",
   "metadata": {},
   "source": [
    "# Code for Sumo Enviroment"
   ]
  },
  {
   "cell_type": "code",
   "execution_count": 69,
   "metadata": {},
   "outputs": [],
   "source": [
    "# Custom Environment\n",
    "import gymnasium as gym\n",
    "import numpy as np\n",
    "import traci\n",
    "import math\n",
    "from os import path\n",
    "\n",
    "\n",
    "class SumoEnv(gym.Env):\n",
    "  def __init__(self):\n",
    "\n",
    "    traci.start([\"sumo\", \"-c\", path.abspath(\"../SUMO/test.sumocfg\")])\n",
    "\n",
    "    ## SUMO VARIABLES ##\n",
    "    self.bus_stop_positions = [\n",
    "        [123, 974, 1872, 2764], [123, 827, 1742, 2702, 3592]]\n",
    "    self.bus_locations = {\"-overlap\": \"123\", \"-R2\": \"259\", \"-R1\": \"125\",\n",
    "                          \"-R0\": \"267\", \"-L3\": \"117\", \"-L2\": \"110\", \"-L1\": \"123\", \"-L0\": \"120\"}\n",
    "    self.bus_ids = [\"bus_r_0_0\", \"bus_r_0_1\",\n",
    "                    \"bus_r_0_2\", \"bus_r_0_3\", \"bus_r_0_4\"]\n",
    "\n",
    "    # self.route_names = [[\"-overlap\", \"-R2\", \"-R1\", \"-R0\"], [\"-overlap\", \"-L3\", \"-L2\", \"-L1\", \"-L0\"]]\n",
    "    self.route_lengths = [3591, 4697]\n",
    "    # self.route_junctions={\"J1\": [\"-L0\", \"-R0\", \"-overlap\"], \"J2\": [\"-R0\", \"-R1\"], \"J3\": [\"-R1\", \"-R2\"], \"J4\": [\"-L3\", \"-R2\", \"-overlap\"], \"J5\": [\"-L0\", \"-L1\"], \"J7\": [\"-L1\", \"-L2\"], \"J8\": [\"-L2\", \"-L3\"]}\n",
    "\n",
    "    self.wait_time = 0\n",
    "    self.delta_speed = 0.1\n",
    "    self.min_speed_before_change = 30\n",
    "    self.action_delta_speed = {\n",
    "        0: (1-self.delta_speed), 2: (1+self.delta_speed)}\n",
    "\n",
    "    ## GYM VARIABLES ##\n",
    "    self.bus_num = 5\n",
    "    bus_stops_num = 4\n",
    "    bus_speed_max = 50\n",
    "\n",
    "    # actions: [b1, b2 (...)] # each action is either 0 = slow down, 1 = keep speed, 2 = speed up\n",
    "    self.action_space = gym.spaces.Box(low=np.array(\n",
    "        [0]*self.bus_num), high=np.array([2]*self.bus_num), shape=(self.bus_num,), dtype=np.int32)\n",
    "\n",
    "    # states: [avg_wait_time, b1_speed, b1_pos, b2_speed, b2_pos, (...),  bs1_pos, bs2_pos, bs3_pos, bs4_pos]\n",
    "    wait_max = 100000.00\n",
    "    low_obs = np.zeros([1 + 2*self.bus_num + bus_stops_num])\n",
    "    high_obs = np.array([wait_max] + [bus_speed_max, self.route_lengths[0]]\n",
    "                        * self.bus_num + [self.route_lengths[0]]*bus_stops_num)\n",
    "    self.observation_space = gym.spaces.Box(low=low_obs, high=high_obs, shape=(\n",
    "        1 + 2*self.bus_num + bus_stops_num,), dtype=np.float32)\n",
    "\n",
    "    self.max_steps = 500\n",
    "    self.current_step = 0\n",
    "\n",
    "  def reset(self, seed=None):\n",
    "      traci.close()\n",
    "      self.wait_time = 0\n",
    "      self.current_step = 0\n",
    "      bus_stops_num = 4\n",
    "      traci.start([\"sumo\", \"-c\", path.abspath(\"../SUMO/test.sumocfg\")])\n",
    "      \n",
    "      # set the buses to the start of the route (MAY FAIL)\n",
    "      return np.concatenate(([self.wait_time], np.zeros(2 * self.bus_num), self.bus_stop_positions[0])).astype(np.float32)[:15], {}\n",
    "\n",
    "\n",
    "  def step(self, action):\n",
    "    try:\n",
    "      next_state = self.sumo_step()\n",
    "\n",
    "      # set action for each bus: 0 = slow down, 1 = keep speed, 2 = speed up\n",
    "      vehicles_length = len(traci.vehicle.getIDList())\n",
    "\n",
    "      for i, bus_action in enumerate(action):\n",
    "        if bus_action == 1 or i >= vehicles_length:\n",
    "          break\n",
    "        bus_id = self.bus_ids[i]\n",
    "        bus_distance_driven = traci.vehicle.getDistance(bus_id)\n",
    "\n",
    "        if np.sign(bus_distance_driven) == -1:\n",
    "          break  # if bus hasnt driven yet, skip\n",
    "\n",
    "        bus_route = traci.vehicle.getRouteID(bus_id)\n",
    "        bus_position = round(bus_distance_driven % (\n",
    "            self.route_lengths[0] if (bus_route == \"r_0\") else self.route_lengths[1]), 3)\n",
    "        nearest_bus_stop_position = self._find_nearest(\n",
    "            self.bus_stop_positions[0 if bus_route == \"r_0\" else 1], bus_position)\n",
    "        bus_speed_km_t = traci.vehicle.getSpeed(bus_id)*3.6  # m/s to km/h\n",
    "\n",
    "        interval = [-22, 3]\n",
    "        # change speed if speed > min_speed_before_change and bus is not at a bus stop\n",
    "        if bus_speed_km_t > self.min_speed_before_change and not (bus_position > nearest_bus_stop_position + interval[0] and bus_position < nearest_bus_stop_position + interval[1]):\n",
    "          # speed is in m/s\n",
    "          new_speed = self.action_delta_speed[bus_action] * \\\n",
    "              traci.vehicle.getSpeed(bus_id)\n",
    "          # smoothly changes to new speed over 1 second\n",
    "          traci.vehicle.slowDown(bus_id, new_speed, 1)\n",
    "\n",
    "      # reward are given if the new waiting time is strictly lower, otherwise punished\n",
    "      reward = 1 if next_state[0] < self.wait_time else -1\n",
    "\n",
    "      # set the wait time to the current wait time\n",
    "      self.wait_time = next_state[0]\n",
    "\n",
    "      # check if done\n",
    "      self.current_step += 1\n",
    "      done = False\n",
    "      if (self.current_step >= self.max_steps):\n",
    "        done = True\n",
    "\n",
    "      truncated = False\n",
    "      return np.array(next_state, dtype=np.float32), reward, truncated, done, {}\n",
    "\n",
    "    except Exception as e:  # if there is an error, close the simulation\n",
    "      print(\"An error occurred. Closing simulation.\")\n",
    "      print(\"Error: \", e)\n",
    "      traci.close()\n",
    "\n",
    "  def render(self):\n",
    "    pass\n",
    "\n",
    "  def close(self):\n",
    "    pass\n",
    "\n",
    "  # SUMO FUNCTIONS\n",
    "  def sumo_step(self):\n",
    "    # state [avg_wait_time, b1_speed, b1_pos, b2_speed, b2_pos, (...),  bs1_pos, bs2_pos, bs3_pos, bs4_pos]\n",
    "    new_state = [0] * (1 + 2 * self.bus_num) + self.bus_stop_positions[0]\n",
    "    personsWaitingTimeList = []\n",
    "    traci.simulationStep()\n",
    "\n",
    "    vehicles = traci.vehicle.getIDList()\n",
    "    persons = traci.person.getIDList()\n",
    "\n",
    "    # finds the average waiting time\n",
    "    for i in range(0, len(persons)):\n",
    "      personWaitingTime = traci.person.getWaitingTime(persons[i])\n",
    "      personsWaitingTimeList.append(personWaitingTime)\n",
    "\n",
    "    persons_waiting_num = len(personsWaitingTimeList)\n",
    "    new_state[0] = round(sum(personsWaitingTimeList) /\n",
    "                         persons_waiting_num, 3) if persons_waiting_num > 0 else 0.0\n",
    "\n",
    "    # finds bus speed and position\n",
    "    for j in range(0, len(vehicles)):\n",
    "      vehicleId = vehicles[j]\n",
    "      if traci.vehicle.getRouteID(vehicleId) != \"r_0\":\n",
    "        continue\n",
    "\n",
    "      vehicleSpeed = traci.vehicle.getSpeed(vehicleId)*3.6  # m/s to km/h\n",
    "      vehiclePosition = traci.vehicle.getDistance(vehicleId) % (self.route_lengths[0]\n",
    "                                                                if (traci.vehicle.getRouteID(vehicleId) == \"r_0\") else self.route_lengths[1])\n",
    "      new_state[1 + 2*j] = round(vehicleSpeed, 2)\n",
    "      new_state[2 + 2*j] = round(vehiclePosition, 2)\n",
    "    return new_state\n",
    "\n",
    "  def _find_nearest(self, array, value):  # BUG FIND NEAREST BUS STOP\n",
    "    idx = np.searchsorted(array, value, side=\"left\")\n",
    "    if (idx == len(array) and math.fabs(value - (array[0] + array[idx-1])) < math.fabs(value - array[idx-1])):\n",
    "      return array[0]\n",
    "    elif idx > 0 and math.fabs(value - array[idx-1]) < math.fabs(value - array[idx]):\n",
    "      return array[idx-1]\n",
    "    else:\n",
    "      return array[idx]"
   ]
  },
  {
   "cell_type": "markdown",
   "metadata": {},
   "source": [
    "#### Manual Testing"
   ]
  },
  {
   "cell_type": "code",
   "execution_count": 79,
   "metadata": {},
   "outputs": [
    {
     "name": "stdout",
     "output_type": "stream",
     "text": [
      "Step #5.00 (0ms ?*RT. ?UPS, TraCI: 12702ms, vehicles TOT 1 ACT 1 BUF 1)                   \n"
     ]
    }
   ],
   "source": [
    "traci.close()"
   ]
  },
  {
   "cell_type": "code",
   "execution_count": 80,
   "metadata": {},
   "outputs": [
    {
     "name": "stdout",
     "output_type": "stream",
     "text": [
      " Retrying in 1 seconds\n"
     ]
    },
    {
     "name": "stderr",
     "output_type": "stream",
     "text": [
      "Warning: Environment variable SUMO_HOME is not set properly, disabling XML validation. Set 'auto' or 'always' for web lookups.\n"
     ]
    },
    {
     "name": "stdout",
     "output_type": "stream",
     "text": [
      "Step #0.00 (0ms ?*RT. ?UPS, TraCI: 3ms, vehicles TOT 0 ACT 0 BUF 0)                      \n",
      " Retrying in 1 seconds\n"
     ]
    },
    {
     "name": "stderr",
     "output_type": "stream",
     "text": [
      "Warning: Environment variable SUMO_HOME is not set properly, disabling XML validation. Set 'auto' or 'always' for web lookups.\n"
     ]
    },
    {
     "name": "stdout",
     "output_type": "stream",
     "text": [
      "Step: 0, Wait Time: 0.0, Reward: -1, Next State: [   0.    0.    0.    0.    0.    0.    0.    0.    0.    0.    0.  123.\n",
      "  974. 1872. 2764.], Done: False, Info: False \n",
      "\n",
      "Step: 1, Wait Time: 1.0, Reward: -1, Next State: [   1.      3.14    0.87    0.      0.      0.      0.      0.      0.\n",
      "    0.      0.    123.    974.   1872.   2764.  ], Done: False, Info: False \n",
      "\n",
      "Step: 2, Wait Time: 0.6669999957084656, Reward: 1, Next State: [   0.667    7.03     2.83     0.       0.       0.       0.       0.\n",
      "    0.       0.       0.     123.     974.    1872.    2764.   ], Done: False, Info: False \n",
      "\n",
      "Step: 3, Wait Time: 1.0, Reward: -1, Next State: [   1.      9.23    5.39    0.      0.      0.      0.      0.      0.\n",
      "    0.      0.    123.    974.   1872.   2764.  ], Done: False, Info: False \n",
      "\n",
      "Step: 4, Wait Time: 1.6670000553131104, Reward: -1, Next State: [   1.667   11.54     8.6      0.       0.       0.       0.       0.\n",
      "    0.       0.       0.     123.     974.    1872.    2764.   ], Done: False, Info: False \n",
      "\n"
     ]
    }
   ],
   "source": [
    "# Test the environment\n",
    "env = SumoEnv()\n",
    "\n",
    "# Reset the environment to get the initial state\n",
    "state, info = env.reset()\n",
    "\n",
    "# Loop for multiple simulation steps\n",
    "for _ in range(5):\n",
    "  # Take an action (array of integers representing speed changes for each bus)\n",
    "  # Example action (keep speed, slow down, speed up, ...)\n",
    "  action = [1, 0, 2, 1, 0]\n",
    "\n",
    "  # Perform a step in the environment\n",
    "  next_state, reward, done, info, truncated = env.step(action)\n",
    "\n",
    "\n",
    "  # Process the reward and next state\n",
    "  np.set_printoptions(suppress=True)\n",
    "  print(f\"Step: {_}, Wait Time: {next_state[0]}, Reward: {reward}, Next State: {next_state}, Done: {done}, Info: {info} \\n\")\n",
    "\n",
    "  # Check if the simulation is done\n",
    "  if done:\n",
    "    break\n",
    "\n",
    "# Close the environment\n",
    "env.close()"
   ]
  },
  {
   "cell_type": "markdown",
   "metadata": {},
   "source": [
    "## Stable baseline 3"
   ]
  },
  {
   "cell_type": "markdown",
   "metadata": {},
   "source": [
    "### Checking Sumo Enviroment\n",
    "Check that an environment follows Gym API. \n",
    "It also optionally check that the environment is compatible with Stable-Baselines."
   ]
  },
  {
   "cell_type": "code",
   "execution_count": 81,
   "metadata": {},
   "outputs": [
    {
     "name": "stdout",
     "output_type": "stream",
     "text": [
      "Step #5.00 (0ms ?*RT. ?UPS, TraCI: 22127ms, vehicles TOT 1 ACT 1 BUF 1)                   \n"
     ]
    }
   ],
   "source": [
    "traci.close()"
   ]
  },
  {
   "cell_type": "code",
   "execution_count": 82,
   "metadata": {},
   "outputs": [
    {
     "name": "stdout",
     "output_type": "stream",
     "text": [
      " Retrying in 1 seconds\n"
     ]
    },
    {
     "name": "stderr",
     "output_type": "stream",
     "text": [
      "Warning: Environment variable SUMO_HOME is not set properly, disabling XML validation. Set 'auto' or 'always' for web lookups.\n"
     ]
    },
    {
     "name": "stdout",
     "output_type": "stream",
     "text": [
      "Step #0.00 (0ms ?*RT. ?UPS, TraCI: 6ms, vehicles TOT 0 ACT 0 BUF 0)                      \n",
      " Retrying in 1 seconds\n"
     ]
    },
    {
     "name": "stderr",
     "output_type": "stream",
     "text": [
      "Warning: Environment variable SUMO_HOME is not set properly, disabling XML validation. Set 'auto' or 'always' for web lookups.\n",
      "/Library/Frameworks/Python.framework/Versions/3.11/lib/python3.11/site-packages/stable_baselines3/common/env_checker.py:453: UserWarning: We recommend you to use a symmetric and normalized Box action space (range=[-1, 1]) cf. https://stable-baselines3.readthedocs.io/en/master/guide/rl_tips.html\n",
      "  warnings.warn(\n",
      "/Library/Frameworks/Python.framework/Versions/3.11/lib/python3.11/site-packages/stable_baselines3/common/env_checker.py:464: UserWarning: Your action space has dtype int32, we recommend using np.float32 to avoid cast errors.\n",
      "  warnings.warn(\n"
     ]
    },
    {
     "name": "stdout",
     "output_type": "stream",
     "text": [
      "Step #0.00 (0ms ?*RT. ?UPS, TraCI: 2ms, vehicles TOT 0 ACT 0 BUF 0)                      \n",
      " Retrying in 1 seconds\n"
     ]
    },
    {
     "name": "stderr",
     "output_type": "stream",
     "text": [
      "Warning: Environment variable SUMO_HOME is not set properly, disabling XML validation. Set 'auto' or 'always' for web lookups.\n"
     ]
    },
    {
     "name": "stdout",
     "output_type": "stream",
     "text": [
      "Step #1.00 (0ms ?*RT. ?UPS, TraCI: 32ms, vehicles TOT 1 ACT 1 BUF 1)                      \n",
      " Retrying in 1 seconds\n"
     ]
    },
    {
     "name": "stderr",
     "output_type": "stream",
     "text": [
      "Warning: Environment variable SUMO_HOME is not set properly, disabling XML validation. Set 'auto' or 'always' for web lookups.\n"
     ]
    }
   ],
   "source": [
    "# Check that an environment follows Gym API\n",
    "# It also optionally check that the environment is compatible with Stable-Baselines.\n",
    "from stable_baselines3.common.env_checker import check_env\n",
    "\n",
    "env = SumoEnv()\n",
    "check_env(env, warn=True, skip_render_check=True)"
   ]
  },
  {
   "cell_type": "markdown",
   "metadata": {},
   "source": [
    "# Stable baseline 3 PPO Implmentation"
   ]
  },
  {
   "cell_type": "code",
   "execution_count": null,
   "metadata": {},
   "outputs": [],
   "source": []
  }
 ],
 "metadata": {
  "kernelspec": {
   "display_name": "Python 3",
   "language": "python",
   "name": "python3"
  },
  "language_info": {
   "codemirror_mode": {
    "name": "ipython",
    "version": 3
   },
   "file_extension": ".py",
   "mimetype": "text/x-python",
   "name": "python",
   "nbconvert_exporter": "python",
   "pygments_lexer": "ipython3",
   "version": "3.11.5"
  }
 },
 "nbformat": 4,
 "nbformat_minor": 2
}
