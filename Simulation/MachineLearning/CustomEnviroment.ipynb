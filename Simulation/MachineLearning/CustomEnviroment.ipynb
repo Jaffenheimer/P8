{
 "cells": [
  {
   "cell_type": "markdown",
   "metadata": {},
   "source": [
    "# DQN Test for Custom Enviroment for GYM from Open Ai\n",
    "Example writting using Tensorflow, now using PyTorch"
   ]
  },
  {
   "cell_type": "markdown",
   "metadata": {},
   "source": [
    "## Custom Enviroment"
   ]
  },
  {
   "cell_type": "code",
   "execution_count": 160,
   "metadata": {},
   "outputs": [],
   "source": [
    "from gymnasium import Env\n",
    "from gymnasium.spaces import Discrete, Box\n",
    "import numpy as np\n",
    "import random\n",
    "import math\n",
    "from collections import namedtuple\n",
    "\n",
    "\n",
    "\n",
    "class ShowerEnv(Env):\n",
    "  # __init__ is a special method from Gym that initializes the environment\n",
    "    # action_space is a Discrete space with 3 actions: 0 for left, 1 for stay, and 2 for right\n",
    "    # observation_space is a Box space with a low of 0 and a high of 100\n",
    "  def __init__(self):\n",
    "    self.action_space = Discrete(3)\n",
    "    self.observation_space = Box(low=np.array(\n",
    "        [0]), high=np.array([100]), dtype=np.float32)\n",
    "\n",
    "    self.state = 38 + random.randint(-3, 3)\n",
    "    self.shower_length = 60\n",
    "\n",
    "  # step is a special method from Gym that takes an action and returns the next state, reward, done, and info\n",
    "      # action is an integer from 0 to 2, where 0 is left, 1 is stay, and 2 is right\n",
    "      # state is an integer from 0 to 100, where 0 is cold, 100 is hot, and 37 to 39 is the ideal temperature\n",
    "      # reward is 1 if the temperature is ideal, and -1 otherwise\n",
    "      # done is True if the shower is over, and False otherwise\n",
    "      # info is an empty dictionary\n",
    "  def step(self, action):\n",
    "    self.state += action - 1\n",
    "    self.shower_length -= 1\n",
    "\n",
    "    if self.state >= 37 and self.state <= 39:\n",
    "      reward = 1\n",
    "    else:\n",
    "      reward = -1\n",
    "\n",
    "    if self.shower_length <= 0:\n",
    "      done = True\n",
    "    else:\n",
    "      done = False\n",
    "\n",
    "    self.state += random.randint(-1, 1)\n",
    "    info = {}\n",
    "\n",
    "    return self.state, reward, done, info\n",
    "\n",
    "  # render is a method from Gym, that renders the environment \n",
    "  def render(self):\n",
    "    pass\n",
    "\n",
    "  # reset is a special method from Gym that resets the environment\n",
    "  def reset(self):\n",
    "    self.state = 38 + random.randint(-3, 3)\n",
    "    self.shower_length = 60\n",
    "    return [self.state], {}"
   ]
  },
  {
   "cell_type": "markdown",
   "metadata": {},
   "source": [
    "### Does it pass the Stable-baseline3 checker"
   ]
  },
  {
   "cell_type": "code",
   "execution_count": 161,
   "metadata": {},
   "outputs": [],
   "source": [
    "# # check_env is a method from Stable Baselines that checks if the environment is compatible with the algorithms\n",
    "\n",
    "# from stable_baselines.common.env_checker import check_env\n",
    "# check_env(ShowerEnv(), warn=True, skip_render_check=True)  \n",
    "\n"
   ]
  },
  {
   "cell_type": "markdown",
   "metadata": {},
   "source": [
    "### Manual Testing"
   ]
  },
  {
   "cell_type": "code",
   "execution_count": 162,
   "metadata": {},
   "outputs": [
    {
     "name": "stdout",
     "output_type": "stream",
     "text": [
      "step: 0 ,state: 39, action: 1, reward: -1, done: False\n",
      "step: 1 ,state: 34, action: 0, reward: -1, done: False\n",
      "step: 2 ,state: 35, action: 1, reward: -1, done: False\n",
      "step: 3 ,state: 41, action: 0, reward: -1, done: False\n",
      "step: 4 ,state: 39, action: 1, reward: -1, done: False\n",
      "step: 5 ,state: 35, action: 1, reward: -1, done: False\n",
      "step: 6 ,state: 39, action: 0, reward: -1, done: False\n",
      "step: 7 ,state: 42, action: 1, reward: -1, done: False\n",
      "step: 8 ,state: 35, action: 0, reward: -1, done: False\n",
      "step: 9 ,state: 39, action: 0, reward: 1, done: False\n",
      "step: 10 ,state: 42, action: 1, reward: -1, done: False\n",
      "step: 11 ,state: 37, action: 1, reward: -1, done: False\n",
      "step: 12 ,state: 39, action: 0, reward: 1, done: False\n",
      "step: 13 ,state: 36, action: 2, reward: -1, done: False\n",
      "step: 14 ,state: 42, action: 1, reward: -1, done: False\n",
      "step: 15 ,state: 35, action: 2, reward: -1, done: False\n",
      "step: 16 ,state: 37, action: 2, reward: 1, done: False\n",
      "step: 17 ,state: 36, action: 1, reward: -1, done: False\n",
      "step: 18 ,state: 38, action: 2, reward: 1, done: False\n",
      "step: 19 ,state: 33, action: 0, reward: -1, done: False\n"
     ]
    }
   ],
   "source": [
    "env = ShowerEnv()\n",
    "\n",
    "# Manually implement the agent, to take random actions for 5 steps\n",
    "for _ in range(20):\n",
    "  state = env.reset()\n",
    "  action = env.action_space.sample()\n",
    "  state, reward, done, info = env.step(action)\n",
    "  print(f\"step: {_} ,state: {state}, action: {action}, reward: {reward}, done: {done}\")\n",
    "  if done: \n",
    "    break"
   ]
  },
  {
   "cell_type": "markdown",
   "metadata": {},
   "source": [
    "## Machine Learning"
   ]
  },
  {
   "cell_type": "markdown",
   "metadata": {},
   "source": [
    "### Setting up"
   ]
  },
  {
   "cell_type": "code",
   "execution_count": 163,
   "metadata": {},
   "outputs": [
    {
     "data": {
      "text/plain": [
       "<contextlib.ExitStack at 0x17a785f90>"
      ]
     },
     "execution_count": 163,
     "metadata": {},
     "output_type": "execute_result"
    }
   ],
   "source": [
    "import gymnasium as gym\n",
    "from collections import deque\n",
    "import torch\n",
    "import torch.nn as nn\n",
    "import torch.optim as optim\n",
    "import matplotlib.pyplot as plt\n",
    "import matplotlib\n",
    "\n",
    "# Use Cuda (GPU) if available\n",
    "device = torch.device(\"cuda\" if torch.cuda.is_available() else \"cpu\")\n",
    "\n",
    "# set up matplotlib\n",
    "is_ipython = 'inline' in matplotlib.get_backend()\n",
    "if is_ipython:\n",
    "    from IPython import display\n",
    "\n",
    "plt.ion()"
   ]
  },
  {
   "cell_type": "markdown",
   "metadata": {},
   "source": [
    "### Define the replay buffer"
   ]
  },
  {
   "cell_type": "code",
   "execution_count": 164,
   "metadata": {},
   "outputs": [],
   "source": [
    "# Replay \n",
    " \n",
    "Transition = namedtuple('Transition', ('state', 'action', 'next_state', 'reward'))\n",
    "\n",
    "class ReplayBuffer:\n",
    "    # Initialize the buffer\n",
    "    def __init__(self, capacity):\n",
    "        self.buffer = deque(maxlen=capacity)\n",
    "    \n",
    "    # Push a new experience to the buffer\n",
    "    def push(self, *args):\n",
    "        ''' Save a transition to the buffer'''\n",
    "        self.buffer.append(Transition(*args) )\n",
    "    \n",
    "    # Sample a random batch of experiences from the buffer\n",
    "    def sample(self, batch_size): \n",
    "        ''' Sample a batch of experiences from the buffer'''\n",
    "        return random.sample(self.buffer, batch_size)\n",
    "        # states, actions, rewards, next_states, dones = zip(*random.sample(self.buffer, batch_size))\n",
    "        # return states, actions, rewards, next_states, dones\n",
    "    \n",
    "    # Return the length of the buffer (Maybe not neeeded)\n",
    "    def __len__(self):\n",
    "        return len(self.buffer)"
   ]
  },
  {
   "cell_type": "markdown",
   "metadata": {},
   "source": [
    "### Define the DQN network\n"
   ]
  },
  {
   "cell_type": "code",
   "execution_count": 165,
   "metadata": {},
   "outputs": [],
   "source": [
    "# Deep Q-Network\n",
    "class DQN(nn.Module):\n",
    "    # Initialize the network with 3 fully connected layers with ReLU activation functions \n",
    "    def __init__(self, n_observations, n_actions):\n",
    "        super(DQN, self).__init__()\n",
    "        # self.layer1 = nn.Linear(n_observations, 24)  # Input layer\n",
    "        # self.layer2 = nn.Linear(24, 24)  # Hidden layer\n",
    "        # self.layer3 = nn.Linear(24, n_actions) # Output layer\n",
    "\n",
    "        self.layer1 = nn.Linear(n_observations, 128)\n",
    "        self.layer2 = nn.Linear(128, 128)\n",
    "        self.layer3 = nn.Linear(128, n_actions)\n",
    "\n",
    "    # Forward pass through the network \n",
    "    # The input is the state, and the output is the Q-values for each action\n",
    "    def forward(self, x): \n",
    "        # x = torch.relu(self.layer1(x))\n",
    "        # Explicitly cast x to float before passing to layer1\n",
    "        x = torch.relu(self.layer1(x.float()))\n",
    "        # x = torch.relu(self.layer2(x))\n",
    "        # Explicitly cast x to float before passing to layer1\n",
    "        x = torch.relu(self.layer2(x.float()))\n",
    "        x = self.layer3(x)\n",
    "        return x"
   ]
  },
  {
   "cell_type": "markdown",
   "metadata": {},
   "source": [
    "### Hyperparameters\n",
    "1. BATCH_SIZE is the number of transitions sampled from the replay buffer\n",
    "2. GAMMA is the discount factor as mentioned in the previous section\n",
    "3. EPS_START is the starting value of epsilon\n",
    "4. EPS_END is the final value of epsilon\n",
    "5. EPS_DECAY controls the rate of exponential decay of epsilon, higher means a slower decay\n",
    "6. TAU is the update rate of the target network\n",
    "7. LR is the learning rate of the ``AdamW`` optimizer\n",
    "8. The size of memory for the Replay Buffer"
   ]
  },
  {
   "cell_type": "code",
   "execution_count": 166,
   "metadata": {},
   "outputs": [],
   "source": [
    "# Hyperparameters\n",
    "# The discount factor, batch size, learning rate, target update frequency, and memory size\n",
    "BATCH_SIZE = 128\n",
    "GAMMA = 0.99\n",
    "EPS_START = 0.9\n",
    "EPS_END = 0.05\n",
    "EPS_DECAY = 1000\n",
    "TAU = 0.005\n",
    "LR = 1e-4\n",
    "MEMORY_SIZE = 10000"
   ]
  },
  {
   "cell_type": "markdown",
   "metadata": {},
   "source": [
    "### Initialize environment and DQN"
   ]
  },
  {
   "cell_type": "code",
   "execution_count": 167,
   "metadata": {},
   "outputs": [],
   "source": [
    "# Initialize the environment, the policy network, the target network, and the optimizer\n",
    "env = ShowerEnv()\n",
    "\n",
    "# Get number of actions from gym action space\n",
    "n_actions = env.action_space.n\n",
    "\n",
    "state, info = env.reset()\n",
    "n_observations = len(state)\n",
    "\n",
    "policy_net = DQN(n_observations, n_actions)\n",
    "target_net = DQN(n_observations, n_actions)\n",
    "target_net.load_state_dict(policy_net.state_dict())\n",
    "target_net.eval()\n",
    "\n",
    "steps_done = 0\n"
   ]
  },
  {
   "cell_type": "markdown",
   "metadata": {},
   "source": [
    "### Initialize optimizer and replay buffer\n"
   ]
  },
  {
   "cell_type": "code",
   "execution_count": 168,
   "metadata": {},
   "outputs": [],
   "source": [
    "# The optimizer is Adam with a learning rate of 0.001\n",
    "optimizer = optim.Adam(policy_net.parameters(), lr=LR, amsgrad=True)\n",
    "\n",
    "# memory is initialized with the ReplayBuffer class\n",
    "memory = ReplayBuffer(MEMORY_SIZE)"
   ]
  },
  {
   "cell_type": "markdown",
   "metadata": {},
   "source": [
    "### Select Action"
   ]
  },
  {
   "cell_type": "code",
   "execution_count": 169,
   "metadata": {},
   "outputs": [],
   "source": [
    "# select_action function selects an action using an epsilon-greedy policy\n",
    "def select_action(state):\n",
    "    global steps_done\n",
    "    sample = random.random()\n",
    "    eps_threshold = EPS_END + (EPS_START - EPS_END) * \\\n",
    "        math.exp(-1. * steps_done / EPS_DECAY)\n",
    "    \n",
    "    steps_done += 1\n",
    "\n",
    "    # Epsilon-greedy policy, where epsilon is the probability of selecting a random action\n",
    "    if sample > eps_threshold: \n",
    "        with torch.no_grad():\n",
    "            # t.max(1) will return the largest column value of each row.\n",
    "            # second column on max result is index of where max element was\n",
    "            # found, so we pick action with the larger expected reward.\n",
    "            return policy_net(state).max(1).indices.view(1,1)\n",
    "    else: \n",
    "        return torch.tensor([[env.action_space.sample()]], device=device, dtype=torch.long)\n"
   ]
  },
  {
   "cell_type": "markdown",
   "metadata": {},
   "source": [
    "### Plot Duration"
   ]
  },
  {
   "cell_type": "code",
   "execution_count": 170,
   "metadata": {},
   "outputs": [],
   "source": [
    "\n",
    "episode_average_states = []  # List to store rewards for each episode\n",
    "def plot_average_states(show_result=False):\n",
    "    plt.figure(1)\n",
    "    plt.clf()\n",
    "\n",
    "    durations_t = torch.tensor(episode_average_states, dtype=torch.float)\n",
    "    \n",
    "    # Show if the the traning is complete\n",
    "    if show_result: \n",
    "        plt.title('Average State (Temperature) per Episode')\n",
    "    else: \n",
    "        plt.clf() # Clear the plot\n",
    "        plt.title('Training...')\n",
    "    \n",
    "    # Plot the episode durations\n",
    "    plt.xlabel('Episode')\n",
    "    plt.ylabel('Average State (Temperature)')\n",
    "    plt.plot(np.array(episode_average_states))\n",
    "\n",
    "    plt.pause(0.001)  # pause a bit so that plots are updated\n",
    "\n",
    "    if is_ipython: \n",
    "        if not show_result: \n",
    "            display.display(plt.gcf()) \n",
    "            display.clear_output(wait=True)\n",
    "        else: \n",
    "            display.display(plt.gcf)"
   ]
  },
  {
   "cell_type": "markdown",
   "metadata": {},
   "source": [
    "### Optimize Model"
   ]
  },
  {
   "cell_type": "code",
   "execution_count": 171,
   "metadata": {},
   "outputs": [],
   "source": [
    "# Function that performs a single step of the optimization\n",
    "def optimize_model():\n",
    "    if len(memory) < BATCH_SIZE:\n",
    "        return\n",
    "    \n",
    "    transitions = memory.sample(BATCH_SIZE)\n",
    "\n",
    "    batch = Transition(*zip(*transitions))\n",
    "\n",
    "    # Compute a mask of non-final states and concatenate the batch elements\n",
    "    # (a final state would've been the one after which simulation ended)\n",
    "    non_final_mask = torch.tensor((tuple(map(lambda s: s is not None, batch.next_state))), device=device, dtype=torch.bool)\n",
    "    non_final_next_states = torch.cat([s for s in batch.next_state if s is not None])\n",
    "\n",
    "\n",
    "    state_batch = torch.cat(batch.state)\n",
    "    action_batch = torch.cat(batch.action)\n",
    "    reward_batch = torch.cat(batch.reward)\n",
    "\n",
    "\n",
    "    # Compute Q(s_t, a) - the model computes Q(s_t), then we select the\n",
    "    # columns of actions taken. These are the actions which would've been taken\n",
    "    # for each batch state according to policy_net\n",
    "    state_action_values = policy_net(state_batch).gather(1, action_batch)\n",
    "\n",
    "\n",
    "    next_state_values = torch.zeros(BATCH_SIZE, device=device)\n",
    "\n",
    "    with torch.no_grad():\n",
    "        next_state_values[non_final_mask] = target_net(\n",
    "            non_final_next_states).max(1).values\n",
    "        \n",
    "\n",
    "    # Compute the expected Q values\n",
    "    expected_state_action_values = (next_state_values * GAMMA) + reward_batch\n",
    "\n",
    "    # Compute Huber loss\n",
    "    criterion = nn.SmoothL1Loss()\n",
    "    loss = criterion(state_action_values, expected_state_action_values.unsqueeze(1))\n",
    "\n",
    "    # Optimize the model\n",
    "    optimizer.zero_grad()\n",
    "    loss.backward()\n",
    "\n",
    "    # In-place graident clipping\n",
    "    torch.nn.utils.clip_grad_norm_(policy_net.parameters(), 100)\n",
    "    optimizer.step()"
   ]
  },
  {
   "cell_type": "markdown",
   "metadata": {},
   "source": [
    "### Traning Loop"
   ]
  },
  {
   "cell_type": "code",
   "execution_count": 174,
   "metadata": {},
   "outputs": [
    {
     "name": "stdout",
     "output_type": "stream",
     "text": [
      "Complete\n"
     ]
    },
    {
     "data": {
      "image/png": "[encoded data removed]",
      "text/plain": [
       "<Figure size 640x480 with 1 Axes>"
      ]
     },
     "metadata": {},
     "output_type": "display_data"
    },
    {
     "data": {
      "text/plain": [
       "<function matplotlib.pyplot.gcf() -> 'Figure'>"
      ]
     },
     "metadata": {},
     "output_type": "display_data"
    }
   ],
   "source": [
    "from itertools import count\n",
    "\n",
    "num_episodes = 500 \n",
    "\n",
    "f = open(\"training_log.csv\", \"w\")\n",
    "#f.write(f\" step, state, action, reward, done\\n\")\n",
    "\n",
    "episode_states = []  # List to store rewards for each episode\n",
    "for i_episodes in range(num_episodes): \n",
    "    # Initialize the environment and gets its state\n",
    "    state, info = env.reset()\n",
    "    state = torch.tensor(state, dtype=torch.float32, device=device).unsqueeze(0)  # Add one unsqueeze operation\n",
    "\n",
    "    f.write(f\"Episode: {i_episodes} \\n\")\n",
    "    for t in count():\n",
    "        action = select_action(state)\n",
    "        state, reward, done, info = env.step(action)\n",
    "        observation, reward, done, info = env.step(\n",
    "            action.item())\n",
    "        \n",
    "        # Priting to the log file\n",
    "        state_value = state.item()  # Assuming state is a single-element tensor\n",
    "        action_value = action.item()\n",
    "        f.write(\n",
    "            f\"Step: {t}, State: {state_value}, Action: {action_value}, Reward: {reward}, Done: {done} \\n\")\n",
    "        reward = torch.tensor([reward], device=device)\n",
    "\n",
    "        # Track episode average states\n",
    "        episode_states.append(state_value) # Append the state to the list\n",
    "        \n",
    "\n",
    "        if done: \n",
    "            next_state = None\n",
    "        else:\n",
    "            next_state = torch.tensor([observation], dtype=torch.float32, device=device).unsqueeze(0)\n",
    "        \n",
    "        # Store the transition in memory\n",
    "        memory.push(state, action, next_state, reward)\n",
    "        \n",
    "        # Move to the next state\n",
    "        state = next_state\n",
    "\n",
    "        # Perform one step of the optimization (on the target network)\n",
    "        optimize_model()\n",
    "\n",
    "        target_net_state_dict = target_net.state_dict()\n",
    "        policy_net_state_dict = policy_net.state_dict()\n",
    "\n",
    "        for key in policy_net_state_dict:\n",
    "                target_net_state_dict[key] = policy_net_state_dict[key] * \\\n",
    "                    TAU + target_net_state_dict[key]*(1-TAU)\n",
    "            \n",
    "        target_net.load_state_dict(target_net_state_dict)\n",
    "\n",
    "        if done: \n",
    "            episode_average_state = sum(episode_states) / len(episode_states)\n",
    "            episode_average_states.append(episode_average_state)\n",
    "            plot_average_states()\n",
    "            break\n",
    "\n",
    "f.close()\n",
    "print('Complete')\n",
    "plot_average_states(show_result=True)\n",
    "plt.ioff()\n",
    "plt.show() "
   ]
  }
 ],
 "metadata": {
  "kernelspec": {
   "display_name": "base",
   "language": "python",
   "name": "python3"
  },
  "language_info": {
   "codemirror_mode": {
    "name": "ipython",
    "version": 3
   },
   "file_extension": ".py",
   "mimetype": "text/x-python",
   "name": "python",
   "nbconvert_exporter": "python",
   "pygments_lexer": "ipython3",
   "version": "3.11.7"
  }
 },
 "nbformat": 4,
 "nbformat_minor": 2
}
