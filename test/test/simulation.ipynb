{
 "cells": [
  {
   "cell_type": "code",
   "execution_count": 4,
   "id": "a7bd9d47-00f2-4ada-9d59-a1068e21193e",
   "metadata": {},
   "outputs": [
    {
     "name": "stdout",
     "output_type": "stream",
     "text": [
      "\n",
      "---- VEHICLES ----\n",
      "     Step         Id  Speed  Capacity  WaitingTime\n",
      "0       1  bus_r_0_0   0.00        24          0.0\n",
      "1       2  bus_r_0_0   3.14        24          0.0\n",
      "2       3  bus_r_0_0   7.03        24          0.0\n",
      "3       4  bus_r_0_0   9.23        24          0.0\n",
      "4       5  bus_r_0_0  11.54        24          0.0\n",
      "..    ...        ...    ...       ...          ...\n",
      "285    99  bus_r_1_1  35.65        24          0.0\n",
      "286   100  bus_r_0_0   9.16        24          0.0\n",
      "287   100  bus_r_0_1  49.75        24          0.0\n",
      "288   100  bus_r_1_0  39.58        24          0.0\n",
      "289   100  bus_r_1_1  38.50        24          0.0\n",
      "\n",
      "[290 rows x 5 columns]\n",
      "---- PERSONS ----\n",
      "      Step                             Id  \\\n",
      "0        1       person_from_-L1_to_-L2.0   \n",
      "1        1       person_from_-R0_to_-R2.0   \n",
      "2        1  person_from_-R1_to_-overlap.0   \n",
      "3        1  person_from_-overlap_to_-L0.0   \n",
      "4        2       person_from_-L0_to_-L1.0   \n",
      "...    ...                            ...   \n",
      "8899   100  person_from_-overlap_to_-R1.4   \n",
      "8900   100  person_from_-overlap_to_-R1.5   \n",
      "8901   100  person_from_-overlap_to_-R2.0   \n",
      "8902   100  person_from_-overlap_to_-R2.1   \n",
      "8903   100  person_from_-overlap_to_-R2.2   \n",
      "\n",
      "                                       Position  Status  WaitingTime  \n",
      "0      (-1565.9419573355663, 335.5485486954407)       3          1.0  \n",
      "1       (878.5923177655127, 375.48604812122886)       3          1.0  \n",
      "2     (1136.9217042488178, -261.09206010687575)       3          1.0  \n",
      "3       (85.81941447660742, 214.36628459754237)       3          1.0  \n",
      "4       (-657.0828278420395, 594.0154649978168)       3          1.0  \n",
      "...                                         ...     ...          ...  \n",
      "8899    (78.30365105204534, -35.35117196265901)       3          0.0  \n",
      "8900    (78.30365105204534, -35.35117196265901)       3          0.0  \n",
      "8901    (78.30365105204534, -35.35117196265901)       3          0.0  \n",
      "8902    (78.30365105204534, -35.35117196265901)       3          0.0  \n",
      "8903    (78.30365105204534, -35.35117196265901)       3          0.0  \n",
      "\n",
      "[8904 rows x 5 columns]\n"
     ]
    }
   ],
   "source": [
    "import traci\n",
    "import pandas as pd\n",
    "\n",
    "# Connect to SUMO simulation\n",
    "traci.start([\"sumo\", \"-c\", \"C:\\\\Users\\\\sebas\\\\OneDrive\\\\Billeder\\\\Dokumenter\\\\GitHub\\\\P8-Mobility\\\\test\\\\test.sumocfg\"])\n",
    "\n",
    "df = pd.DataFrame(\n",
    "    {\n",
    "    \"Step\": [],\n",
    "    \"Id\": [],\n",
    "    \"Speed\": [],\n",
    "    \"Capacity\": [],\n",
    "    \"Followers\": []\n",
    "    })\n",
    "\n",
    "df2 = pd.DataFrame(\n",
    "    {\n",
    "    \"Step\": [],\n",
    "    \"Id\": [],\n",
    "    \"Position\": [],\n",
    "    \"Status\": [],\n",
    "    \"WaitingTime\": []\n",
    "    })\n",
    "\n",
    "step = 0\n",
    "while step < 100:\n",
    "    traci.simulationStep()\n",
    "\n",
    "    vehicles = traci.vehicle.getIDList()\n",
    "    persons = traci.person.getIDList()\n",
    "\n",
    "    step += 1\n",
    "    \n",
    "    #https://sumo.dlr.de/docs/TraCI/Vehicle_Value_Retrieval.html\n",
    "    #https://sumo.dlr.de/pydoc/traci._vehicle.html#VehicleDomain-getSpeed\n",
    "    for i in range(0,len(vehicles)):\n",
    "        vehicleId = vehicles[i]\n",
    "        vehicleSpeed = round(traci.vehicle.getSpeed(vehicleId)*3.6, 2) # m/s to km/h\n",
    "        vehicleCapacity = traci.vehicle.getPersonCapacity(vehicleId)\n",
    "        vehicleFollower = traci.vehicle.getFollower(vehicleId)\n",
    "        df.loc[len(df)] = {\"Step\": step, \"Id\": vehicleId, \"Speed\": vehicleSpeed, \"Capacity\": vehicleCapacity}\n",
    "        \n",
    "    #https://sumo.dlr.de/pydoc/traci._person.html\n",
    "    for j in range(0,len(persons)):\n",
    "        personId = persons[j]\n",
    "        personPosition = traci.person.getPosition(personId)\n",
    "        personStatus = traci.person.getStage(personId).type\n",
    "        personWaitingTime = traci.person.getWaitingTime(personId)\n",
    "        df2.loc[len(df2)] = {\"Step\": step, \"Id\": personId, \"Position\": str(personPosition), \"Status\": personStatus, \"WaitingTime\": personWaitingTime}\n",
    "\n",
    "    # ML code/funcs here\n",
    "    # control vehicles \n",
    "\n",
    "print()\n",
    "print(\"---- VEHICLES ----\")\n",
    "print(df)\n",
    "\n",
    "print(\"---- PERSONS ----\")\n",
    "print(df2)\n",
    "traci.close() "
   ]
  },
  {
   "cell_type": "code",
   "execution_count": 12,
   "id": "674d7323-f506-43cf-94a5-b2307069ce70",
   "metadata": {},
   "outputs": [
    {
     "name": "stdout",
     "output_type": "stream",
     "text": [
      "0       1.0\n",
      "1       1.0\n",
      "2       1.0\n",
      "3       1.0\n",
      "4       1.0\n",
      "       ... \n",
      "8899    0.0\n",
      "8900    0.0\n",
      "8901    0.0\n",
      "8902    0.0\n",
      "8903    0.0\n",
      "Name: WaitingTime, Length: 8904, dtype: float64\n",
      "\n",
      "avg. waiting time: 29.155884995507638\n"
     ]
    }
   ],
   "source": [
    "#persons wait time column ##filters out values <= 0 \n",
    "s = df2[df2.columns[4]]\n",
    "s.where(s>0).dropna()\n",
    "print(s)\n",
    "\n",
    "#persons waiting time avg\n",
    "print(f\"\\navg. waiting time: {df2[\"WaitingTime\"].mean()}\")"
   ]
  },
  {
   "cell_type": "code",
   "execution_count": 5,
   "id": "637f945d-6ab3-4d54-b166-1f3af97c4a3c",
   "metadata": {},
   "outputs": [
    {
     "name": "stdout",
     "output_type": "stream",
     "text": [
      "42     1.0\n",
      "44     2.0\n",
      "46     3.0\n",
      "189    1.0\n",
      "193    2.0\n",
      "Name: WaitingTime, dtype: float64\n",
      "hello\n"
     ]
    }
   ],
   "source": [
    "#\n",
    "d = df[df.columns[4]]\n",
    "print(d.where(d>0).dropna())\n",
    "\n",
    "print(\"hello\")"
   ]
  }
 ],
 "metadata": {
  "kernelspec": {
   "display_name": "Python 3 (ipykernel)",
   "language": "python",
   "name": "python3"
  },
  "language_info": {
   "codemirror_mode": {
    "name": "ipython",
    "version": 3
   },
   "file_extension": ".py",
   "mimetype": "text/x-python",
   "name": "python",
   "nbconvert_exporter": "python",
   "pygments_lexer": "ipython3",
   "version": "3.12.0"
  }
 },
 "nbformat": 4,
 "nbformat_minor": 5
}
