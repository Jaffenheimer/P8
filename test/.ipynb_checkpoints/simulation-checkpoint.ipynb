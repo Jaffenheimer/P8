{
 "cells": [
  {
   "cell_type": "code",
   "execution_count": 4,
   "id": "a7bd9d47-00f2-4ada-9d59-a1068e21193e",
   "metadata": {},
   "outputs": [
    {
     "ename": "TraCIException",
     "evalue": "Connection 'default' is already active.",
     "output_type": "error",
     "traceback": [
      "\u001b[1;31m---------------------------------------------------------------------------\u001b[0m",
      "\u001b[1;31mTraCIException\u001b[0m                            Traceback (most recent call last)",
      "Cell \u001b[1;32mIn[4], line 5\u001b[0m\n\u001b[0;32m      2\u001b[0m \u001b[38;5;28;01mimport\u001b[39;00m \u001b[38;5;21;01mpandas\u001b[39;00m \u001b[38;5;28;01mas\u001b[39;00m \u001b[38;5;21;01mpd\u001b[39;00m\n\u001b[0;32m      4\u001b[0m \u001b[38;5;66;03m# Connect to SUMO simulation\u001b[39;00m\n\u001b[1;32m----> 5\u001b[0m \u001b[43mtraci\u001b[49m\u001b[38;5;241;43m.\u001b[39;49m\u001b[43mstart\u001b[49m\u001b[43m(\u001b[49m\u001b[43m[\u001b[49m\u001b[38;5;124;43m\"\u001b[39;49m\u001b[38;5;124;43msumo\u001b[39;49m\u001b[38;5;124;43m\"\u001b[39;49m\u001b[43m,\u001b[49m\u001b[43m \u001b[49m\u001b[38;5;124;43m\"\u001b[39;49m\u001b[38;5;124;43m-c\u001b[39;49m\u001b[38;5;124;43m\"\u001b[39;49m\u001b[43m,\u001b[49m\u001b[43m \u001b[49m\u001b[38;5;124;43m\"\u001b[39;49m\u001b[38;5;124;43mC:\u001b[39;49m\u001b[38;5;130;43;01m\\\\\u001b[39;49;00m\u001b[38;5;124;43mUsers\u001b[39;49m\u001b[38;5;130;43;01m\\\\\u001b[39;49;00m\u001b[38;5;124;43msebas\u001b[39;49m\u001b[38;5;130;43;01m\\\\\u001b[39;49;00m\u001b[38;5;124;43mOneDrive\u001b[39;49m\u001b[38;5;130;43;01m\\\\\u001b[39;49;00m\u001b[38;5;124;43mBilleder\u001b[39;49m\u001b[38;5;130;43;01m\\\\\u001b[39;49;00m\u001b[38;5;124;43mDokumenter\u001b[39;49m\u001b[38;5;130;43;01m\\\\\u001b[39;49;00m\u001b[38;5;124;43mGitHub\u001b[39;49m\u001b[38;5;130;43;01m\\\\\u001b[39;49;00m\u001b[38;5;124;43mP8-Mobility\u001b[39;49m\u001b[38;5;130;43;01m\\\\\u001b[39;49;00m\u001b[38;5;124;43mtest\u001b[39;49m\u001b[38;5;130;43;01m\\\\\u001b[39;49;00m\u001b[38;5;124;43mtest.sumocfg\u001b[39;49m\u001b[38;5;124;43m\"\u001b[39;49m\u001b[43m]\u001b[49m\u001b[43m)\u001b[49m\n\u001b[0;32m      7\u001b[0m df \u001b[38;5;241m=\u001b[39m pd\u001b[38;5;241m.\u001b[39mDataFrame(\n\u001b[0;32m      8\u001b[0m     {\n\u001b[0;32m      9\u001b[0m     \u001b[38;5;124m\"\u001b[39m\u001b[38;5;124mStep\u001b[39m\u001b[38;5;124m\"\u001b[39m: [],\n\u001b[1;32m   (...)\u001b[0m\n\u001b[0;32m     13\u001b[0m     \u001b[38;5;124m\"\u001b[39m\u001b[38;5;124mFollower\u001b[39m\u001b[38;5;124m\"\u001b[39m: []\n\u001b[0;32m     14\u001b[0m     })\n\u001b[0;32m     16\u001b[0m df2 \u001b[38;5;241m=\u001b[39m pd\u001b[38;5;241m.\u001b[39mDataFrame(\n\u001b[0;32m     17\u001b[0m     {\n\u001b[0;32m     18\u001b[0m     \u001b[38;5;124m\"\u001b[39m\u001b[38;5;124mStep\u001b[39m\u001b[38;5;124m\"\u001b[39m: [],\n\u001b[1;32m   (...)\u001b[0m\n\u001b[0;32m     22\u001b[0m     \u001b[38;5;124m\"\u001b[39m\u001b[38;5;124mWaitingTime\u001b[39m\u001b[38;5;124m\"\u001b[39m: []\n\u001b[0;32m     23\u001b[0m     })\n",
      "File \u001b[1;32mC:\\Program Files (x86)\\Eclipse\\Sumo\\tools\\traci\\main.py:139\u001b[0m, in \u001b[0;36mstart\u001b[1;34m(cmd, port, numRetries, label, verbose, traceFile, traceGetters, stdout, doSwitch)\u001b[0m\n\u001b[0;32m    124\u001b[0m \u001b[38;5;250m\u001b[39m\u001b[38;5;124;03m\"\"\"\u001b[39;00m\n\u001b[0;32m    125\u001b[0m \u001b[38;5;124;03mStart a sumo server using cmd, establish a connection to it and\u001b[39;00m\n\u001b[0;32m    126\u001b[0m \u001b[38;5;124;03mstore it under the given label. This method is not thread-safe.\u001b[39;00m\n\u001b[1;32m   (...)\u001b[0m\n\u001b[0;32m    136\u001b[0m \u001b[38;5;124;03m- stdout (iostream): where to pipe sumo process stdout\u001b[39;00m\n\u001b[0;32m    137\u001b[0m \u001b[38;5;124;03m\"\"\"\u001b[39;00m\n\u001b[0;32m    138\u001b[0m \u001b[38;5;28;01mif\u001b[39;00m connection\u001b[38;5;241m.\u001b[39mhas(label):\n\u001b[1;32m--> 139\u001b[0m     \u001b[38;5;28;01mraise\u001b[39;00m TraCIException(\u001b[38;5;124m\"\u001b[39m\u001b[38;5;124mConnection \u001b[39m\u001b[38;5;124m'\u001b[39m\u001b[38;5;132;01m%s\u001b[39;00m\u001b[38;5;124m'\u001b[39m\u001b[38;5;124m is already active.\u001b[39m\u001b[38;5;124m\"\u001b[39m \u001b[38;5;241m%\u001b[39m label)\n\u001b[0;32m    140\u001b[0m \u001b[38;5;28;01mwhile\u001b[39;00m numRetries \u001b[38;5;241m>\u001b[39m\u001b[38;5;241m=\u001b[39m \u001b[38;5;241m0\u001b[39m \u001b[38;5;129;01mand\u001b[39;00m \u001b[38;5;129;01mnot\u001b[39;00m connection\u001b[38;5;241m.\u001b[39mhas(label):\n\u001b[0;32m    141\u001b[0m     sumoPort \u001b[38;5;241m=\u001b[39m getFreeSocketPort() \u001b[38;5;28;01mif\u001b[39;00m port \u001b[38;5;129;01mis\u001b[39;00m \u001b[38;5;28;01mNone\u001b[39;00m \u001b[38;5;28;01melse\u001b[39;00m port\n",
      "\u001b[1;31mTraCIException\u001b[0m: Connection 'default' is already active."
     ]
    }
   ],
   "source": [
    "import traci\n",
    "import pandas as pd\n",
    "\n",
    "# Connect to SUMO simulation\n",
    "traci.start([\"sumo\", \"-c\", \"C:\\\\Users\\\\sebas\\\\OneDrive\\\\Billeder\\\\Dokumenter\\\\GitHub\\\\P8-Mobility\\\\test\\\\test.sumocfg\"])\n",
    "\n",
    "df = pd.DataFrame(\n",
    "    {\n",
    "    \"Step\": [],\n",
    "    \"Id\": [],\n",
    "    \"Speed\": [],\n",
    "    \"Capacity\": [],\n",
    "    \"Follower\": []\n",
    "    })\n",
    "\n",
    "df2 = pd.DataFrame(\n",
    "    {\n",
    "    \"Step\": [],\n",
    "    \"Id\": [],\n",
    "    \"Position\": [],\n",
    "    \"Status\": [],\n",
    "    \"WaitingTime\": []\n",
    "    })\n",
    "\n",
    "step = 0\n",
    "while step < 100:\n",
    "    traci.simulationStep()\n",
    "\n",
    "    vehicles = traci.vehicle.getIDList()\n",
    "    persons = traci.person.getIDList()\n",
    "\n",
    "    step += 1\n",
    "    \n",
    "    #https://sumo.dlr.de/docs/TraCI/Vehicle_Value_Retrieval.html\n",
    "    #https://sumo.dlr.de/pydoc/traci._vehicle.html#VehicleDomain-getSpeed\n",
    "    for i in range(0,len(vehicles)):\n",
    "        vehicleId = vehicles[i]\n",
    "        vehicleSpeed = round(traci.vehicle.getSpeed(vehicleId)*3.6, 2) # m/s to km/h\n",
    "        vehicleCapacity = traci.vehicle.getPersonCapacity(vehicleId)\n",
    "        vehicleWaitingTime = traci.vehicle.getWaitingTime(vehicleId)\n",
    "        vehicleFollower = traci.vehicle.getFollower(vehicleId)\n",
    "        print(vehicleFollower)\n",
    "        df.loc[len(df)] = {\"Step\": step, \"Id\": vehicleId, \"Speed\": vehicleSpeed, \"Capacity\": vehicleCapacity}\n",
    "        \n",
    "    #https://sumo.dlr.de/pydoc/traci._person.html\n",
    "    for j in range(0,len(persons)):\n",
    "        personId = persons[j]\n",
    "        personPosition = traci.person.getPosition(personId)\n",
    "        personStatus = traci.person.getStage(personId).type\n",
    "        personWaitingTime = traci.person.getWaitingTime(personId)\n",
    "        df2.loc[len(df2)] = {\"Step\": step, \"Id\": personId, \"Position\": str(personPosition), \"Status\": personStatus, \"WaitingTime\": personWaitingTime}\n",
    "\n",
    "    # ML code/funcs here\n",
    "    # control vehicles \n",
    "\n",
    "print()\n",
    "print(\"---- VEHICLES ----\")\n",
    "print(df)\n",
    "\n",
    "print(\"---- PERSONS ----\")\n",
    "print(df2)\n",
    "traci.close() \n"
   ]
  },
  {
   "cell_type": "code",
   "execution_count": 49,
   "id": "674d7323-f506-43cf-94a5-b2307069ce70",
   "metadata": {},
   "outputs": [
    {
     "data": {
      "text/plain": [
       "Series([], Name: WaitingTime, dtype: float64)"
      ]
     },
     "execution_count": 49,
     "metadata": {},
     "output_type": "execute_result"
    }
   ],
   "source": [
    "s = df2[df2.columns[4]]\n",
    "s.where(s>0).dropna()\n"
   ]
  },
  {
   "cell_type": "code",
   "execution_count": 48,
   "id": "637f945d-6ab3-4d54-b166-1f3af97c4a3c",
   "metadata": {},
   "outputs": [
    {
     "name": "stdout",
     "output_type": "stream",
     "text": [
      "186       1.0\n",
      "223       1.0\n",
      "244       1.0\n",
      "333       1.0\n",
      "430       1.0\n",
      "         ... \n",
      "10403     9.0\n",
      "10410    13.0\n",
      "10414     8.0\n",
      "10417    10.0\n",
      "10418     1.0\n",
      "Name: WaitingTime, Length: 958, dtype: float64\n"
     ]
    }
   ],
   "source": [
    "d = df[df.columns[4]]\n",
    "print(d.where(d>0).dropna())\n"
   ]
  }
 ],
 "metadata": {
  "kernelspec": {
   "display_name": "Python 3 (ipykernel)",
   "language": "python",
   "name": "python3"
  },
  "language_info": {
   "codemirror_mode": {
    "name": "ipython",
    "version": 3
   },
   "file_extension": ".py",
   "mimetype": "text/x-python",
   "name": "python",
   "nbconvert_exporter": "python",
   "pygments_lexer": "ipython3",
   "version": "3.12.0"
  }
 },
 "nbformat": 4,
 "nbformat_minor": 5
}
