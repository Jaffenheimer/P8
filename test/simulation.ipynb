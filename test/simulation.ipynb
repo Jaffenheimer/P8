{
 "cells": [
  {
   "cell_type": "code",
   "execution_count": 11,
   "id": "a7bd9d47-00f2-4ada-9d59-a1068e21193e",
   "metadata": {},
   "outputs": [
    {
     "name": "stdout",
     "output_type": "stream",
     "text": [
      "4696.9949\n",
      "\n",
      "---- VEHICLES ----\n",
      "     Step         Id  Speed  Capacity  DistanceDriven\n",
      "0       1  bus_r_0_0   0.00        24        0.000000\n",
      "1       2  bus_r_0_0   3.14        24        0.873094\n",
      "2       3  bus_r_0_0   7.03        24        2.826233\n",
      "3       4  bus_r_0_0   9.23        24        5.391173\n",
      "4       5  bus_r_0_0  11.54        24        8.598105\n",
      "..    ...        ...    ...       ...             ...\n",
      "285    99  bus_r_1_1  35.65        24      177.767247\n",
      "286   100  bus_r_0_0   9.16        24      978.206177\n",
      "287   100  bus_r_0_1  49.75        24      365.662897\n",
      "288   100  bus_r_1_0  39.58        24      821.325088\n",
      "289   100  bus_r_1_1  38.50        24      188.461185\n",
      "\n",
      "[290 rows x 5 columns]\n"
     ]
    }
   ],
   "source": [
    "import traci\n",
    "import pandas as pd\n",
    "\n",
    "# Connect to SUMO simulation\n",
    "traci.start([\"sumo\", \"-c\", \"C:\\\\Users\\\\sebas\\\\OneDrive\\\\Billeder\\\\Dokumenter\\\\GitHub\\\\P8-Mobility\\\\test\\\\test.sumocfg\"])\n",
    "\n",
    "df = pd.DataFrame(\n",
    "    {\n",
    "    \"Step\": [],\n",
    "    \"Id\": [],\n",
    "    \"Speed\": [],\n",
    "    \"Capacity\": [],\n",
    "    \"DistanceDriven\": []\n",
    "    })\n",
    "\n",
    "df2 = pd.DataFrame(\n",
    "    {\n",
    "    \"Step\": [],\n",
    "    \"Id\": [],\n",
    "    \"Position\": [],\n",
    "    \"Status\": [],\n",
    "    \"WaitingTime\": []\n",
    "    })\n",
    "\n",
    "route_id = \"r_1\"  # replace with your route id\n",
    "route_edges = traci.route.getEdges(route_id)\n",
    "route_length = sum(traci.lane.getLength(edge + \"_0\") for edge in route_edges)\n",
    "print(route_length/100)\n",
    "\n",
    "step = 0\n",
    "while step < 100:\n",
    "    traci.simulationStep()\n",
    "\n",
    "    vehicles = traci.vehicle.getIDList()\n",
    "    persons = traci.person.getIDList()\n",
    "\n",
    "    step += 1\n",
    "\n",
    "    \n",
    "    #https://sumo.dlr.de/docs/TraCI/Vehicle_Value_Retrieval.html\n",
    "    #https://sumo.dlr.de/pydoc/traci._vehicle.html#VehicleDomain-getSpeed\n",
    "    for i in range(0,len(vehicles)):\n",
    "        vehicleId = vehicles[i]\n",
    "        vehicleSpeed = round(traci.vehicle.getSpeed(vehicleId)*3.6, 2) # m/s to km/h\n",
    "        vehicleCapacity = traci.vehicle.getPersonCapacity(vehicleId)\n",
    "        vehicleWaitingTime = traci.vehicle.getWaitingTime(vehicleId)\n",
    "        vehicleDistanceDriven = traci.vehicle.getDistance(vehicleId)\n",
    "        df.loc[len(df)] = {\"Step\": step, \"Id\": vehicleId, \"Speed\": vehicleSpeed, \"Capacity\": vehicleCapacity, \"DistanceDriven\": vehicleDistanceDriven}\n",
    "        \n",
    "#     # #https://sumo.dlr.de/pydoc/traci._person.html\n",
    "#     # for j in range(0,len(persons)):\n",
    "#     #     personId = persons[j]\n",
    "#     #     personPosition = traci.person.getPosition(personId)\n",
    "#     #     personStatus = traci.person.getStage(personId).type\n",
    "#     #     personWaitingTime = traci.person.getWaitingTime(personId)\n",
    "#     #     df2.loc[len(df2)] = {\"Step\": step, \"Id\": personId, \"Position\": str(personPosition), \"Status\": personStatus, \"WaitingTime\": personWaitingTime}\n",
    "\n",
    "#     # ML code/funcs here\n",
    "#     # control vehicles \n",
    "\n",
    "print()\n",
    "print(\"---- VEHICLES ----\")\n",
    "print(df)\n",
    "\n",
    "# print(\"---- PERSONS ----\")\n",
    "# print(df2)\n",
    "traci.close() \n"
   ]
  },
  {
   "cell_type": "code",
   "execution_count": 49,
   "id": "674d7323-f506-43cf-94a5-b2307069ce70",
   "metadata": {},
   "outputs": [
    {
     "data": {
      "text/plain": [
       "Series([], Name: WaitingTime, dtype: float64)"
      ]
     },
     "execution_count": 49,
     "metadata": {},
     "output_type": "execute_result"
    }
   ],
   "source": [
    "s = df2[df2.columns[4]]\n",
    "s.where(s>0).dropna()\n"
   ]
  },
  {
   "cell_type": "code",
   "execution_count": 48,
   "id": "637f945d-6ab3-4d54-b166-1f3af97c4a3c",
   "metadata": {},
   "outputs": [
    {
     "name": "stdout",
     "output_type": "stream",
     "text": [
      "186       1.0\n",
      "223       1.0\n",
      "244       1.0\n",
      "333       1.0\n",
      "430       1.0\n",
      "         ... \n",
      "10403     9.0\n",
      "10410    13.0\n",
      "10414     8.0\n",
      "10417    10.0\n",
      "10418     1.0\n",
      "Name: WaitingTime, Length: 958, dtype: float64\n"
     ]
    }
   ],
   "source": [
    "d = df[df.columns[4]]\n",
    "print(d.where(d>0).dropna())\n"
   ]
  },
  {
   "cell_type": "code",
   "execution_count": 4,
   "id": "4963e464",
   "metadata": {},
   "outputs": [],
   "source": [
    "traci.close()"
   ]
  }
 ],
 "metadata": {
  "kernelspec": {
   "display_name": "Python 3 (ipykernel)",
   "language": "python",
   "name": "python3"
  },
  "language_info": {
   "codemirror_mode": {
    "name": "ipython",
    "version": 3
   },
   "file_extension": ".py",
   "mimetype": "text/x-python",
   "name": "python",
   "nbconvert_exporter": "python",
   "pygments_lexer": "ipython3",
   "version": "3.12.0"
  }
 },
 "nbformat": 4,
 "nbformat_minor": 5
}
